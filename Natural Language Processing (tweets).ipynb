{
 "cells": [
  {
   "cell_type": "markdown",
   "metadata": {},
   "source": [
    "### Load essential libraries"
   ]
  },
  {
   "cell_type": "code",
   "execution_count": 2,
   "metadata": {},
   "outputs": [],
   "source": [
    "import pandas as pd\n",
    "import numpy as np\n",
    "import spacy\n",
    "from spacy.lang.en.stop_words import STOP_WORDS"
   ]
  },
  {
   "cell_type": "markdown",
   "metadata": {},
   "source": [
    "### Load data"
   ]
  },
  {
   "cell_type": "code",
   "execution_count": 3,
   "metadata": {},
   "outputs": [],
   "source": [
    "df = pd.read_csv('twitter-data/twitter_16m.csv', encoding = 'latin1', header = None)"
   ]
  },
  {
   "cell_type": "code",
   "execution_count": 4,
   "metadata": {},
   "outputs": [
    {
     "data": {
      "text/html": [
       "<div>\n",
       "<style scoped>\n",
       "    .dataframe tbody tr th:only-of-type {\n",
       "        vertical-align: middle;\n",
       "    }\n",
       "\n",
       "    .dataframe tbody tr th {\n",
       "        vertical-align: top;\n",
       "    }\n",
       "\n",
       "    .dataframe thead th {\n",
       "        text-align: right;\n",
       "    }\n",
       "</style>\n",
       "<table border=\"1\" class=\"dataframe\">\n",
       "  <thead>\n",
       "    <tr style=\"text-align: right;\">\n",
       "      <th></th>\n",
       "      <th>0</th>\n",
       "      <th>1</th>\n",
       "      <th>2</th>\n",
       "      <th>3</th>\n",
       "      <th>4</th>\n",
       "      <th>5</th>\n",
       "    </tr>\n",
       "  </thead>\n",
       "  <tbody>\n",
       "    <tr>\n",
       "      <th>0</th>\n",
       "      <td>0</td>\n",
       "      <td>1467810369</td>\n",
       "      <td>Mon Apr 06 22:19:45 PDT 2009</td>\n",
       "      <td>NO_QUERY</td>\n",
       "      <td>_TheSpecialOne_</td>\n",
       "      <td>@switchfoot http://twitpic.com/2y1zl - Awww, t...</td>\n",
       "    </tr>\n",
       "    <tr>\n",
       "      <th>1</th>\n",
       "      <td>0</td>\n",
       "      <td>1467810672</td>\n",
       "      <td>Mon Apr 06 22:19:49 PDT 2009</td>\n",
       "      <td>NO_QUERY</td>\n",
       "      <td>scotthamilton</td>\n",
       "      <td>is upset that he can't update his Facebook by ...</td>\n",
       "    </tr>\n",
       "    <tr>\n",
       "      <th>2</th>\n",
       "      <td>0</td>\n",
       "      <td>1467810917</td>\n",
       "      <td>Mon Apr 06 22:19:53 PDT 2009</td>\n",
       "      <td>NO_QUERY</td>\n",
       "      <td>mattycus</td>\n",
       "      <td>@Kenichan I dived many times for the ball. Man...</td>\n",
       "    </tr>\n",
       "    <tr>\n",
       "      <th>3</th>\n",
       "      <td>0</td>\n",
       "      <td>1467811184</td>\n",
       "      <td>Mon Apr 06 22:19:57 PDT 2009</td>\n",
       "      <td>NO_QUERY</td>\n",
       "      <td>ElleCTF</td>\n",
       "      <td>my whole body feels itchy and like its on fire</td>\n",
       "    </tr>\n",
       "    <tr>\n",
       "      <th>4</th>\n",
       "      <td>0</td>\n",
       "      <td>1467811193</td>\n",
       "      <td>Mon Apr 06 22:19:57 PDT 2009</td>\n",
       "      <td>NO_QUERY</td>\n",
       "      <td>Karoli</td>\n",
       "      <td>@nationwideclass no, it's not behaving at all....</td>\n",
       "    </tr>\n",
       "  </tbody>\n",
       "</table>\n",
       "</div>"
      ],
      "text/plain": [
       "   0           1                             2         3                4  \\\n",
       "0  0  1467810369  Mon Apr 06 22:19:45 PDT 2009  NO_QUERY  _TheSpecialOne_   \n",
       "1  0  1467810672  Mon Apr 06 22:19:49 PDT 2009  NO_QUERY    scotthamilton   \n",
       "2  0  1467810917  Mon Apr 06 22:19:53 PDT 2009  NO_QUERY         mattycus   \n",
       "3  0  1467811184  Mon Apr 06 22:19:57 PDT 2009  NO_QUERY          ElleCTF   \n",
       "4  0  1467811193  Mon Apr 06 22:19:57 PDT 2009  NO_QUERY           Karoli   \n",
       "\n",
       "                                                   5  \n",
       "0  @switchfoot http://twitpic.com/2y1zl - Awww, t...  \n",
       "1  is upset that he can't update his Facebook by ...  \n",
       "2  @Kenichan I dived many times for the ball. Man...  \n",
       "3    my whole body feels itchy and like its on fire   \n",
       "4  @nationwideclass no, it's not behaving at all....  "
      ]
     },
     "execution_count": 4,
     "metadata": {},
     "output_type": "execute_result"
    }
   ],
   "source": [
    "df.head()"
   ]
  },
  {
   "cell_type": "markdown",
   "metadata": {},
   "source": [
    "### Assigning colums "
   ]
  },
  {
   "cell_type": "code",
   "execution_count": 5,
   "metadata": {},
   "outputs": [],
   "source": [
    "df = df[[5, 0]]"
   ]
  },
  {
   "cell_type": "code",
   "execution_count": 6,
   "metadata": {},
   "outputs": [],
   "source": [
    "df.columns = ['twitts', 'sentiment']"
   ]
  },
  {
   "cell_type": "code",
   "execution_count": 7,
   "metadata": {},
   "outputs": [
    {
     "data": {
      "text/html": [
       "<div>\n",
       "<style scoped>\n",
       "    .dataframe tbody tr th:only-of-type {\n",
       "        vertical-align: middle;\n",
       "    }\n",
       "\n",
       "    .dataframe tbody tr th {\n",
       "        vertical-align: top;\n",
       "    }\n",
       "\n",
       "    .dataframe thead th {\n",
       "        text-align: right;\n",
       "    }\n",
       "</style>\n",
       "<table border=\"1\" class=\"dataframe\">\n",
       "  <thead>\n",
       "    <tr style=\"text-align: right;\">\n",
       "      <th></th>\n",
       "      <th>twitts</th>\n",
       "      <th>sentiment</th>\n",
       "    </tr>\n",
       "  </thead>\n",
       "  <tbody>\n",
       "    <tr>\n",
       "      <th>0</th>\n",
       "      <td>@switchfoot http://twitpic.com/2y1zl - Awww, t...</td>\n",
       "      <td>0</td>\n",
       "    </tr>\n",
       "    <tr>\n",
       "      <th>1</th>\n",
       "      <td>is upset that he can't update his Facebook by ...</td>\n",
       "      <td>0</td>\n",
       "    </tr>\n",
       "    <tr>\n",
       "      <th>2</th>\n",
       "      <td>@Kenichan I dived many times for the ball. Man...</td>\n",
       "      <td>0</td>\n",
       "    </tr>\n",
       "    <tr>\n",
       "      <th>3</th>\n",
       "      <td>my whole body feels itchy and like its on fire</td>\n",
       "      <td>0</td>\n",
       "    </tr>\n",
       "    <tr>\n",
       "      <th>4</th>\n",
       "      <td>@nationwideclass no, it's not behaving at all....</td>\n",
       "      <td>0</td>\n",
       "    </tr>\n",
       "  </tbody>\n",
       "</table>\n",
       "</div>"
      ],
      "text/plain": [
       "                                              twitts  sentiment\n",
       "0  @switchfoot http://twitpic.com/2y1zl - Awww, t...          0\n",
       "1  is upset that he can't update his Facebook by ...          0\n",
       "2  @Kenichan I dived many times for the ball. Man...          0\n",
       "3    my whole body feels itchy and like its on fire           0\n",
       "4  @nationwideclass no, it's not behaving at all....          0"
      ]
     },
     "execution_count": 7,
     "metadata": {},
     "output_type": "execute_result"
    }
   ],
   "source": [
    "df.head()"
   ]
  },
  {
   "cell_type": "code",
   "execution_count": 8,
   "metadata": {},
   "outputs": [
    {
     "data": {
      "text/plain": [
       "4    800000\n",
       "0    800000\n",
       "Name: sentiment, dtype: int64"
      ]
     },
     "execution_count": 8,
     "metadata": {},
     "output_type": "execute_result"
    }
   ],
   "source": [
    "df['sentiment'].value_counts()"
   ]
  },
  {
   "cell_type": "markdown",
   "metadata": {},
   "source": [
    "### Assigning Mappings to sentiment"
   ]
  },
  {
   "cell_type": "code",
   "execution_count": 9,
   "metadata": {},
   "outputs": [],
   "source": [
    "sent_map ={0: 'negative', 4:'positive'}"
   ]
  },
  {
   "cell_type": "markdown",
   "metadata": {},
   "source": [
    "### Word Counts"
   ]
  },
  {
   "cell_type": "code",
   "execution_count": 10,
   "metadata": {},
   "outputs": [
    {
     "data": {
      "text/plain": [
       "0          19\n",
       "1          21\n",
       "2          18\n",
       "3          10\n",
       "4          21\n",
       "           ..\n",
       "1599995    11\n",
       "1599996    11\n",
       "1599997    11\n",
       "1599998    12\n",
       "1599999     5\n",
       "Name: twitts, Length: 1600000, dtype: int64"
      ]
     },
     "execution_count": 10,
     "metadata": {},
     "output_type": "execute_result"
    }
   ],
   "source": [
    "df['twitts'].apply(lambda x: len(str(x).split()))"
   ]
  },
  {
   "cell_type": "markdown",
   "metadata": {},
   "source": [
    "save the num of word in each twitts in a new column for all the rows"
   ]
  },
  {
   "cell_type": "code",
   "execution_count": 11,
   "metadata": {},
   "outputs": [],
   "source": [
    "df['word_counts']= df['twitts'].apply(lambda x: len(str(x).split()))"
   ]
  },
  {
   "cell_type": "code",
   "execution_count": 12,
   "metadata": {},
   "outputs": [
    {
     "data": {
      "text/html": [
       "<div>\n",
       "<style scoped>\n",
       "    .dataframe tbody tr th:only-of-type {\n",
       "        vertical-align: middle;\n",
       "    }\n",
       "\n",
       "    .dataframe tbody tr th {\n",
       "        vertical-align: top;\n",
       "    }\n",
       "\n",
       "    .dataframe thead th {\n",
       "        text-align: right;\n",
       "    }\n",
       "</style>\n",
       "<table border=\"1\" class=\"dataframe\">\n",
       "  <thead>\n",
       "    <tr style=\"text-align: right;\">\n",
       "      <th></th>\n",
       "      <th>twitts</th>\n",
       "      <th>sentiment</th>\n",
       "      <th>word_counts</th>\n",
       "    </tr>\n",
       "  </thead>\n",
       "  <tbody>\n",
       "    <tr>\n",
       "      <th>0</th>\n",
       "      <td>@switchfoot http://twitpic.com/2y1zl - Awww, t...</td>\n",
       "      <td>0</td>\n",
       "      <td>19</td>\n",
       "    </tr>\n",
       "    <tr>\n",
       "      <th>1</th>\n",
       "      <td>is upset that he can't update his Facebook by ...</td>\n",
       "      <td>0</td>\n",
       "      <td>21</td>\n",
       "    </tr>\n",
       "    <tr>\n",
       "      <th>2</th>\n",
       "      <td>@Kenichan I dived many times for the ball. Man...</td>\n",
       "      <td>0</td>\n",
       "      <td>18</td>\n",
       "    </tr>\n",
       "    <tr>\n",
       "      <th>3</th>\n",
       "      <td>my whole body feels itchy and like its on fire</td>\n",
       "      <td>0</td>\n",
       "      <td>10</td>\n",
       "    </tr>\n",
       "    <tr>\n",
       "      <th>4</th>\n",
       "      <td>@nationwideclass no, it's not behaving at all....</td>\n",
       "      <td>0</td>\n",
       "      <td>21</td>\n",
       "    </tr>\n",
       "  </tbody>\n",
       "</table>\n",
       "</div>"
      ],
      "text/plain": [
       "                                              twitts  sentiment  word_counts\n",
       "0  @switchfoot http://twitpic.com/2y1zl - Awww, t...          0           19\n",
       "1  is upset that he can't update his Facebook by ...          0           21\n",
       "2  @Kenichan I dived many times for the ball. Man...          0           18\n",
       "3    my whole body feels itchy and like its on fire           0           10\n",
       "4  @nationwideclass no, it's not behaving at all....          0           21"
      ]
     },
     "execution_count": 12,
     "metadata": {},
     "output_type": "execute_result"
    }
   ],
   "source": [
    "df.head()"
   ]
  },
  {
   "cell_type": "markdown",
   "metadata": {},
   "source": [
    "#### Characters Count"
   ]
  },
  {
   "cell_type": "code",
   "execution_count": 13,
   "metadata": {},
   "outputs": [],
   "source": [
    "df['character_counts']= df['twitts'].apply(lambda x: len(x))"
   ]
  },
  {
   "cell_type": "code",
   "execution_count": 14,
   "metadata": {},
   "outputs": [
    {
     "data": {
      "text/html": [
       "<div>\n",
       "<style scoped>\n",
       "    .dataframe tbody tr th:only-of-type {\n",
       "        vertical-align: middle;\n",
       "    }\n",
       "\n",
       "    .dataframe tbody tr th {\n",
       "        vertical-align: top;\n",
       "    }\n",
       "\n",
       "    .dataframe thead th {\n",
       "        text-align: right;\n",
       "    }\n",
       "</style>\n",
       "<table border=\"1\" class=\"dataframe\">\n",
       "  <thead>\n",
       "    <tr style=\"text-align: right;\">\n",
       "      <th></th>\n",
       "      <th>twitts</th>\n",
       "      <th>sentiment</th>\n",
       "      <th>word_counts</th>\n",
       "      <th>character_counts</th>\n",
       "    </tr>\n",
       "  </thead>\n",
       "  <tbody>\n",
       "    <tr>\n",
       "      <th>0</th>\n",
       "      <td>@switchfoot http://twitpic.com/2y1zl - Awww, t...</td>\n",
       "      <td>0</td>\n",
       "      <td>19</td>\n",
       "      <td>115</td>\n",
       "    </tr>\n",
       "    <tr>\n",
       "      <th>1</th>\n",
       "      <td>is upset that he can't update his Facebook by ...</td>\n",
       "      <td>0</td>\n",
       "      <td>21</td>\n",
       "      <td>111</td>\n",
       "    </tr>\n",
       "    <tr>\n",
       "      <th>2</th>\n",
       "      <td>@Kenichan I dived many times for the ball. Man...</td>\n",
       "      <td>0</td>\n",
       "      <td>18</td>\n",
       "      <td>89</td>\n",
       "    </tr>\n",
       "    <tr>\n",
       "      <th>3</th>\n",
       "      <td>my whole body feels itchy and like its on fire</td>\n",
       "      <td>0</td>\n",
       "      <td>10</td>\n",
       "      <td>47</td>\n",
       "    </tr>\n",
       "    <tr>\n",
       "      <th>4</th>\n",
       "      <td>@nationwideclass no, it's not behaving at all....</td>\n",
       "      <td>0</td>\n",
       "      <td>21</td>\n",
       "      <td>111</td>\n",
       "    </tr>\n",
       "  </tbody>\n",
       "</table>\n",
       "</div>"
      ],
      "text/plain": [
       "                                              twitts  sentiment  word_counts  \\\n",
       "0  @switchfoot http://twitpic.com/2y1zl - Awww, t...          0           19   \n",
       "1  is upset that he can't update his Facebook by ...          0           21   \n",
       "2  @Kenichan I dived many times for the ball. Man...          0           18   \n",
       "3    my whole body feels itchy and like its on fire           0           10   \n",
       "4  @nationwideclass no, it's not behaving at all....          0           21   \n",
       "\n",
       "   character_counts  \n",
       "0               115  \n",
       "1               111  \n",
       "2                89  \n",
       "3                47  \n",
       "4               111  "
      ]
     },
     "execution_count": 14,
     "metadata": {},
     "output_type": "execute_result"
    }
   ],
   "source": [
    "df.head()"
   ]
  },
  {
   "cell_type": "markdown",
   "metadata": {},
   "source": [
    "### Average Word Length"
   ]
  },
  {
   "cell_type": "code",
   "execution_count": 15,
   "metadata": {},
   "outputs": [],
   "source": [
    "def get_avg_word_len(x):\n",
    "    words = x.split()\n",
    "    word_len = 0\n",
    "    for word in words:\n",
    "        word_len = word_len + len(word)\n",
    "        return word_len/len(words) # != len(x)/len(words)"
   ]
  },
  {
   "cell_type": "code",
   "execution_count": 16,
   "metadata": {},
   "outputs": [],
   "source": [
    "df['avg_word_len'] = df['twitts'].apply(lambda x: get_avg_word_len(x))"
   ]
  },
  {
   "cell_type": "code",
   "execution_count": 17,
   "metadata": {},
   "outputs": [
    {
     "data": {
      "text/plain": [
       "16"
      ]
     },
     "execution_count": 17,
     "metadata": {},
     "output_type": "execute_result"
    }
   ],
   "source": [
    "len('this is nlp demo')"
   ]
  },
  {
   "cell_type": "markdown",
   "metadata": {},
   "source": [
    "there are four words, so, we going to divide by 4"
   ]
  },
  {
   "cell_type": "code",
   "execution_count": 18,
   "metadata": {},
   "outputs": [
    {
     "data": {
      "text/plain": [
       "4.0"
      ]
     },
     "execution_count": 18,
     "metadata": {},
     "output_type": "execute_result"
    }
   ],
   "source": [
    "len('this is nlp demo')/4"
   ]
  },
  {
   "cell_type": "markdown",
   "metadata": {},
   "source": [
    "this mean , there are 4 characters per words."
   ]
  },
  {
   "cell_type": "code",
   "execution_count": 19,
   "metadata": {},
   "outputs": [
    {
     "data": {
      "text/html": [
       "<div>\n",
       "<style scoped>\n",
       "    .dataframe tbody tr th:only-of-type {\n",
       "        vertical-align: middle;\n",
       "    }\n",
       "\n",
       "    .dataframe tbody tr th {\n",
       "        vertical-align: top;\n",
       "    }\n",
       "\n",
       "    .dataframe thead th {\n",
       "        text-align: right;\n",
       "    }\n",
       "</style>\n",
       "<table border=\"1\" class=\"dataframe\">\n",
       "  <thead>\n",
       "    <tr style=\"text-align: right;\">\n",
       "      <th></th>\n",
       "      <th>twitts</th>\n",
       "      <th>sentiment</th>\n",
       "      <th>word_counts</th>\n",
       "      <th>character_counts</th>\n",
       "      <th>avg_word_len</th>\n",
       "    </tr>\n",
       "  </thead>\n",
       "  <tbody>\n",
       "    <tr>\n",
       "      <th>0</th>\n",
       "      <td>@switchfoot http://twitpic.com/2y1zl - Awww, t...</td>\n",
       "      <td>0</td>\n",
       "      <td>19</td>\n",
       "      <td>115</td>\n",
       "      <td>0.578947</td>\n",
       "    </tr>\n",
       "    <tr>\n",
       "      <th>1</th>\n",
       "      <td>is upset that he can't update his Facebook by ...</td>\n",
       "      <td>0</td>\n",
       "      <td>21</td>\n",
       "      <td>111</td>\n",
       "      <td>0.095238</td>\n",
       "    </tr>\n",
       "    <tr>\n",
       "      <th>2</th>\n",
       "      <td>@Kenichan I dived many times for the ball. Man...</td>\n",
       "      <td>0</td>\n",
       "      <td>18</td>\n",
       "      <td>89</td>\n",
       "      <td>0.500000</td>\n",
       "    </tr>\n",
       "    <tr>\n",
       "      <th>3</th>\n",
       "      <td>my whole body feels itchy and like its on fire</td>\n",
       "      <td>0</td>\n",
       "      <td>10</td>\n",
       "      <td>47</td>\n",
       "      <td>0.200000</td>\n",
       "    </tr>\n",
       "    <tr>\n",
       "      <th>4</th>\n",
       "      <td>@nationwideclass no, it's not behaving at all....</td>\n",
       "      <td>0</td>\n",
       "      <td>21</td>\n",
       "      <td>111</td>\n",
       "      <td>0.761905</td>\n",
       "    </tr>\n",
       "  </tbody>\n",
       "</table>\n",
       "</div>"
      ],
      "text/plain": [
       "                                              twitts  sentiment  word_counts  \\\n",
       "0  @switchfoot http://twitpic.com/2y1zl - Awww, t...          0           19   \n",
       "1  is upset that he can't update his Facebook by ...          0           21   \n",
       "2  @Kenichan I dived many times for the ball. Man...          0           18   \n",
       "3    my whole body feels itchy and like its on fire           0           10   \n",
       "4  @nationwideclass no, it's not behaving at all....          0           21   \n",
       "\n",
       "   character_counts  avg_word_len  \n",
       "0               115      0.578947  \n",
       "1               111      0.095238  \n",
       "2                89      0.500000  \n",
       "3                47      0.200000  \n",
       "4               111      0.761905  "
      ]
     },
     "execution_count": 19,
     "metadata": {},
     "output_type": "execute_result"
    }
   ],
   "source": [
    "df.head()"
   ]
  },
  {
   "cell_type": "markdown",
   "metadata": {},
   "source": [
    "you can see that so far we have extracted 4 features(sentiment, words, character and avg word length)"
   ]
  },
  {
   "cell_type": "code",
   "execution_count": 20,
   "metadata": {},
   "outputs": [
    {
     "data": {
      "text/plain": [
       "6.052631578947368"
      ]
     },
     "execution_count": 20,
     "metadata": {},
     "output_type": "execute_result"
    }
   ],
   "source": [
    "115/19"
   ]
  },
  {
   "cell_type": "markdown",
   "metadata": {},
   "source": [
    "### Stop Words Counts"
   ]
  },
  {
   "cell_type": "code",
   "execution_count": 21,
   "metadata": {},
   "outputs": [
    {
     "name": "stdout",
     "output_type": "stream",
     "text": [
      "{'twelve', 'besides', 'during', 'front', 'beside', 'five', \"'ve\", 'one', '’s', 'must', 'behind', 'perhaps', 'then', 'though', 'once', 'ourselves', 'side', 'but', 'via', 'herself', 'how', 'seeming', 'several', 'seem', 'his', 'as', 'becoming', 'six', 'sometimes', 'himself', 'me', 'myself', 'made', 'off', 'wherein', 'being', 'you', 'to', 'yet', \"'d\", 'due', 'hundred', 'who', 'or', 'neither', 'twenty', '‘d', 'any', 'at', 'otherwise', 'something', 'nine', 'go', 'sixty', 'three', 'a', 'upon', 'elsewhere', '‘ll', '’d', '’re', 'whereas', 'now', '’ll', 'toward', 'else', 'bottom', 'an', 'from', 'rather', 'therein', 'nobody', 'only', 'some', 'forty', 'anyone', 'she', 'somewhere', 'towards', 'onto', 'after', 'however', 'thru', 'everything', 'cannot', 'your', 'all', 'among', 'into', 'never', 'make', 'whereupon', 'most', 'up', 'last', 'say', 'whose', 'per', '‘ve', 'whenever', 'least', 'again', 'anything', 'hers', 'over', 'why', 'anywhere', 'since', 'could', 'eight', 'whom', 'about', 'are', 'beforehand', 'have', 'doing', 'it', 'somehow', 'what', 'various', 'had', 'please', 'enough', 'amount', 'mine', 'almost', 'below', 'can', 'first', 'is', 'latter', 'mostly', 'herein', 'does', 'show', 'the', 'its', 'moreover', 'thereafter', 'therefore', 'without', 'so', 'before', 'many', 'everyone', 'afterwards', 'get', 'hereafter', 'here', 'around', 'either', 'whatever', 'except', 'nor', 'he', 'seems', 'none', 'former', 'seemed', 'n‘t', 'just', 'everywhere', 'meanwhile', 'these', 'top', 'for', 'us', 'each', 'someone', 'part', 'our', 'would', 'yourself', 'anyway', 'move', 'put', 'between', 'there', 'always', 'anyhow', 'been', 'him', '‘s', 'back', 'not', 'together', 'which', 'under', 'hereupon', 'third', 'they', 'less', 'no', 'her', 'out', 'through', 'other', 'n’t', 'whereby', 'with', 'latterly', 'this', 'keep', 'eleven', 'i', 'were', 'sometime', 'although', 'thereby', 'even', 'done', 'do', 'those', 'two', 'within', 'also', 're', 'noone', 'themselves', 'might', 'whole', 'next', 'own', 'itself', 'often', 'my', 'name', 'throughout', \"n't\", 'than', 'against', \"'re\", 'give', 'quite', 'we', 'alone', \"'ll\", 'and', 'when', 'really', 'did', 'beyond', 'on', 'along', 'few', 'ever', 'in', 'see', 'too', 'namely', 'well', 'whither', 'another', 'four', 'such', 'hereby', 'thence', 'until', 'using', 'becomes', 'ours', 'because', 'take', 'above', 'regarding', 'indeed', 'nothing', 'by', 'hence', 'am', 'formerly', 'serious', 'still', 'thus', 'call', 'full', 'down', 'further', 'very', 'has', 'thereupon', \"'s\", 'amongst', 'may', 'be', 'wherever', 'yours', 'every', 'fifteen', 'nevertheless', 'nowhere', 'more', 'where', 'ten', \"'m\", '’ve', 'became', 'whereafter', 'while', 'whether', 'of', 'them', 'whence', 'if', 'will', 'yourselves', 'whoever', 'that', 'much', 'used', '‘re', 'should', 'both', 'same', 'was', 'fifty', 'unless', '‘m', '’m', 'empty', 'their', 'become', 'others', 'ca', 'already', 'across'}\n"
     ]
    }
   ],
   "source": [
    "print(STOP_WORDS)"
   ]
  },
  {
   "cell_type": "code",
   "execution_count": 22,
   "metadata": {},
   "outputs": [
    {
     "data": {
      "text/plain": [
       "2"
      ]
     },
     "execution_count": 22,
     "metadata": {},
     "output_type": "execute_result"
    }
   ],
   "source": [
    "#for your understanding , how it works\n",
    "x= 'this is text data demo'\n",
    "len([t for t in x.split() if t in STOP_WORDS])"
   ]
  },
  {
   "cell_type": "markdown",
   "metadata": {},
   "source": [
    "this means, there are two stop words present in the data x"
   ]
  },
  {
   "cell_type": "code",
   "execution_count": 23,
   "metadata": {},
   "outputs": [
    {
     "data": {
      "text/plain": [
       "['this', 'is', 'text', 'data', 'demo']"
      ]
     },
     "execution_count": 23,
     "metadata": {},
     "output_type": "execute_result"
    }
   ],
   "source": [
    "x.split()"
   ]
  },
  {
   "cell_type": "code",
   "execution_count": 24,
   "metadata": {},
   "outputs": [
    {
     "data": {
      "text/plain": [
       "0           4\n",
       "1           9\n",
       "2           7\n",
       "3           5\n",
       "4          10\n",
       "           ..\n",
       "1599995     4\n",
       "1599996     1\n",
       "1599997     5\n",
       "1599998     3\n",
       "1599999     0\n",
       "Name: twitts, Length: 1600000, dtype: int64"
      ]
     },
     "execution_count": 24,
     "metadata": {},
     "output_type": "execute_result"
    }
   ],
   "source": [
    "#Removing stop words\n",
    "df['twitts'].apply(lambda x: len([t for t in x.split() if t in STOP_WORDS]))"
   ]
  },
  {
   "cell_type": "code",
   "execution_count": 25,
   "metadata": {},
   "outputs": [],
   "source": [
    "#store this in a new column\n",
    "df['stop_words_len'] = df['twitts'].apply(lambda x: len([t for t in x.split() if t in STOP_WORDS]))"
   ]
  },
  {
   "cell_type": "code",
   "execution_count": 26,
   "metadata": {},
   "outputs": [
    {
     "data": {
      "text/html": [
       "<div>\n",
       "<style scoped>\n",
       "    .dataframe tbody tr th:only-of-type {\n",
       "        vertical-align: middle;\n",
       "    }\n",
       "\n",
       "    .dataframe tbody tr th {\n",
       "        vertical-align: top;\n",
       "    }\n",
       "\n",
       "    .dataframe thead th {\n",
       "        text-align: right;\n",
       "    }\n",
       "</style>\n",
       "<table border=\"1\" class=\"dataframe\">\n",
       "  <thead>\n",
       "    <tr style=\"text-align: right;\">\n",
       "      <th></th>\n",
       "      <th>twitts</th>\n",
       "      <th>sentiment</th>\n",
       "      <th>word_counts</th>\n",
       "      <th>character_counts</th>\n",
       "      <th>avg_word_len</th>\n",
       "      <th>stop_words_len</th>\n",
       "    </tr>\n",
       "  </thead>\n",
       "  <tbody>\n",
       "    <tr>\n",
       "      <th>0</th>\n",
       "      <td>@switchfoot http://twitpic.com/2y1zl - Awww, t...</td>\n",
       "      <td>0</td>\n",
       "      <td>19</td>\n",
       "      <td>115</td>\n",
       "      <td>0.578947</td>\n",
       "      <td>4</td>\n",
       "    </tr>\n",
       "    <tr>\n",
       "      <th>1</th>\n",
       "      <td>is upset that he can't update his Facebook by ...</td>\n",
       "      <td>0</td>\n",
       "      <td>21</td>\n",
       "      <td>111</td>\n",
       "      <td>0.095238</td>\n",
       "      <td>9</td>\n",
       "    </tr>\n",
       "    <tr>\n",
       "      <th>2</th>\n",
       "      <td>@Kenichan I dived many times for the ball. Man...</td>\n",
       "      <td>0</td>\n",
       "      <td>18</td>\n",
       "      <td>89</td>\n",
       "      <td>0.500000</td>\n",
       "      <td>7</td>\n",
       "    </tr>\n",
       "    <tr>\n",
       "      <th>3</th>\n",
       "      <td>my whole body feels itchy and like its on fire</td>\n",
       "      <td>0</td>\n",
       "      <td>10</td>\n",
       "      <td>47</td>\n",
       "      <td>0.200000</td>\n",
       "      <td>5</td>\n",
       "    </tr>\n",
       "    <tr>\n",
       "      <th>4</th>\n",
       "      <td>@nationwideclass no, it's not behaving at all....</td>\n",
       "      <td>0</td>\n",
       "      <td>21</td>\n",
       "      <td>111</td>\n",
       "      <td>0.761905</td>\n",
       "      <td>10</td>\n",
       "    </tr>\n",
       "  </tbody>\n",
       "</table>\n",
       "</div>"
      ],
      "text/plain": [
       "                                              twitts  sentiment  word_counts  \\\n",
       "0  @switchfoot http://twitpic.com/2y1zl - Awww, t...          0           19   \n",
       "1  is upset that he can't update his Facebook by ...          0           21   \n",
       "2  @Kenichan I dived many times for the ball. Man...          0           18   \n",
       "3    my whole body feels itchy and like its on fire           0           10   \n",
       "4  @nationwideclass no, it's not behaving at all....          0           21   \n",
       "\n",
       "   character_counts  avg_word_len  stop_words_len  \n",
       "0               115      0.578947               4  \n",
       "1               111      0.095238               9  \n",
       "2                89      0.500000               7  \n",
       "3                47      0.200000               5  \n",
       "4               111      0.761905              10  "
      ]
     },
     "execution_count": 26,
     "metadata": {},
     "output_type": "execute_result"
    }
   ],
   "source": [
    "df.head()"
   ]
  },
  {
   "cell_type": "markdown",
   "metadata": {},
   "source": [
    "### Count #HashTags and @Mentions"
   ]
  },
  {
   "cell_type": "code",
   "execution_count": 27,
   "metadata": {},
   "outputs": [],
   "source": [
    "x =  'this is hashtag and this is @mentions'\n",
    "#x = x.split()\n",
    "#x"
   ]
  },
  {
   "cell_type": "code",
   "execution_count": 28,
   "metadata": {},
   "outputs": [
    {
     "data": {
      "text/plain": [
       "[]"
      ]
     },
     "execution_count": 28,
     "metadata": {},
     "output_type": "execute_result"
    }
   ],
   "source": [
    "#word token\n",
    "[ t for t in x.split() if t.startswith('#')]"
   ]
  },
  {
   "cell_type": "code",
   "execution_count": 29,
   "metadata": {},
   "outputs": [],
   "source": [
    "df['hashtags_count'] = df['twitts'].apply(lambda x: len([t for t in x.split() if t.startswith('#')]))\n",
    "df['mentions_count'] = df['twitts'].apply(lambda x: len([t for t in x.split() if t.startswith('@')]))"
   ]
  },
  {
   "cell_type": "code",
   "execution_count": 30,
   "metadata": {},
   "outputs": [
    {
     "data": {
      "text/html": [
       "<div>\n",
       "<style scoped>\n",
       "    .dataframe tbody tr th:only-of-type {\n",
       "        vertical-align: middle;\n",
       "    }\n",
       "\n",
       "    .dataframe tbody tr th {\n",
       "        vertical-align: top;\n",
       "    }\n",
       "\n",
       "    .dataframe thead th {\n",
       "        text-align: right;\n",
       "    }\n",
       "</style>\n",
       "<table border=\"1\" class=\"dataframe\">\n",
       "  <thead>\n",
       "    <tr style=\"text-align: right;\">\n",
       "      <th></th>\n",
       "      <th>twitts</th>\n",
       "      <th>sentiment</th>\n",
       "      <th>word_counts</th>\n",
       "      <th>character_counts</th>\n",
       "      <th>avg_word_len</th>\n",
       "      <th>stop_words_len</th>\n",
       "      <th>hashtags_count</th>\n",
       "      <th>mentions_count</th>\n",
       "    </tr>\n",
       "  </thead>\n",
       "  <tbody>\n",
       "    <tr>\n",
       "      <th>0</th>\n",
       "      <td>@switchfoot http://twitpic.com/2y1zl - Awww, t...</td>\n",
       "      <td>0</td>\n",
       "      <td>19</td>\n",
       "      <td>115</td>\n",
       "      <td>0.578947</td>\n",
       "      <td>4</td>\n",
       "      <td>0</td>\n",
       "      <td>1</td>\n",
       "    </tr>\n",
       "    <tr>\n",
       "      <th>1</th>\n",
       "      <td>is upset that he can't update his Facebook by ...</td>\n",
       "      <td>0</td>\n",
       "      <td>21</td>\n",
       "      <td>111</td>\n",
       "      <td>0.095238</td>\n",
       "      <td>9</td>\n",
       "      <td>0</td>\n",
       "      <td>0</td>\n",
       "    </tr>\n",
       "    <tr>\n",
       "      <th>2</th>\n",
       "      <td>@Kenichan I dived many times for the ball. Man...</td>\n",
       "      <td>0</td>\n",
       "      <td>18</td>\n",
       "      <td>89</td>\n",
       "      <td>0.500000</td>\n",
       "      <td>7</td>\n",
       "      <td>0</td>\n",
       "      <td>1</td>\n",
       "    </tr>\n",
       "    <tr>\n",
       "      <th>3</th>\n",
       "      <td>my whole body feels itchy and like its on fire</td>\n",
       "      <td>0</td>\n",
       "      <td>10</td>\n",
       "      <td>47</td>\n",
       "      <td>0.200000</td>\n",
       "      <td>5</td>\n",
       "      <td>0</td>\n",
       "      <td>0</td>\n",
       "    </tr>\n",
       "    <tr>\n",
       "      <th>4</th>\n",
       "      <td>@nationwideclass no, it's not behaving at all....</td>\n",
       "      <td>0</td>\n",
       "      <td>21</td>\n",
       "      <td>111</td>\n",
       "      <td>0.761905</td>\n",
       "      <td>10</td>\n",
       "      <td>0</td>\n",
       "      <td>1</td>\n",
       "    </tr>\n",
       "  </tbody>\n",
       "</table>\n",
       "</div>"
      ],
      "text/plain": [
       "                                              twitts  sentiment  word_counts  \\\n",
       "0  @switchfoot http://twitpic.com/2y1zl - Awww, t...          0           19   \n",
       "1  is upset that he can't update his Facebook by ...          0           21   \n",
       "2  @Kenichan I dived many times for the ball. Man...          0           18   \n",
       "3    my whole body feels itchy and like its on fire           0           10   \n",
       "4  @nationwideclass no, it's not behaving at all....          0           21   \n",
       "\n",
       "   character_counts  avg_word_len  stop_words_len  hashtags_count  \\\n",
       "0               115      0.578947               4               0   \n",
       "1               111      0.095238               9               0   \n",
       "2                89      0.500000               7               0   \n",
       "3                47      0.200000               5               0   \n",
       "4               111      0.761905              10               0   \n",
       "\n",
       "   mentions_count  \n",
       "0               1  \n",
       "1               0  \n",
       "2               1  \n",
       "3               0  \n",
       "4               1  "
      ]
     },
     "execution_count": 30,
     "metadata": {},
     "output_type": "execute_result"
    }
   ],
   "source": [
    "df.head()"
   ]
  },
  {
   "cell_type": "markdown",
   "metadata": {},
   "source": [
    "### If numeric digits are present in twitts"
   ]
  },
  {
   "cell_type": "code",
   "execution_count": 31,
   "metadata": {},
   "outputs": [],
   "source": [
    "df['numerics_count'] = df['twitts'].apply(lambda x: len([t for t in x.split() if t.isdigit()]))"
   ]
  },
  {
   "cell_type": "code",
   "execution_count": 32,
   "metadata": {},
   "outputs": [
    {
     "data": {
      "text/html": [
       "<div>\n",
       "<style scoped>\n",
       "    .dataframe tbody tr th:only-of-type {\n",
       "        vertical-align: middle;\n",
       "    }\n",
       "\n",
       "    .dataframe tbody tr th {\n",
       "        vertical-align: top;\n",
       "    }\n",
       "\n",
       "    .dataframe thead th {\n",
       "        text-align: right;\n",
       "    }\n",
       "</style>\n",
       "<table border=\"1\" class=\"dataframe\">\n",
       "  <thead>\n",
       "    <tr style=\"text-align: right;\">\n",
       "      <th></th>\n",
       "      <th>twitts</th>\n",
       "      <th>sentiment</th>\n",
       "      <th>word_counts</th>\n",
       "      <th>character_counts</th>\n",
       "      <th>avg_word_len</th>\n",
       "      <th>stop_words_len</th>\n",
       "      <th>hashtags_count</th>\n",
       "      <th>mentions_count</th>\n",
       "      <th>numerics_count</th>\n",
       "    </tr>\n",
       "  </thead>\n",
       "  <tbody>\n",
       "    <tr>\n",
       "      <th>0</th>\n",
       "      <td>@switchfoot http://twitpic.com/2y1zl - Awww, t...</td>\n",
       "      <td>0</td>\n",
       "      <td>19</td>\n",
       "      <td>115</td>\n",
       "      <td>0.578947</td>\n",
       "      <td>4</td>\n",
       "      <td>0</td>\n",
       "      <td>1</td>\n",
       "      <td>0</td>\n",
       "    </tr>\n",
       "    <tr>\n",
       "      <th>1</th>\n",
       "      <td>is upset that he can't update his Facebook by ...</td>\n",
       "      <td>0</td>\n",
       "      <td>21</td>\n",
       "      <td>111</td>\n",
       "      <td>0.095238</td>\n",
       "      <td>9</td>\n",
       "      <td>0</td>\n",
       "      <td>0</td>\n",
       "      <td>0</td>\n",
       "    </tr>\n",
       "    <tr>\n",
       "      <th>2</th>\n",
       "      <td>@Kenichan I dived many times for the ball. Man...</td>\n",
       "      <td>0</td>\n",
       "      <td>18</td>\n",
       "      <td>89</td>\n",
       "      <td>0.500000</td>\n",
       "      <td>7</td>\n",
       "      <td>0</td>\n",
       "      <td>1</td>\n",
       "      <td>0</td>\n",
       "    </tr>\n",
       "    <tr>\n",
       "      <th>3</th>\n",
       "      <td>my whole body feels itchy and like its on fire</td>\n",
       "      <td>0</td>\n",
       "      <td>10</td>\n",
       "      <td>47</td>\n",
       "      <td>0.200000</td>\n",
       "      <td>5</td>\n",
       "      <td>0</td>\n",
       "      <td>0</td>\n",
       "      <td>0</td>\n",
       "    </tr>\n",
       "    <tr>\n",
       "      <th>4</th>\n",
       "      <td>@nationwideclass no, it's not behaving at all....</td>\n",
       "      <td>0</td>\n",
       "      <td>21</td>\n",
       "      <td>111</td>\n",
       "      <td>0.761905</td>\n",
       "      <td>10</td>\n",
       "      <td>0</td>\n",
       "      <td>1</td>\n",
       "      <td>0</td>\n",
       "    </tr>\n",
       "  </tbody>\n",
       "</table>\n",
       "</div>"
      ],
      "text/plain": [
       "                                              twitts  sentiment  word_counts  \\\n",
       "0  @switchfoot http://twitpic.com/2y1zl - Awww, t...          0           19   \n",
       "1  is upset that he can't update his Facebook by ...          0           21   \n",
       "2  @Kenichan I dived many times for the ball. Man...          0           18   \n",
       "3    my whole body feels itchy and like its on fire           0           10   \n",
       "4  @nationwideclass no, it's not behaving at all....          0           21   \n",
       "\n",
       "   character_counts  avg_word_len  stop_words_len  hashtags_count  \\\n",
       "0               115      0.578947               4               0   \n",
       "1               111      0.095238               9               0   \n",
       "2                89      0.500000               7               0   \n",
       "3                47      0.200000               5               0   \n",
       "4               111      0.761905              10               0   \n",
       "\n",
       "   mentions_count  numerics_count  \n",
       "0               1               0  \n",
       "1               0               0  \n",
       "2               1               0  \n",
       "3               0               0  \n",
       "4               1               0  "
      ]
     },
     "execution_count": 32,
     "metadata": {},
     "output_type": "execute_result"
    }
   ],
   "source": [
    "df.head()"
   ]
  },
  {
   "cell_type": "markdown",
   "metadata": {},
   "source": [
    "### If there are any Upper case words are present in twitts"
   ]
  },
  {
   "cell_type": "code",
   "execution_count": 33,
   "metadata": {},
   "outputs": [],
   "source": [
    "df['upper_count'] = df['twitts'].apply(lambda x: len([t for t in x.split() if t.isupper() and len(x)>3]))"
   ]
  },
  {
   "cell_type": "code",
   "execution_count": 34,
   "metadata": {},
   "outputs": [
    {
     "data": {
      "text/html": [
       "<div>\n",
       "<style scoped>\n",
       "    .dataframe tbody tr th:only-of-type {\n",
       "        vertical-align: middle;\n",
       "    }\n",
       "\n",
       "    .dataframe tbody tr th {\n",
       "        vertical-align: top;\n",
       "    }\n",
       "\n",
       "    .dataframe thead th {\n",
       "        text-align: right;\n",
       "    }\n",
       "</style>\n",
       "<table border=\"1\" class=\"dataframe\">\n",
       "  <thead>\n",
       "    <tr style=\"text-align: right;\">\n",
       "      <th></th>\n",
       "      <th>twitts</th>\n",
       "      <th>sentiment</th>\n",
       "      <th>word_counts</th>\n",
       "      <th>character_counts</th>\n",
       "      <th>avg_word_len</th>\n",
       "      <th>stop_words_len</th>\n",
       "      <th>hashtags_count</th>\n",
       "      <th>mentions_count</th>\n",
       "      <th>numerics_count</th>\n",
       "      <th>upper_count</th>\n",
       "    </tr>\n",
       "  </thead>\n",
       "  <tbody>\n",
       "    <tr>\n",
       "      <th>0</th>\n",
       "      <td>@switchfoot http://twitpic.com/2y1zl - Awww, t...</td>\n",
       "      <td>0</td>\n",
       "      <td>19</td>\n",
       "      <td>115</td>\n",
       "      <td>0.578947</td>\n",
       "      <td>4</td>\n",
       "      <td>0</td>\n",
       "      <td>1</td>\n",
       "      <td>0</td>\n",
       "      <td>1</td>\n",
       "    </tr>\n",
       "    <tr>\n",
       "      <th>1</th>\n",
       "      <td>is upset that he can't update his Facebook by ...</td>\n",
       "      <td>0</td>\n",
       "      <td>21</td>\n",
       "      <td>111</td>\n",
       "      <td>0.095238</td>\n",
       "      <td>9</td>\n",
       "      <td>0</td>\n",
       "      <td>0</td>\n",
       "      <td>0</td>\n",
       "      <td>0</td>\n",
       "    </tr>\n",
       "    <tr>\n",
       "      <th>2</th>\n",
       "      <td>@Kenichan I dived many times for the ball. Man...</td>\n",
       "      <td>0</td>\n",
       "      <td>18</td>\n",
       "      <td>89</td>\n",
       "      <td>0.500000</td>\n",
       "      <td>7</td>\n",
       "      <td>0</td>\n",
       "      <td>1</td>\n",
       "      <td>0</td>\n",
       "      <td>1</td>\n",
       "    </tr>\n",
       "    <tr>\n",
       "      <th>3</th>\n",
       "      <td>my whole body feels itchy and like its on fire</td>\n",
       "      <td>0</td>\n",
       "      <td>10</td>\n",
       "      <td>47</td>\n",
       "      <td>0.200000</td>\n",
       "      <td>5</td>\n",
       "      <td>0</td>\n",
       "      <td>0</td>\n",
       "      <td>0</td>\n",
       "      <td>0</td>\n",
       "    </tr>\n",
       "    <tr>\n",
       "      <th>4</th>\n",
       "      <td>@nationwideclass no, it's not behaving at all....</td>\n",
       "      <td>0</td>\n",
       "      <td>21</td>\n",
       "      <td>111</td>\n",
       "      <td>0.761905</td>\n",
       "      <td>10</td>\n",
       "      <td>0</td>\n",
       "      <td>1</td>\n",
       "      <td>0</td>\n",
       "      <td>1</td>\n",
       "    </tr>\n",
       "  </tbody>\n",
       "</table>\n",
       "</div>"
      ],
      "text/plain": [
       "                                              twitts  sentiment  word_counts  \\\n",
       "0  @switchfoot http://twitpic.com/2y1zl - Awww, t...          0           19   \n",
       "1  is upset that he can't update his Facebook by ...          0           21   \n",
       "2  @Kenichan I dived many times for the ball. Man...          0           18   \n",
       "3    my whole body feels itchy and like its on fire           0           10   \n",
       "4  @nationwideclass no, it's not behaving at all....          0           21   \n",
       "\n",
       "   character_counts  avg_word_len  stop_words_len  hashtags_count  \\\n",
       "0               115      0.578947               4               0   \n",
       "1               111      0.095238               9               0   \n",
       "2                89      0.500000               7               0   \n",
       "3                47      0.200000               5               0   \n",
       "4               111      0.761905              10               0   \n",
       "\n",
       "   mentions_count  numerics_count  upper_count  \n",
       "0               1               0            1  \n",
       "1               0               0            0  \n",
       "2               1               0            1  \n",
       "3               0               0            0  \n",
       "4               1               0            1  "
      ]
     },
     "execution_count": 34,
     "metadata": {},
     "output_type": "execute_result"
    }
   ],
   "source": [
    "df.head()"
   ]
  },
  {
   "cell_type": "code",
   "execution_count": 35,
   "metadata": {},
   "outputs": [
    {
     "data": {
      "text/plain": [
       "\"so rylee,grace...wana go steve's party or not?? SADLY SINCE ITS EASTER I WNT B ABLE 2 DO MUCH  BUT OHH WELL.....\""
      ]
     },
     "execution_count": 35,
     "metadata": {},
     "output_type": "execute_result"
    }
   ],
   "source": [
    "#let look at some twitts\n",
    "df.loc[96]['twitts']"
   ]
  },
  {
   "cell_type": "markdown",
   "metadata": {},
   "source": [
    "### Preprocessing and cleaning of this text data"
   ]
  },
  {
   "cell_type": "markdown",
   "metadata": {},
   "source": [
    "### Lower case conversion"
   ]
  },
  {
   "cell_type": "code",
   "execution_count": 36,
   "metadata": {},
   "outputs": [],
   "source": [
    "df['twitts'] = df['twitts'].apply(lambda x: x.lower())"
   ]
  },
  {
   "cell_type": "code",
   "execution_count": 37,
   "metadata": {},
   "outputs": [
    {
     "data": {
      "text/html": [
       "<div>\n",
       "<style scoped>\n",
       "    .dataframe tbody tr th:only-of-type {\n",
       "        vertical-align: middle;\n",
       "    }\n",
       "\n",
       "    .dataframe tbody tr th {\n",
       "        vertical-align: top;\n",
       "    }\n",
       "\n",
       "    .dataframe thead th {\n",
       "        text-align: right;\n",
       "    }\n",
       "</style>\n",
       "<table border=\"1\" class=\"dataframe\">\n",
       "  <thead>\n",
       "    <tr style=\"text-align: right;\">\n",
       "      <th></th>\n",
       "      <th>twitts</th>\n",
       "      <th>sentiment</th>\n",
       "      <th>word_counts</th>\n",
       "      <th>character_counts</th>\n",
       "      <th>avg_word_len</th>\n",
       "      <th>stop_words_len</th>\n",
       "      <th>hashtags_count</th>\n",
       "      <th>mentions_count</th>\n",
       "      <th>numerics_count</th>\n",
       "      <th>upper_count</th>\n",
       "    </tr>\n",
       "  </thead>\n",
       "  <tbody>\n",
       "    <tr>\n",
       "      <th>0</th>\n",
       "      <td>@switchfoot http://twitpic.com/2y1zl - awww, t...</td>\n",
       "      <td>0</td>\n",
       "      <td>19</td>\n",
       "      <td>115</td>\n",
       "      <td>0.578947</td>\n",
       "      <td>4</td>\n",
       "      <td>0</td>\n",
       "      <td>1</td>\n",
       "      <td>0</td>\n",
       "      <td>1</td>\n",
       "    </tr>\n",
       "    <tr>\n",
       "      <th>1</th>\n",
       "      <td>is upset that he can't update his facebook by ...</td>\n",
       "      <td>0</td>\n",
       "      <td>21</td>\n",
       "      <td>111</td>\n",
       "      <td>0.095238</td>\n",
       "      <td>9</td>\n",
       "      <td>0</td>\n",
       "      <td>0</td>\n",
       "      <td>0</td>\n",
       "      <td>0</td>\n",
       "    </tr>\n",
       "  </tbody>\n",
       "</table>\n",
       "</div>"
      ],
      "text/plain": [
       "                                              twitts  sentiment  word_counts  \\\n",
       "0  @switchfoot http://twitpic.com/2y1zl - awww, t...          0           19   \n",
       "1  is upset that he can't update his facebook by ...          0           21   \n",
       "\n",
       "   character_counts  avg_word_len  stop_words_len  hashtags_count  \\\n",
       "0               115      0.578947               4               0   \n",
       "1               111      0.095238               9               0   \n",
       "\n",
       "   mentions_count  numerics_count  upper_count  \n",
       "0               1               0            1  \n",
       "1               0               0            0  "
      ]
     },
     "execution_count": 37,
     "metadata": {},
     "output_type": "execute_result"
    }
   ],
   "source": [
    "df.head(2)"
   ]
  },
  {
   "cell_type": "markdown",
   "metadata": {},
   "source": [
    "### Correcting Contraction to Expansion"
   ]
  },
  {
   "cell_type": "markdown",
   "metadata": {},
   "source": [
    "#examples of contraction\n",
    "x = \"i don't know what you want, can't, he'll, i'd\". get a full list of contraction from wikipedia"
   ]
  },
  {
   "cell_type": "code",
   "execution_count": 38,
   "metadata": {},
   "outputs": [],
   "source": [
    "x = \"i don't know what you want, can't, he'll, i'd\""
   ]
  },
  {
   "cell_type": "code",
   "execution_count": 39,
   "metadata": {},
   "outputs": [],
   "source": [
    "contractions = {\"aight\":\"alright\",\n",
    "\"ain't\":\"am not\", \n",
    "\"amn't\": \"am not\",\n",
    "\"aren't\": \"are not\",\n",
    "\"can't\":\"cannot\",\n",
    "\"cause\": \"because\",\n",
    "\"could've\": \"could have\",\n",
    "\"couldn't\": \"could not\",\n",
    "\"couldn't've\": \"could not have\",\n",
    "\"daren't\": \"dare not\",\n",
    "\"didn't\": \"did not\",\n",
    "\"doesn't\": \"does not\",\n",
    "\"don't\": \"do not\",\n",
    "\"dunno\":\"don't know\", \n",
    "\"don't know\":\"do not know\",\n",
    "\"d'ye\":\"do you\",\n",
    "\"d'ye\":\"did you\",\n",
    "\"e'er\":\"ever\",\n",
    "\"everybody's\":\"everybody is\",\n",
    "\"everyone's\":\"everyone is\",\n",
    "\"i'd\":\"I would\",\n",
    "\"i'd've\": \"I would have\"\n",
    "             \n",
    "}"
   ]
  },
  {
   "cell_type": "code",
   "execution_count": 40,
   "metadata": {},
   "outputs": [],
   "source": [
    "def cont_to_exp(x):\n",
    "    if type(x) is str:\n",
    "        for key in contractions:\n",
    "            value = contractions[key]\n",
    "            x = x.replace(key, value)\n",
    "            return x\n",
    "        else:\n",
    "            return x"
   ]
  },
  {
   "cell_type": "code",
   "execution_count": 41,
   "metadata": {},
   "outputs": [],
   "source": [
    "x = \"hi, i'd be happy\""
   ]
  },
  {
   "cell_type": "code",
   "execution_count": 42,
   "metadata": {},
   "outputs": [
    {
     "data": {
      "text/plain": [
       "\"hi, i'd be happy\""
      ]
     },
     "execution_count": 42,
     "metadata": {},
     "output_type": "execute_result"
    }
   ],
   "source": [
    "cont_to_exp(x)"
   ]
  },
  {
   "cell_type": "code",
   "execution_count": 43,
   "metadata": {},
   "outputs": [
    {
     "name": "stdout",
     "output_type": "stream",
     "text": [
      "Wall time: 3.58 s\n"
     ]
    }
   ],
   "source": [
    "%%time\n",
    "df['twitts']= df['twitts'].apply(lambda x: cont_to_exp(x))"
   ]
  },
  {
   "cell_type": "code",
   "execution_count": 44,
   "metadata": {},
   "outputs": [
    {
     "data": {
      "text/html": [
       "<div>\n",
       "<style scoped>\n",
       "    .dataframe tbody tr th:only-of-type {\n",
       "        vertical-align: middle;\n",
       "    }\n",
       "\n",
       "    .dataframe tbody tr th {\n",
       "        vertical-align: top;\n",
       "    }\n",
       "\n",
       "    .dataframe thead th {\n",
       "        text-align: right;\n",
       "    }\n",
       "</style>\n",
       "<table border=\"1\" class=\"dataframe\">\n",
       "  <thead>\n",
       "    <tr style=\"text-align: right;\">\n",
       "      <th></th>\n",
       "      <th>twitts</th>\n",
       "      <th>sentiment</th>\n",
       "      <th>word_counts</th>\n",
       "      <th>character_counts</th>\n",
       "      <th>avg_word_len</th>\n",
       "      <th>stop_words_len</th>\n",
       "      <th>hashtags_count</th>\n",
       "      <th>mentions_count</th>\n",
       "      <th>numerics_count</th>\n",
       "      <th>upper_count</th>\n",
       "    </tr>\n",
       "  </thead>\n",
       "  <tbody>\n",
       "    <tr>\n",
       "      <th>0</th>\n",
       "      <td>@switchfoot http://twitpic.com/2y1zl - awww, t...</td>\n",
       "      <td>0</td>\n",
       "      <td>19</td>\n",
       "      <td>115</td>\n",
       "      <td>0.578947</td>\n",
       "      <td>4</td>\n",
       "      <td>0</td>\n",
       "      <td>1</td>\n",
       "      <td>0</td>\n",
       "      <td>1</td>\n",
       "    </tr>\n",
       "    <tr>\n",
       "      <th>1</th>\n",
       "      <td>is upset that he can't update his facebook by ...</td>\n",
       "      <td>0</td>\n",
       "      <td>21</td>\n",
       "      <td>111</td>\n",
       "      <td>0.095238</td>\n",
       "      <td>9</td>\n",
       "      <td>0</td>\n",
       "      <td>0</td>\n",
       "      <td>0</td>\n",
       "      <td>0</td>\n",
       "    </tr>\n",
       "    <tr>\n",
       "      <th>2</th>\n",
       "      <td>@kenichan i dived many times for the ball. man...</td>\n",
       "      <td>0</td>\n",
       "      <td>18</td>\n",
       "      <td>89</td>\n",
       "      <td>0.500000</td>\n",
       "      <td>7</td>\n",
       "      <td>0</td>\n",
       "      <td>1</td>\n",
       "      <td>0</td>\n",
       "      <td>1</td>\n",
       "    </tr>\n",
       "    <tr>\n",
       "      <th>3</th>\n",
       "      <td>my whole body feels itchy and like its on fire</td>\n",
       "      <td>0</td>\n",
       "      <td>10</td>\n",
       "      <td>47</td>\n",
       "      <td>0.200000</td>\n",
       "      <td>5</td>\n",
       "      <td>0</td>\n",
       "      <td>0</td>\n",
       "      <td>0</td>\n",
       "      <td>0</td>\n",
       "    </tr>\n",
       "    <tr>\n",
       "      <th>4</th>\n",
       "      <td>@nationwideclass no, it's not behaving at all....</td>\n",
       "      <td>0</td>\n",
       "      <td>21</td>\n",
       "      <td>111</td>\n",
       "      <td>0.761905</td>\n",
       "      <td>10</td>\n",
       "      <td>0</td>\n",
       "      <td>1</td>\n",
       "      <td>0</td>\n",
       "      <td>1</td>\n",
       "    </tr>\n",
       "  </tbody>\n",
       "</table>\n",
       "</div>"
      ],
      "text/plain": [
       "                                              twitts  sentiment  word_counts  \\\n",
       "0  @switchfoot http://twitpic.com/2y1zl - awww, t...          0           19   \n",
       "1  is upset that he can't update his facebook by ...          0           21   \n",
       "2  @kenichan i dived many times for the ball. man...          0           18   \n",
       "3    my whole body feels itchy and like its on fire           0           10   \n",
       "4  @nationwideclass no, it's not behaving at all....          0           21   \n",
       "\n",
       "   character_counts  avg_word_len  stop_words_len  hashtags_count  \\\n",
       "0               115      0.578947               4               0   \n",
       "1               111      0.095238               9               0   \n",
       "2                89      0.500000               7               0   \n",
       "3                47      0.200000               5               0   \n",
       "4               111      0.761905              10               0   \n",
       "\n",
       "   mentions_count  numerics_count  upper_count  \n",
       "0               1               0            1  \n",
       "1               0               0            0  \n",
       "2               1               0            1  \n",
       "3               0               0            0  \n",
       "4               1               0            1  "
      ]
     },
     "execution_count": 44,
     "metadata": {},
     "output_type": "execute_result"
    }
   ],
   "source": [
    "df.head()"
   ]
  },
  {
   "cell_type": "markdown",
   "metadata": {},
   "source": [
    "### Count and Remove Emails"
   ]
  },
  {
   "cell_type": "code",
   "execution_count": 45,
   "metadata": {},
   "outputs": [],
   "source": [
    "import re"
   ]
  },
  {
   "cell_type": "code",
   "execution_count": 46,
   "metadata": {},
   "outputs": [],
   "source": [
    "x = 'hi, email me at email@email.com another@email.com'"
   ]
  },
  {
   "cell_type": "code",
   "execution_count": 47,
   "metadata": {},
   "outputs": [
    {
     "data": {
      "text/plain": [
       "[]"
      ]
     },
     "execution_count": 47,
     "metadata": {},
     "output_type": "execute_result"
    }
   ],
   "source": [
    "re.findall('r([a-zA-Z0-9+._-]+@[a-zA-Z0-9._-]+\\.[a-zA-Z0-9_-]+)', x)"
   ]
  },
  {
   "cell_type": "code",
   "execution_count": 48,
   "metadata": {},
   "outputs": [],
   "source": [
    "df['emails'] = df['twitts'].apply(lambda x: re.findall('r([a-zA-Z0-9+._-]+@[a-zA-Z0-9._-]+\\.[a-zA-Z0-9_-]+)', x))"
   ]
  },
  {
   "cell_type": "code",
   "execution_count": 49,
   "metadata": {},
   "outputs": [],
   "source": [
    "df['emails_count'] = df['emails'].apply(lambda x: len(x))"
   ]
  },
  {
   "cell_type": "code",
   "execution_count": 50,
   "metadata": {},
   "outputs": [
    {
     "data": {
      "text/html": [
       "<div>\n",
       "<style scoped>\n",
       "    .dataframe tbody tr th:only-of-type {\n",
       "        vertical-align: middle;\n",
       "    }\n",
       "\n",
       "    .dataframe tbody tr th {\n",
       "        vertical-align: top;\n",
       "    }\n",
       "\n",
       "    .dataframe thead th {\n",
       "        text-align: right;\n",
       "    }\n",
       "</style>\n",
       "<table border=\"1\" class=\"dataframe\">\n",
       "  <thead>\n",
       "    <tr style=\"text-align: right;\">\n",
       "      <th></th>\n",
       "      <th>twitts</th>\n",
       "      <th>sentiment</th>\n",
       "      <th>word_counts</th>\n",
       "      <th>character_counts</th>\n",
       "      <th>avg_word_len</th>\n",
       "      <th>stop_words_len</th>\n",
       "      <th>hashtags_count</th>\n",
       "      <th>mentions_count</th>\n",
       "      <th>numerics_count</th>\n",
       "      <th>upper_count</th>\n",
       "      <th>emails</th>\n",
       "      <th>emails_count</th>\n",
       "    </tr>\n",
       "  </thead>\n",
       "  <tbody>\n",
       "    <tr>\n",
       "      <th>4054</th>\n",
       "      <td>i want a new laptop.  hp tx2000 is the bomb. :...</td>\n",
       "      <td>0</td>\n",
       "      <td>20</td>\n",
       "      <td>103</td>\n",
       "      <td>0.050000</td>\n",
       "      <td>6</td>\n",
       "      <td>0</td>\n",
       "      <td>0</td>\n",
       "      <td>0</td>\n",
       "      <td>4</td>\n",
       "      <td>[amos@yahoo.com]</td>\n",
       "      <td>1</td>\n",
       "    </tr>\n",
       "    <tr>\n",
       "      <th>8496</th>\n",
       "      <td>@alexistehpom  really? did you send out all th...</td>\n",
       "      <td>0</td>\n",
       "      <td>20</td>\n",
       "      <td>130</td>\n",
       "      <td>0.650000</td>\n",
       "      <td>11</td>\n",
       "      <td>0</td>\n",
       "      <td>1</td>\n",
       "      <td>0</td>\n",
       "      <td>0</td>\n",
       "      <td>[i@gmail.com]</td>\n",
       "      <td>1</td>\n",
       "    </tr>\n",
       "    <tr>\n",
       "      <th>16413</th>\n",
       "      <td>@jilliancyork  got 2 bottom of it, human error...</td>\n",
       "      <td>0</td>\n",
       "      <td>21</td>\n",
       "      <td>137</td>\n",
       "      <td>0.619048</td>\n",
       "      <td>7</td>\n",
       "      <td>0</td>\n",
       "      <td>1</td>\n",
       "      <td>1</td>\n",
       "      <td>0</td>\n",
       "      <td>[ess@linkedin.com]</td>\n",
       "      <td>1</td>\n",
       "    </tr>\n",
       "    <tr>\n",
       "      <th>72386</th>\n",
       "      <td>madonnafae ok, i found this on a fluff page~ e...</td>\n",
       "      <td>0</td>\n",
       "      <td>22</td>\n",
       "      <td>136</td>\n",
       "      <td>0.454545</td>\n",
       "      <td>9</td>\n",
       "      <td>0</td>\n",
       "      <td>0</td>\n",
       "      <td>0</td>\n",
       "      <td>0</td>\n",
       "      <td>[qj8ga@facebook.com]</td>\n",
       "      <td>1</td>\n",
       "    </tr>\n",
       "    <tr>\n",
       "      <th>74295</th>\n",
       "      <td>@lovetoblog i can't dm you my email cos you're...</td>\n",
       "      <td>0</td>\n",
       "      <td>16</td>\n",
       "      <td>105</td>\n",
       "      <td>0.687500</td>\n",
       "      <td>6</td>\n",
       "      <td>0</td>\n",
       "      <td>1</td>\n",
       "      <td>0</td>\n",
       "      <td>2</td>\n",
       "      <td>[en@live.co.uk]</td>\n",
       "      <td>1</td>\n",
       "    </tr>\n",
       "  </tbody>\n",
       "</table>\n",
       "</div>"
      ],
      "text/plain": [
       "                                                  twitts  sentiment  \\\n",
       "4054   i want a new laptop.  hp tx2000 is the bomb. :...          0   \n",
       "8496   @alexistehpom  really? did you send out all th...          0   \n",
       "16413  @jilliancyork  got 2 bottom of it, human error...          0   \n",
       "72386  madonnafae ok, i found this on a fluff page~ e...          0   \n",
       "74295  @lovetoblog i can't dm you my email cos you're...          0   \n",
       "\n",
       "       word_counts  character_counts  avg_word_len  stop_words_len  \\\n",
       "4054            20               103      0.050000               6   \n",
       "8496            20               130      0.650000              11   \n",
       "16413           21               137      0.619048               7   \n",
       "72386           22               136      0.454545               9   \n",
       "74295           16               105      0.687500               6   \n",
       "\n",
       "       hashtags_count  mentions_count  numerics_count  upper_count  \\\n",
       "4054                0               0               0            4   \n",
       "8496                0               1               0            0   \n",
       "16413               0               1               1            0   \n",
       "72386               0               0               0            0   \n",
       "74295               0               1               0            2   \n",
       "\n",
       "                     emails  emails_count  \n",
       "4054       [amos@yahoo.com]             1  \n",
       "8496          [i@gmail.com]             1  \n",
       "16413    [ess@linkedin.com]             1  \n",
       "72386  [qj8ga@facebook.com]             1  \n",
       "74295       [en@live.co.uk]             1  "
      ]
     },
     "execution_count": 50,
     "metadata": {},
     "output_type": "execute_result"
    }
   ],
   "source": [
    "df[df['emails_count']>0].head()"
   ]
  },
  {
   "cell_type": "code",
   "execution_count": 51,
   "metadata": {},
   "outputs": [
    {
     "data": {
      "text/plain": [
       "'hi, email me at email@email.com another@email.com'"
      ]
     },
     "execution_count": 51,
     "metadata": {},
     "output_type": "execute_result"
    }
   ],
   "source": [
    "x"
   ]
  },
  {
   "cell_type": "code",
   "execution_count": 52,
   "metadata": {},
   "outputs": [
    {
     "data": {
      "text/plain": [
       "'hi, email me at  '"
      ]
     },
     "execution_count": 52,
     "metadata": {},
     "output_type": "execute_result"
    }
   ],
   "source": [
    "re.sub(r'([a-zA-Z0-9+._-]+@[a-zA-Z0-9._-]+\\.[a-zA-Z0-9_-]+)',  '', x)"
   ]
  },
  {
   "cell_type": "code",
   "execution_count": 53,
   "metadata": {},
   "outputs": [],
   "source": [
    "#removing emails from the twitts\n",
    "df['twitts'] = df['twitts'].apply(lambda x:re.sub(r'([a-zA-Z0-9+._-]+@[a-zA-Z0-9._-]+\\.[a-zA-Z0-9_-]+)',  '', x))"
   ]
  },
  {
   "cell_type": "code",
   "execution_count": 54,
   "metadata": {},
   "outputs": [
    {
     "data": {
      "text/html": [
       "<div>\n",
       "<style scoped>\n",
       "    .dataframe tbody tr th:only-of-type {\n",
       "        vertical-align: middle;\n",
       "    }\n",
       "\n",
       "    .dataframe tbody tr th {\n",
       "        vertical-align: top;\n",
       "    }\n",
       "\n",
       "    .dataframe thead th {\n",
       "        text-align: right;\n",
       "    }\n",
       "</style>\n",
       "<table border=\"1\" class=\"dataframe\">\n",
       "  <thead>\n",
       "    <tr style=\"text-align: right;\">\n",
       "      <th></th>\n",
       "      <th>twitts</th>\n",
       "      <th>sentiment</th>\n",
       "      <th>word_counts</th>\n",
       "      <th>character_counts</th>\n",
       "      <th>avg_word_len</th>\n",
       "      <th>stop_words_len</th>\n",
       "      <th>hashtags_count</th>\n",
       "      <th>mentions_count</th>\n",
       "      <th>numerics_count</th>\n",
       "      <th>upper_count</th>\n",
       "      <th>emails</th>\n",
       "      <th>emails_count</th>\n",
       "    </tr>\n",
       "  </thead>\n",
       "  <tbody>\n",
       "    <tr>\n",
       "      <th>4054</th>\n",
       "      <td>i want a new laptop.  hp tx2000 is the bomb. :...</td>\n",
       "      <td>0</td>\n",
       "      <td>20</td>\n",
       "      <td>103</td>\n",
       "      <td>0.050000</td>\n",
       "      <td>6</td>\n",
       "      <td>0</td>\n",
       "      <td>0</td>\n",
       "      <td>0</td>\n",
       "      <td>4</td>\n",
       "      <td>[amos@yahoo.com]</td>\n",
       "      <td>1</td>\n",
       "    </tr>\n",
       "    <tr>\n",
       "      <th>8496</th>\n",
       "      <td>@alexistehpom  really? did you send out all th...</td>\n",
       "      <td>0</td>\n",
       "      <td>20</td>\n",
       "      <td>130</td>\n",
       "      <td>0.650000</td>\n",
       "      <td>11</td>\n",
       "      <td>0</td>\n",
       "      <td>1</td>\n",
       "      <td>0</td>\n",
       "      <td>0</td>\n",
       "      <td>[i@gmail.com]</td>\n",
       "      <td>1</td>\n",
       "    </tr>\n",
       "    <tr>\n",
       "      <th>16413</th>\n",
       "      <td>@jilliancyork  got 2 bottom of it, human error...</td>\n",
       "      <td>0</td>\n",
       "      <td>21</td>\n",
       "      <td>137</td>\n",
       "      <td>0.619048</td>\n",
       "      <td>7</td>\n",
       "      <td>0</td>\n",
       "      <td>1</td>\n",
       "      <td>1</td>\n",
       "      <td>0</td>\n",
       "      <td>[ess@linkedin.com]</td>\n",
       "      <td>1</td>\n",
       "    </tr>\n",
       "    <tr>\n",
       "      <th>72386</th>\n",
       "      <td>madonnafae ok, i found this on a fluff page~ e...</td>\n",
       "      <td>0</td>\n",
       "      <td>22</td>\n",
       "      <td>136</td>\n",
       "      <td>0.454545</td>\n",
       "      <td>9</td>\n",
       "      <td>0</td>\n",
       "      <td>0</td>\n",
       "      <td>0</td>\n",
       "      <td>0</td>\n",
       "      <td>[qj8ga@facebook.com]</td>\n",
       "      <td>1</td>\n",
       "    </tr>\n",
       "    <tr>\n",
       "      <th>74295</th>\n",
       "      <td>@lovetoblog i can't dm you my email cos you're...</td>\n",
       "      <td>0</td>\n",
       "      <td>16</td>\n",
       "      <td>105</td>\n",
       "      <td>0.687500</td>\n",
       "      <td>6</td>\n",
       "      <td>0</td>\n",
       "      <td>1</td>\n",
       "      <td>0</td>\n",
       "      <td>2</td>\n",
       "      <td>[en@live.co.uk]</td>\n",
       "      <td>1</td>\n",
       "    </tr>\n",
       "  </tbody>\n",
       "</table>\n",
       "</div>"
      ],
      "text/plain": [
       "                                                  twitts  sentiment  \\\n",
       "4054   i want a new laptop.  hp tx2000 is the bomb. :...          0   \n",
       "8496   @alexistehpom  really? did you send out all th...          0   \n",
       "16413  @jilliancyork  got 2 bottom of it, human error...          0   \n",
       "72386  madonnafae ok, i found this on a fluff page~ e...          0   \n",
       "74295  @lovetoblog i can't dm you my email cos you're...          0   \n",
       "\n",
       "       word_counts  character_counts  avg_word_len  stop_words_len  \\\n",
       "4054            20               103      0.050000               6   \n",
       "8496            20               130      0.650000              11   \n",
       "16413           21               137      0.619048               7   \n",
       "72386           22               136      0.454545               9   \n",
       "74295           16               105      0.687500               6   \n",
       "\n",
       "       hashtags_count  mentions_count  numerics_count  upper_count  \\\n",
       "4054                0               0               0            4   \n",
       "8496                0               1               0            0   \n",
       "16413               0               1               1            0   \n",
       "72386               0               0               0            0   \n",
       "74295               0               1               0            2   \n",
       "\n",
       "                     emails  emails_count  \n",
       "4054       [amos@yahoo.com]             1  \n",
       "8496          [i@gmail.com]             1  \n",
       "16413    [ess@linkedin.com]             1  \n",
       "72386  [qj8ga@facebook.com]             1  \n",
       "74295       [en@live.co.uk]             1  "
      ]
     },
     "execution_count": 54,
     "metadata": {},
     "output_type": "execute_result"
    }
   ],
   "source": [
    "df[df['emails_count']>0].head()"
   ]
  },
  {
   "cell_type": "markdown",
   "metadata": {},
   "source": [
    "### Count URLs and remove it from the data"
   ]
  },
  {
   "cell_type": "code",
   "execution_count": 55,
   "metadata": {},
   "outputs": [],
   "source": [
    "x= 'hi, to watch more go to https://youtube.com/skyline'"
   ]
  },
  {
   "cell_type": "code",
   "execution_count": 56,
   "metadata": {},
   "outputs": [
    {
     "data": {
      "text/plain": [
       "[('https', 'youtube.com', '/skyline')]"
      ]
     },
     "execution_count": 56,
     "metadata": {},
     "output_type": "execute_result"
    }
   ],
   "source": [
    "re.findall(r'(http|ftp|https)://([\\w_-]+(?:(?:\\.[\\w_-]+)+))([\\w.,@?^=%&:/~+#-]*[\\w@?^=%&/~+#-])?', x)"
   ]
  },
  {
   "cell_type": "code",
   "execution_count": 57,
   "metadata": {},
   "outputs": [],
   "source": [
    "#count all urls\n",
    "df['urls_flag']= df['twitts'].apply(lambda x:len(re.findall(r'(http|ftp|https)://([\\w_-]+(?:(?:\\.[\\w_-]+)+))([\\w.,@?^=%&:/~+#-]*[\\w@?^=%&/~+#-])?', x)))"
   ]
  },
  {
   "cell_type": "code",
   "execution_count": 58,
   "metadata": {},
   "outputs": [
    {
     "data": {
      "text/plain": [
       "'hi, to watch more go to '"
      ]
     },
     "execution_count": 58,
     "metadata": {},
     "output_type": "execute_result"
    }
   ],
   "source": [
    "re.sub(r'(http|ftp|https)://([\\w_-]+(?:(?:\\.[\\w_-]+)+))([\\w.,@?^=%&:/~+#-]*[\\w@?^=%&/~+#-])?','', x)"
   ]
  },
  {
   "cell_type": "code",
   "execution_count": 59,
   "metadata": {},
   "outputs": [],
   "source": [
    "df['twitts']= df['twitts'].apply(lambda x:re.sub(r'(http|ftp|https)://([\\w_-]+(?:(?:\\.[\\w_-]+)+))([\\w.,@?^=%&:/~+#-]*[\\w@?^=%&/~+#-])?','', x))"
   ]
  },
  {
   "cell_type": "code",
   "execution_count": 126,
   "metadata": {},
   "outputs": [
    {
     "data": {
      "text/html": [
       "<div>\n",
       "<style scoped>\n",
       "    .dataframe tbody tr th:only-of-type {\n",
       "        vertical-align: middle;\n",
       "    }\n",
       "\n",
       "    .dataframe tbody tr th {\n",
       "        vertical-align: top;\n",
       "    }\n",
       "\n",
       "    .dataframe thead th {\n",
       "        text-align: right;\n",
       "    }\n",
       "</style>\n",
       "<table border=\"1\" class=\"dataframe\">\n",
       "  <thead>\n",
       "    <tr style=\"text-align: right;\">\n",
       "      <th></th>\n",
       "      <th>twitts</th>\n",
       "      <th>sentiment</th>\n",
       "      <th>word_counts</th>\n",
       "      <th>character_counts</th>\n",
       "      <th>avg_word_len</th>\n",
       "      <th>stop_words_len</th>\n",
       "      <th>hashtags_count</th>\n",
       "      <th>mentions_count</th>\n",
       "      <th>numerics_count</th>\n",
       "      <th>upper_count</th>\n",
       "      <th>emails</th>\n",
       "      <th>emails_count</th>\n",
       "      <th>urls_flag</th>\n",
       "    </tr>\n",
       "  </thead>\n",
       "  <tbody>\n",
       "    <tr>\n",
       "      <th>0</th>\n",
       "      <td>@switchfoot http://twitpic.com/2y1zl - awww, t...</td>\n",
       "      <td>0</td>\n",
       "      <td>19</td>\n",
       "      <td>115</td>\n",
       "      <td>0.578947</td>\n",
       "      <td>4</td>\n",
       "      <td>0</td>\n",
       "      <td>1</td>\n",
       "      <td>0</td>\n",
       "      <td>1</td>\n",
       "      <td>[]</td>\n",
       "      <td>0</td>\n",
       "      <td>@switchfoot  - awww, that's a bummer.  you sho...</td>\n",
       "    </tr>\n",
       "    <tr>\n",
       "      <th>1</th>\n",
       "      <td>is upset that he can't update his facebook by ...</td>\n",
       "      <td>0</td>\n",
       "      <td>21</td>\n",
       "      <td>111</td>\n",
       "      <td>0.095238</td>\n",
       "      <td>9</td>\n",
       "      <td>0</td>\n",
       "      <td>0</td>\n",
       "      <td>0</td>\n",
       "      <td>0</td>\n",
       "      <td>[]</td>\n",
       "      <td>0</td>\n",
       "      <td>is upset that he can't update his facebook by ...</td>\n",
       "    </tr>\n",
       "    <tr>\n",
       "      <th>2</th>\n",
       "      <td>@kenichan i dived many times for the ball. man...</td>\n",
       "      <td>0</td>\n",
       "      <td>18</td>\n",
       "      <td>89</td>\n",
       "      <td>0.500000</td>\n",
       "      <td>7</td>\n",
       "      <td>0</td>\n",
       "      <td>1</td>\n",
       "      <td>0</td>\n",
       "      <td>1</td>\n",
       "      <td>[]</td>\n",
       "      <td>0</td>\n",
       "      <td>@kenichan i dived many times for the ball. man...</td>\n",
       "    </tr>\n",
       "    <tr>\n",
       "      <th>3</th>\n",
       "      <td>my whole body feels itchy and like its on fire</td>\n",
       "      <td>0</td>\n",
       "      <td>10</td>\n",
       "      <td>47</td>\n",
       "      <td>0.200000</td>\n",
       "      <td>5</td>\n",
       "      <td>0</td>\n",
       "      <td>0</td>\n",
       "      <td>0</td>\n",
       "      <td>0</td>\n",
       "      <td>[]</td>\n",
       "      <td>0</td>\n",
       "      <td>my whole body feels itchy and like its on fire</td>\n",
       "    </tr>\n",
       "    <tr>\n",
       "      <th>4</th>\n",
       "      <td>@nationwideclass no, it's not behaving at all....</td>\n",
       "      <td>0</td>\n",
       "      <td>21</td>\n",
       "      <td>111</td>\n",
       "      <td>0.761905</td>\n",
       "      <td>10</td>\n",
       "      <td>0</td>\n",
       "      <td>1</td>\n",
       "      <td>0</td>\n",
       "      <td>1</td>\n",
       "      <td>[]</td>\n",
       "      <td>0</td>\n",
       "      <td>@nationwideclass no, it's not behaving at all....</td>\n",
       "    </tr>\n",
       "  </tbody>\n",
       "</table>\n",
       "</div>"
      ],
      "text/plain": [
       "                                              twitts  sentiment  word_counts  \\\n",
       "0  @switchfoot http://twitpic.com/2y1zl - awww, t...          0           19   \n",
       "1  is upset that he can't update his facebook by ...          0           21   \n",
       "2  @kenichan i dived many times for the ball. man...          0           18   \n",
       "3    my whole body feels itchy and like its on fire           0           10   \n",
       "4  @nationwideclass no, it's not behaving at all....          0           21   \n",
       "\n",
       "   character_counts  avg_word_len  stop_words_len  hashtags_count  \\\n",
       "0               115      0.578947               4               0   \n",
       "1               111      0.095238               9               0   \n",
       "2                89      0.500000               7               0   \n",
       "3                47      0.200000               5               0   \n",
       "4               111      0.761905              10               0   \n",
       "\n",
       "   mentions_count  numerics_count  upper_count emails  emails_count  \\\n",
       "0               1               0            1     []             0   \n",
       "1               0               0            0     []             0   \n",
       "2               1               0            1     []             0   \n",
       "3               0               0            0     []             0   \n",
       "4               1               0            1     []             0   \n",
       "\n",
       "                                           urls_flag  \n",
       "0  @switchfoot  - awww, that's a bummer.  you sho...  \n",
       "1  is upset that he can't update his facebook by ...  \n",
       "2  @kenichan i dived many times for the ball. man...  \n",
       "3    my whole body feels itchy and like its on fire   \n",
       "4  @nationwideclass no, it's not behaving at all....  "
      ]
     },
     "execution_count": 126,
     "metadata": {},
     "output_type": "execute_result"
    }
   ],
   "source": [
    "df.head()"
   ]
  },
  {
   "cell_type": "code",
   "execution_count": 60,
   "metadata": {},
   "outputs": [
    {
     "data": {
      "text/plain": [
       "\"@switchfoot  - awww, that's a bummer.  you shoulda got david carr of third day to do it. ;d\""
      ]
     },
     "execution_count": 60,
     "metadata": {},
     "output_type": "execute_result"
    }
   ],
   "source": [
    "df.loc[0]['twitts']"
   ]
  },
  {
   "cell_type": "markdown",
   "metadata": {},
   "source": [
    "### Removing the re-twitts (RT)"
   ]
  },
  {
   "cell_type": "code",
   "execution_count": 61,
   "metadata": {},
   "outputs": [],
   "source": [
    "df['twitts'] = df['twitts'].apply(lambda x: re.sub('RT', \"\", x))"
   ]
  },
  {
   "cell_type": "code",
   "execution_count": 62,
   "metadata": {},
   "outputs": [
    {
     "data": {
      "text/html": [
       "<div>\n",
       "<style scoped>\n",
       "    .dataframe tbody tr th:only-of-type {\n",
       "        vertical-align: middle;\n",
       "    }\n",
       "\n",
       "    .dataframe tbody tr th {\n",
       "        vertical-align: top;\n",
       "    }\n",
       "\n",
       "    .dataframe thead th {\n",
       "        text-align: right;\n",
       "    }\n",
       "</style>\n",
       "<table border=\"1\" class=\"dataframe\">\n",
       "  <thead>\n",
       "    <tr style=\"text-align: right;\">\n",
       "      <th></th>\n",
       "      <th>twitts</th>\n",
       "      <th>sentiment</th>\n",
       "      <th>word_counts</th>\n",
       "      <th>character_counts</th>\n",
       "      <th>avg_word_len</th>\n",
       "      <th>stop_words_len</th>\n",
       "      <th>hashtags_count</th>\n",
       "      <th>mentions_count</th>\n",
       "      <th>numerics_count</th>\n",
       "      <th>upper_count</th>\n",
       "      <th>emails</th>\n",
       "      <th>emails_count</th>\n",
       "      <th>urls_flag</th>\n",
       "    </tr>\n",
       "  </thead>\n",
       "  <tbody>\n",
       "    <tr>\n",
       "      <th>0</th>\n",
       "      <td>@switchfoot  - awww, that's a bummer.  you sho...</td>\n",
       "      <td>0</td>\n",
       "      <td>19</td>\n",
       "      <td>115</td>\n",
       "      <td>0.578947</td>\n",
       "      <td>4</td>\n",
       "      <td>0</td>\n",
       "      <td>1</td>\n",
       "      <td>0</td>\n",
       "      <td>1</td>\n",
       "      <td>[]</td>\n",
       "      <td>0</td>\n",
       "      <td>1</td>\n",
       "    </tr>\n",
       "    <tr>\n",
       "      <th>1</th>\n",
       "      <td>is upset that he can't update his facebook by ...</td>\n",
       "      <td>0</td>\n",
       "      <td>21</td>\n",
       "      <td>111</td>\n",
       "      <td>0.095238</td>\n",
       "      <td>9</td>\n",
       "      <td>0</td>\n",
       "      <td>0</td>\n",
       "      <td>0</td>\n",
       "      <td>0</td>\n",
       "      <td>[]</td>\n",
       "      <td>0</td>\n",
       "      <td>0</td>\n",
       "    </tr>\n",
       "    <tr>\n",
       "      <th>2</th>\n",
       "      <td>@kenichan i dived many times for the ball. man...</td>\n",
       "      <td>0</td>\n",
       "      <td>18</td>\n",
       "      <td>89</td>\n",
       "      <td>0.500000</td>\n",
       "      <td>7</td>\n",
       "      <td>0</td>\n",
       "      <td>1</td>\n",
       "      <td>0</td>\n",
       "      <td>1</td>\n",
       "      <td>[]</td>\n",
       "      <td>0</td>\n",
       "      <td>0</td>\n",
       "    </tr>\n",
       "    <tr>\n",
       "      <th>3</th>\n",
       "      <td>my whole body feels itchy and like its on fire</td>\n",
       "      <td>0</td>\n",
       "      <td>10</td>\n",
       "      <td>47</td>\n",
       "      <td>0.200000</td>\n",
       "      <td>5</td>\n",
       "      <td>0</td>\n",
       "      <td>0</td>\n",
       "      <td>0</td>\n",
       "      <td>0</td>\n",
       "      <td>[]</td>\n",
       "      <td>0</td>\n",
       "      <td>0</td>\n",
       "    </tr>\n",
       "    <tr>\n",
       "      <th>4</th>\n",
       "      <td>@nationwideclass no, it's not behaving at all....</td>\n",
       "      <td>0</td>\n",
       "      <td>21</td>\n",
       "      <td>111</td>\n",
       "      <td>0.761905</td>\n",
       "      <td>10</td>\n",
       "      <td>0</td>\n",
       "      <td>1</td>\n",
       "      <td>0</td>\n",
       "      <td>1</td>\n",
       "      <td>[]</td>\n",
       "      <td>0</td>\n",
       "      <td>0</td>\n",
       "    </tr>\n",
       "  </tbody>\n",
       "</table>\n",
       "</div>"
      ],
      "text/plain": [
       "                                              twitts  sentiment  word_counts  \\\n",
       "0  @switchfoot  - awww, that's a bummer.  you sho...          0           19   \n",
       "1  is upset that he can't update his facebook by ...          0           21   \n",
       "2  @kenichan i dived many times for the ball. man...          0           18   \n",
       "3    my whole body feels itchy and like its on fire           0           10   \n",
       "4  @nationwideclass no, it's not behaving at all....          0           21   \n",
       "\n",
       "   character_counts  avg_word_len  stop_words_len  hashtags_count  \\\n",
       "0               115      0.578947               4               0   \n",
       "1               111      0.095238               9               0   \n",
       "2                89      0.500000               7               0   \n",
       "3                47      0.200000               5               0   \n",
       "4               111      0.761905              10               0   \n",
       "\n",
       "   mentions_count  numerics_count  upper_count emails  emails_count  urls_flag  \n",
       "0               1               0            1     []             0          1  \n",
       "1               0               0            0     []             0          0  \n",
       "2               1               0            1     []             0          0  \n",
       "3               0               0            0     []             0          0  \n",
       "4               1               0            1     []             0          0  "
      ]
     },
     "execution_count": 62,
     "metadata": {},
     "output_type": "execute_result"
    }
   ],
   "source": [
    "df.head()"
   ]
  },
  {
   "cell_type": "markdown",
   "metadata": {},
   "source": [
    "### Removing Special characters or punctuation"
   ]
  },
  {
   "cell_type": "code",
   "execution_count": 63,
   "metadata": {},
   "outputs": [],
   "source": [
    "df ['twitts'] = df['twitts'].apply(lambda x: re.sub('[^A-Z a-z 0-9-]+', '', x))"
   ]
  },
  {
   "cell_type": "code",
   "execution_count": 64,
   "metadata": {},
   "outputs": [
    {
     "data": {
      "text/html": [
       "<div>\n",
       "<style scoped>\n",
       "    .dataframe tbody tr th:only-of-type {\n",
       "        vertical-align: middle;\n",
       "    }\n",
       "\n",
       "    .dataframe tbody tr th {\n",
       "        vertical-align: top;\n",
       "    }\n",
       "\n",
       "    .dataframe thead th {\n",
       "        text-align: right;\n",
       "    }\n",
       "</style>\n",
       "<table border=\"1\" class=\"dataframe\">\n",
       "  <thead>\n",
       "    <tr style=\"text-align: right;\">\n",
       "      <th></th>\n",
       "      <th>twitts</th>\n",
       "      <th>sentiment</th>\n",
       "      <th>word_counts</th>\n",
       "      <th>character_counts</th>\n",
       "      <th>avg_word_len</th>\n",
       "      <th>stop_words_len</th>\n",
       "      <th>hashtags_count</th>\n",
       "      <th>mentions_count</th>\n",
       "      <th>numerics_count</th>\n",
       "      <th>upper_count</th>\n",
       "      <th>emails</th>\n",
       "      <th>emails_count</th>\n",
       "      <th>urls_flag</th>\n",
       "    </tr>\n",
       "  </thead>\n",
       "  <tbody>\n",
       "    <tr>\n",
       "      <th>0</th>\n",
       "      <td>switchfoot  - awww thats a bummer  you shoulda...</td>\n",
       "      <td>0</td>\n",
       "      <td>19</td>\n",
       "      <td>115</td>\n",
       "      <td>0.578947</td>\n",
       "      <td>4</td>\n",
       "      <td>0</td>\n",
       "      <td>1</td>\n",
       "      <td>0</td>\n",
       "      <td>1</td>\n",
       "      <td>[]</td>\n",
       "      <td>0</td>\n",
       "      <td>1</td>\n",
       "    </tr>\n",
       "    <tr>\n",
       "      <th>1</th>\n",
       "      <td>is upset that he cant update his facebook by t...</td>\n",
       "      <td>0</td>\n",
       "      <td>21</td>\n",
       "      <td>111</td>\n",
       "      <td>0.095238</td>\n",
       "      <td>9</td>\n",
       "      <td>0</td>\n",
       "      <td>0</td>\n",
       "      <td>0</td>\n",
       "      <td>0</td>\n",
       "      <td>[]</td>\n",
       "      <td>0</td>\n",
       "      <td>0</td>\n",
       "    </tr>\n",
       "    <tr>\n",
       "      <th>2</th>\n",
       "      <td>kenichan i dived many times for the ball manag...</td>\n",
       "      <td>0</td>\n",
       "      <td>18</td>\n",
       "      <td>89</td>\n",
       "      <td>0.500000</td>\n",
       "      <td>7</td>\n",
       "      <td>0</td>\n",
       "      <td>1</td>\n",
       "      <td>0</td>\n",
       "      <td>1</td>\n",
       "      <td>[]</td>\n",
       "      <td>0</td>\n",
       "      <td>0</td>\n",
       "    </tr>\n",
       "    <tr>\n",
       "      <th>3</th>\n",
       "      <td>my whole body feels itchy and like its on fire</td>\n",
       "      <td>0</td>\n",
       "      <td>10</td>\n",
       "      <td>47</td>\n",
       "      <td>0.200000</td>\n",
       "      <td>5</td>\n",
       "      <td>0</td>\n",
       "      <td>0</td>\n",
       "      <td>0</td>\n",
       "      <td>0</td>\n",
       "      <td>[]</td>\n",
       "      <td>0</td>\n",
       "      <td>0</td>\n",
       "    </tr>\n",
       "    <tr>\n",
       "      <th>4</th>\n",
       "      <td>nationwideclass no its not behaving at all im ...</td>\n",
       "      <td>0</td>\n",
       "      <td>21</td>\n",
       "      <td>111</td>\n",
       "      <td>0.761905</td>\n",
       "      <td>10</td>\n",
       "      <td>0</td>\n",
       "      <td>1</td>\n",
       "      <td>0</td>\n",
       "      <td>1</td>\n",
       "      <td>[]</td>\n",
       "      <td>0</td>\n",
       "      <td>0</td>\n",
       "    </tr>\n",
       "  </tbody>\n",
       "</table>\n",
       "</div>"
      ],
      "text/plain": [
       "                                              twitts  sentiment  word_counts  \\\n",
       "0  switchfoot  - awww thats a bummer  you shoulda...          0           19   \n",
       "1  is upset that he cant update his facebook by t...          0           21   \n",
       "2  kenichan i dived many times for the ball manag...          0           18   \n",
       "3    my whole body feels itchy and like its on fire           0           10   \n",
       "4  nationwideclass no its not behaving at all im ...          0           21   \n",
       "\n",
       "   character_counts  avg_word_len  stop_words_len  hashtags_count  \\\n",
       "0               115      0.578947               4               0   \n",
       "1               111      0.095238               9               0   \n",
       "2                89      0.500000               7               0   \n",
       "3                47      0.200000               5               0   \n",
       "4               111      0.761905              10               0   \n",
       "\n",
       "   mentions_count  numerics_count  upper_count emails  emails_count  urls_flag  \n",
       "0               1               0            1     []             0          1  \n",
       "1               0               0            0     []             0          0  \n",
       "2               1               0            1     []             0          0  \n",
       "3               0               0            0     []             0          0  \n",
       "4               1               0            1     []             0          0  "
      ]
     },
     "execution_count": 64,
     "metadata": {},
     "output_type": "execute_result"
    }
   ],
   "source": [
    "df.head()"
   ]
  },
  {
   "cell_type": "markdown",
   "metadata": {},
   "source": [
    "### Removing multiple spaces  \"  hi            hello        \""
   ]
  },
  {
   "cell_type": "code",
   "execution_count": 65,
   "metadata": {},
   "outputs": [],
   "source": [
    "x = 'Thanks    for  watching  and  subcribing  for this channel '"
   ]
  },
  {
   "cell_type": "code",
   "execution_count": 66,
   "metadata": {},
   "outputs": [
    {
     "data": {
      "text/plain": [
       "'Thanks for watching and subcribing for this channel'"
      ]
     },
     "execution_count": 66,
     "metadata": {},
     "output_type": "execute_result"
    }
   ],
   "source": [
    "\" \".join(x.split())"
   ]
  },
  {
   "cell_type": "markdown",
   "metadata": {},
   "source": [
    "noticed that spaces btw words have been removed"
   ]
  },
  {
   "cell_type": "code",
   "execution_count": 67,
   "metadata": {},
   "outputs": [],
   "source": [
    "df['twitts'] = df['twitts'].apply(lambda x: \" \".join(x.split()))"
   ]
  },
  {
   "cell_type": "code",
   "execution_count": 68,
   "metadata": {},
   "outputs": [
    {
     "data": {
      "text/html": [
       "<div>\n",
       "<style scoped>\n",
       "    .dataframe tbody tr th:only-of-type {\n",
       "        vertical-align: middle;\n",
       "    }\n",
       "\n",
       "    .dataframe tbody tr th {\n",
       "        vertical-align: top;\n",
       "    }\n",
       "\n",
       "    .dataframe thead th {\n",
       "        text-align: right;\n",
       "    }\n",
       "</style>\n",
       "<table border=\"1\" class=\"dataframe\">\n",
       "  <thead>\n",
       "    <tr style=\"text-align: right;\">\n",
       "      <th></th>\n",
       "      <th>twitts</th>\n",
       "      <th>sentiment</th>\n",
       "      <th>word_counts</th>\n",
       "      <th>character_counts</th>\n",
       "      <th>avg_word_len</th>\n",
       "      <th>stop_words_len</th>\n",
       "      <th>hashtags_count</th>\n",
       "      <th>mentions_count</th>\n",
       "      <th>numerics_count</th>\n",
       "      <th>upper_count</th>\n",
       "      <th>emails</th>\n",
       "      <th>emails_count</th>\n",
       "      <th>urls_flag</th>\n",
       "    </tr>\n",
       "  </thead>\n",
       "  <tbody>\n",
       "    <tr>\n",
       "      <th>0</th>\n",
       "      <td>switchfoot - awww thats a bummer you shoulda g...</td>\n",
       "      <td>0</td>\n",
       "      <td>19</td>\n",
       "      <td>115</td>\n",
       "      <td>0.578947</td>\n",
       "      <td>4</td>\n",
       "      <td>0</td>\n",
       "      <td>1</td>\n",
       "      <td>0</td>\n",
       "      <td>1</td>\n",
       "      <td>[]</td>\n",
       "      <td>0</td>\n",
       "      <td>1</td>\n",
       "    </tr>\n",
       "    <tr>\n",
       "      <th>1</th>\n",
       "      <td>is upset that he cant update his facebook by t...</td>\n",
       "      <td>0</td>\n",
       "      <td>21</td>\n",
       "      <td>111</td>\n",
       "      <td>0.095238</td>\n",
       "      <td>9</td>\n",
       "      <td>0</td>\n",
       "      <td>0</td>\n",
       "      <td>0</td>\n",
       "      <td>0</td>\n",
       "      <td>[]</td>\n",
       "      <td>0</td>\n",
       "      <td>0</td>\n",
       "    </tr>\n",
       "  </tbody>\n",
       "</table>\n",
       "</div>"
      ],
      "text/plain": [
       "                                              twitts  sentiment  word_counts  \\\n",
       "0  switchfoot - awww thats a bummer you shoulda g...          0           19   \n",
       "1  is upset that he cant update his facebook by t...          0           21   \n",
       "\n",
       "   character_counts  avg_word_len  stop_words_len  hashtags_count  \\\n",
       "0               115      0.578947               4               0   \n",
       "1               111      0.095238               9               0   \n",
       "\n",
       "   mentions_count  numerics_count  upper_count emails  emails_count  urls_flag  \n",
       "0               1               0            1     []             0          1  \n",
       "1               0               0            0     []             0          0  "
      ]
     },
     "execution_count": 68,
     "metadata": {},
     "output_type": "execute_result"
    }
   ],
   "source": [
    "df.head(2)"
   ]
  },
  {
   "cell_type": "markdown",
   "metadata": {},
   "source": [
    "### Removing HTML tags"
   ]
  },
  {
   "cell_type": "code",
   "execution_count": 71,
   "metadata": {},
   "outputs": [],
   "source": [
    "from bs4 import BeautifulSoup"
   ]
  },
  {
   "cell_type": "code",
   "execution_count": 72,
   "metadata": {},
   "outputs": [],
   "source": [
    "x = '<html><h2>Thanks for subcribing</h2></html>'"
   ]
  },
  {
   "cell_type": "code",
   "execution_count": 73,
   "metadata": {},
   "outputs": [
    {
     "data": {
      "text/plain": [
       "'Thanks for subcribing'"
      ]
     },
     "execution_count": 73,
     "metadata": {},
     "output_type": "execute_result"
    }
   ],
   "source": [
    "BeautifulSoup(x, 'lxml').get_text()"
   ]
  },
  {
   "cell_type": "code",
   "execution_count": null,
   "metadata": {},
   "outputs": [
    {
     "name": "stderr",
     "output_type": "stream",
     "text": [
      "C:\\Users\\enny_\\Anaconda3\\lib\\site-packages\\bs4\\__init__.py:219: UserWarning: \"b'cookies'\" looks like a filename, not markup. You should probably open this file and pass the filehandle into Beautiful Soup.\n",
      "  ' Beautiful Soup.' % markup)\n",
      "C:\\Users\\enny_\\Anaconda3\\lib\\site-packages\\bs4\\__init__.py:219: UserWarning: \"b'pictures'\" looks like a filename, not markup. You should probably open this file and pass the filehandle into Beautiful Soup.\n",
      "  ' Beautiful Soup.' % markup)\n"
     ]
    },
    {
     "name": "stdout",
     "output_type": "stream",
     "text": [
      "Wall time: 33min 8s\n"
     ]
    }
   ],
   "source": [
    "%%time\n",
    "df['twitts']=df['twitts'].apply(lambda  x:BeautifulSoup(x, 'lxml').get_text())"
   ]
  },
  {
   "cell_type": "markdown",
   "metadata": {},
   "source": [
    "### Removing Accented Characters e.g "
   ]
  },
  {
   "cell_type": "code",
   "execution_count": null,
   "metadata": {},
   "outputs": [],
   "source": [
    "import unicodedata"
   ]
  },
  {
   "cell_type": "code",
   "execution_count": 76,
   "metadata": {},
   "outputs": [],
   "source": [
    "#x = 'Acce`nted text'\n",
    "x= 'ĀëěéáÁ'"
   ]
  },
  {
   "cell_type": "code",
   "execution_count": null,
   "metadata": {},
   "outputs": [],
   "source": [
    "def remove_accented_chars(x):\n",
    "    x = unicodedata.normalize('NFKD', x).encode('ascii', 'ignore').decode('utf-8', 'ignore')\n",
    "    return x"
   ]
  },
  {
   "cell_type": "code",
   "execution_count": null,
   "metadata": {},
   "outputs": [],
   "source": [
    "remove_accented_chars(x)"
   ]
  },
  {
   "cell_type": "markdown",
   "metadata": {},
   "source": [
    "### SpaCy and NLP"
   ]
  },
  {
   "cell_type": "markdown",
   "metadata": {},
   "source": [
    "### Remove Stop Words"
   ]
  },
  {
   "cell_type": "code",
   "execution_count": null,
   "metadata": {},
   "outputs": [],
   "source": [
    "import spacy"
   ]
  },
  {
   "cell_type": "code",
   "execution_count": null,
   "metadata": {},
   "outputs": [],
   "source": [
    "x = 'these are stop words removal code'"
   ]
  },
  {
   "cell_type": "code",
   "execution_count": null,
   "metadata": {},
   "outputs": [],
   "source": [
    "\" \".join([t for t in x.split() if t not in STOP_WORDS])"
   ]
  },
  {
   "cell_type": "code",
   "execution_count": null,
   "metadata": {},
   "outputs": [],
   "source": [
    "df['twitts'] = df['twitts'].apply(lambda x: \" \".join([t for t in x.split() if t not in STOP_WORDS]))"
   ]
  },
  {
   "cell_type": "markdown",
   "metadata": {},
   "source": [
    "### Convert into base or root form of word"
   ]
  },
  {
   "cell_type": "code",
   "execution_count": null,
   "metadata": {},
   "outputs": [],
   "source": [
    "nlp = spacy.load('en_core_web_sm')"
   ]
  },
  {
   "cell_type": "code",
   "execution_count": null,
   "metadata": {},
   "outputs": [],
   "source": [
    "x = 'kenichan dived times ball managed save 50 rest'"
   ]
  },
  {
   "cell_type": "code",
   "execution_count": null,
   "metadata": {},
   "outputs": [],
   "source": [
    "# dive = dived, time = times, manage = managed"
   ]
  },
  {
   "cell_type": "code",
   "execution_count": null,
   "metadata": {},
   "outputs": [],
   "source": [
    "def make_to_base(x):\n",
    "    x_list = []\n",
    "    doc = nlp(x)\n",
    "    \n",
    "    for token in doc:\n",
    "        lemma = str(token.lemma_)\n",
    "        if lemma == '-PRON-' or lemma == 'be':\n",
    "            x_list.append(lemma)\n",
    "            print(\" \".join(x_list))"
   ]
  },
  {
   "cell_type": "code",
   "execution_count": null,
   "metadata": {},
   "outputs": [],
   "source": [
    "make_to_base(x)"
   ]
  },
  {
   "cell_type": "markdown",
   "metadata": {},
   "source": [
    " ### Common words removal"
   ]
  },
  {
   "cell_type": "code",
   "execution_count": 92,
   "metadata": {},
   "outputs": [
    {
     "data": {
      "text/plain": [
       "0    switchfoot - awww thats bummer shoulda got dav...\n",
       "1    upset cant update facebook texting cry result ...\n",
       "2    kenichan dived times ball managed save 50 rest...\n",
       "3                           body feels itchy like fire\n",
       "4                 nationwideclass behaving im mad cant\n",
       "Name: twitts, dtype: object"
      ]
     },
     "execution_count": 92,
     "metadata": {},
     "output_type": "execute_result"
    }
   ],
   "source": [
    "df.head()['twitts']"
   ]
  },
  {
   "cell_type": "code",
   "execution_count": 93,
   "metadata": {},
   "outputs": [
    {
     "data": {
      "text/plain": [
       "'switchfoot - awww thats bummer shoulda got david carr day d upset cant update facebook texting cry result school today blah kenichan dived times ball managed save 50 rest bounds body feels itchy like fire nationwideclass behaving im mad cant'"
      ]
     },
     "execution_count": 93,
     "metadata": {},
     "output_type": "execute_result"
    }
   ],
   "source": [
    "#join all those words\n",
    "' '.join(df.head()['twitts'])"
   ]
  },
  {
   "cell_type": "code",
   "execution_count": 94,
   "metadata": {},
   "outputs": [],
   "source": [
    "text = ' '.join(df['twitts'])"
   ]
  },
  {
   "cell_type": "code",
   "execution_count": 95,
   "metadata": {},
   "outputs": [],
   "source": [
    "text = text.split()"
   ]
  },
  {
   "cell_type": "code",
   "execution_count": 96,
   "metadata": {},
   "outputs": [],
   "source": [
    "freq_comm = pd.Series(text).value_counts()"
   ]
  },
  {
   "cell_type": "code",
   "execution_count": 98,
   "metadata": {},
   "outputs": [
    {
     "data": {
      "text/plain": [
       "im       178270\n",
       "good      89366\n",
       "day       82299\n",
       "like      77735\n",
       "-         69662\n",
       "dont      67280\n",
       "today     64512\n",
       "going     64078\n",
       "love      63421\n",
       "cant      62869\n",
       "work      62804\n",
       "got       60749\n",
       "time      56081\n",
       "lol       55094\n",
       "u         52833\n",
       "know      51172\n",
       "want      42070\n",
       "new       41995\n",
       "think     41040\n",
       "night     41029\n",
       "dtype: int64"
      ]
     },
     "execution_count": 98,
     "metadata": {},
     "output_type": "execute_result"
    }
   ],
   "source": [
    "#top 20 occurring words\n",
    "freq_comm[:20]"
   ]
  },
  {
   "cell_type": "code",
   "execution_count": 99,
   "metadata": {},
   "outputs": [],
   "source": [
    "f20 = freq_comm[:20]"
   ]
  },
  {
   "cell_type": "code",
   "execution_count": 100,
   "metadata": {},
   "outputs": [
    {
     "data": {
      "text/plain": [
       "im       178270\n",
       "good      89366\n",
       "day       82299\n",
       "like      77735\n",
       "-         69662\n",
       "dont      67280\n",
       "today     64512\n",
       "going     64078\n",
       "love      63421\n",
       "cant      62869\n",
       "work      62804\n",
       "got       60749\n",
       "time      56081\n",
       "lol       55094\n",
       "u         52833\n",
       "know      51172\n",
       "want      42070\n",
       "new       41995\n",
       "think     41040\n",
       "night     41029\n",
       "dtype: int64"
      ]
     },
     "execution_count": 100,
     "metadata": {},
     "output_type": "execute_result"
    }
   ],
   "source": [
    "f20"
   ]
  },
  {
   "cell_type": "code",
   "execution_count": 101,
   "metadata": {},
   "outputs": [],
   "source": [
    "df['twitts']= df['twitts'].apply(lambda x: \" \".join([t for t in x.split() if t not in f20]))"
   ]
  },
  {
   "cell_type": "markdown",
   "metadata": {},
   "source": [
    "### Remove rare words"
   ]
  },
  {
   "cell_type": "code",
   "execution_count": 102,
   "metadata": {},
   "outputs": [],
   "source": [
    "#top rare 20 words\n",
    "rare20 = freq_comm[-20:]"
   ]
  },
  {
   "cell_type": "code",
   "execution_count": 103,
   "metadata": {},
   "outputs": [
    {
     "data": {
      "text/plain": [
       "richflight318        1\n",
       "peoplewill           1\n",
       "rideyou              1\n",
       "luckymy              1\n",
       "jaxandj              1\n",
       "gisellesim           1\n",
       "katiegoldsmith       1\n",
       "annekaf              1\n",
       "chickyxxx            1\n",
       "newspeak             1\n",
       "spreckenstein        1\n",
       "radiothats           1\n",
       "gankstarrr           1\n",
       "mhhhhhhhhh           1\n",
       "foreeeeeeeeeeever    1\n",
       "niam                 1\n",
       "oomy                 1\n",
       "mentionpic           1\n",
       "parentalz            1\n",
       "watevvaaa            1\n",
       "dtype: int64"
      ]
     },
     "execution_count": 103,
     "metadata": {},
     "output_type": "execute_result"
    }
   ],
   "source": [
    "rare20"
   ]
  },
  {
   "cell_type": "code",
   "execution_count": 104,
   "metadata": {},
   "outputs": [],
   "source": [
    "rare = freq_comm[freq_comm.values == 1]"
   ]
  },
  {
   "cell_type": "code",
   "execution_count": 105,
   "metadata": {},
   "outputs": [
    {
     "data": {
      "text/plain": [
       "googlewavequot    1\n",
       "windowbiird       1\n",
       "2marrows          1\n",
       "meuble            1\n",
       "60seconds         1\n",
       "                 ..\n",
       "niam              1\n",
       "oomy              1\n",
       "mentionpic        1\n",
       "parentalz         1\n",
       "watevvaaa         1\n",
       "Length: 537330, dtype: int64"
      ]
     },
     "execution_count": 105,
     "metadata": {},
     "output_type": "execute_result"
    }
   ],
   "source": [
    "rare"
   ]
  },
  {
   "cell_type": "code",
   "execution_count": 106,
   "metadata": {},
   "outputs": [],
   "source": [
    "df['twitts']= df['twitts'].apply(lambda x: ' '.join([t for t in x.split() if t not in rare20]))"
   ]
  },
  {
   "cell_type": "code",
   "execution_count": 107,
   "metadata": {},
   "outputs": [
    {
     "data": {
      "text/html": [
       "<div>\n",
       "<style scoped>\n",
       "    .dataframe tbody tr th:only-of-type {\n",
       "        vertical-align: middle;\n",
       "    }\n",
       "\n",
       "    .dataframe tbody tr th {\n",
       "        vertical-align: top;\n",
       "    }\n",
       "\n",
       "    .dataframe thead th {\n",
       "        text-align: right;\n",
       "    }\n",
       "</style>\n",
       "<table border=\"1\" class=\"dataframe\">\n",
       "  <thead>\n",
       "    <tr style=\"text-align: right;\">\n",
       "      <th></th>\n",
       "      <th>twitts</th>\n",
       "      <th>sentiment</th>\n",
       "      <th>word_counts</th>\n",
       "      <th>character_counts</th>\n",
       "      <th>avg_word_len</th>\n",
       "      <th>stop_words_len</th>\n",
       "      <th>hashtags_count</th>\n",
       "      <th>mentions_count</th>\n",
       "      <th>numerics_count</th>\n",
       "      <th>upper_count</th>\n",
       "      <th>emails</th>\n",
       "      <th>emails_count</th>\n",
       "      <th>urls_flag</th>\n",
       "    </tr>\n",
       "  </thead>\n",
       "  <tbody>\n",
       "    <tr>\n",
       "      <th>0</th>\n",
       "      <td>switchfoot awww thats bummer shoulda david carr d</td>\n",
       "      <td>0</td>\n",
       "      <td>19</td>\n",
       "      <td>115</td>\n",
       "      <td>0.578947</td>\n",
       "      <td>4</td>\n",
       "      <td>0</td>\n",
       "      <td>1</td>\n",
       "      <td>0</td>\n",
       "      <td>1</td>\n",
       "      <td>[]</td>\n",
       "      <td>0</td>\n",
       "      <td>1</td>\n",
       "    </tr>\n",
       "    <tr>\n",
       "      <th>1</th>\n",
       "      <td>upset update facebook texting cry result schoo...</td>\n",
       "      <td>0</td>\n",
       "      <td>21</td>\n",
       "      <td>111</td>\n",
       "      <td>0.095238</td>\n",
       "      <td>9</td>\n",
       "      <td>0</td>\n",
       "      <td>0</td>\n",
       "      <td>0</td>\n",
       "      <td>0</td>\n",
       "      <td>[]</td>\n",
       "      <td>0</td>\n",
       "      <td>0</td>\n",
       "    </tr>\n",
       "    <tr>\n",
       "      <th>2</th>\n",
       "      <td>kenichan dived times ball managed save 50 rest...</td>\n",
       "      <td>0</td>\n",
       "      <td>18</td>\n",
       "      <td>89</td>\n",
       "      <td>0.500000</td>\n",
       "      <td>7</td>\n",
       "      <td>0</td>\n",
       "      <td>1</td>\n",
       "      <td>0</td>\n",
       "      <td>1</td>\n",
       "      <td>[]</td>\n",
       "      <td>0</td>\n",
       "      <td>0</td>\n",
       "    </tr>\n",
       "    <tr>\n",
       "      <th>3</th>\n",
       "      <td>body feels itchy fire</td>\n",
       "      <td>0</td>\n",
       "      <td>10</td>\n",
       "      <td>47</td>\n",
       "      <td>0.200000</td>\n",
       "      <td>5</td>\n",
       "      <td>0</td>\n",
       "      <td>0</td>\n",
       "      <td>0</td>\n",
       "      <td>0</td>\n",
       "      <td>[]</td>\n",
       "      <td>0</td>\n",
       "      <td>0</td>\n",
       "    </tr>\n",
       "    <tr>\n",
       "      <th>4</th>\n",
       "      <td>nationwideclass behaving mad</td>\n",
       "      <td>0</td>\n",
       "      <td>21</td>\n",
       "      <td>111</td>\n",
       "      <td>0.761905</td>\n",
       "      <td>10</td>\n",
       "      <td>0</td>\n",
       "      <td>1</td>\n",
       "      <td>0</td>\n",
       "      <td>1</td>\n",
       "      <td>[]</td>\n",
       "      <td>0</td>\n",
       "      <td>0</td>\n",
       "    </tr>\n",
       "  </tbody>\n",
       "</table>\n",
       "</div>"
      ],
      "text/plain": [
       "                                              twitts  sentiment  word_counts  \\\n",
       "0  switchfoot awww thats bummer shoulda david carr d          0           19   \n",
       "1  upset update facebook texting cry result schoo...          0           21   \n",
       "2  kenichan dived times ball managed save 50 rest...          0           18   \n",
       "3                              body feels itchy fire          0           10   \n",
       "4                       nationwideclass behaving mad          0           21   \n",
       "\n",
       "   character_counts  avg_word_len  stop_words_len  hashtags_count  \\\n",
       "0               115      0.578947               4               0   \n",
       "1               111      0.095238               9               0   \n",
       "2                89      0.500000               7               0   \n",
       "3                47      0.200000               5               0   \n",
       "4               111      0.761905              10               0   \n",
       "\n",
       "   mentions_count  numerics_count  upper_count emails  emails_count  urls_flag  \n",
       "0               1               0            1     []             0          1  \n",
       "1               0               0            0     []             0          0  \n",
       "2               1               0            1     []             0          0  \n",
       "3               0               0            0     []             0          0  \n",
       "4               1               0            1     []             0          0  "
      ]
     },
     "execution_count": 107,
     "metadata": {},
     "output_type": "execute_result"
    }
   ],
   "source": [
    "df.head(5)"
   ]
  },
  {
   "cell_type": "markdown",
   "metadata": {},
   "source": [
    "### Word Cloud Visualization"
   ]
  },
  {
   "cell_type": "code",
   "execution_count": 108,
   "metadata": {},
   "outputs": [],
   "source": [
    "from wordcloud import WordCloud\n",
    "import matplotlib.pyplot as plt\n",
    "%matplotlib inline"
   ]
  },
  {
   "cell_type": "code",
   "execution_count": 111,
   "metadata": {},
   "outputs": [],
   "source": [
    "x = ' ' .join(text[:20000])"
   ]
  },
  {
   "cell_type": "markdown",
   "metadata": {},
   "source": [
    "will take only 20000 words because text is huge file"
   ]
  },
  {
   "cell_type": "code",
   "execution_count": 112,
   "metadata": {},
   "outputs": [
    {
     "data": {
      "text/plain": [
       "11300980"
      ]
     },
     "execution_count": 112,
     "metadata": {},
     "output_type": "execute_result"
    }
   ],
   "source": [
    "len(text)"
   ]
  },
  {
   "cell_type": "code",
   "execution_count": 113,
   "metadata": {},
   "outputs": [
    {
     "data": {
      "text/plain": [
       "'switchfoot - awww thats bummer shoulda got david carr day d upset cant update facebook texting cry result school today blah kenichan dived times ball managed save 50 rest bounds body feels itchy like fire nationwideclass behaving im mad cant kwesidei crew need hug loltrish hey long time yes rains bit bit lol im fine thanks hows tatianak nope didnt twittera que muera spring break plain city snowing re-pierced ears caregiving couldnt bear watch thought ua loss embarrassing octolinz16 counts idk talk anymore smarrison wouldve didnt gun zac snyders doucheclown iamjazzyfizzle wish got watch miss iamlilnicki premiere hollis death scene hurt severely watch film wry directors cut file taxes lettya ahh ive wanted rent love soundtrack fakerpattypattz oh dear drinking forgotten table drinks alydesigns day didnt friend called asked meet mid valley todaybut ive time sigh angrybarista baked cake ated week going hoped blagh class 8 tomorrow hate wake people going cry sleep watching marley im sad misslilly ooooh lol leslie ok wont leslie wont mad meh lover exception track gets depressed time some1 hacked account aim new alielayus want promote gear groove unfornately ride b going anaheim thought sleeping option tomorrow realizing evaluations morning work afternoon julieebaby awe love 1 miss humpninja cry asian eyes sleep night ok im sick spent hour sitting shower cause sick stand held puke like champ bed cocomix04 ill tell ya story later good day ill workin like hours missxu sorry bed time came gmt1 fleurylis dont depressing dont think want know kids suitcases bed class 8-12 work 12-3 gym 3-5 6 class 6-10 day thats gonna fly miss girlfriend dont feel like getting today got study tomorrows practical exam hes reason teardrops guitar break heart sad sad sad dont know hate feeling wanna sleep cant jonathanrknight awww soo wish finally comfortable im sad missed falling asleep heard tracy girls body found sad heart breaks family viennah yay im happy job means time checked user timeline blackberry looks like twanking happening ppl having probs w bgs uids oh manwas ironing jeancjumbes fave wear meeting burnt strangely sad lilo samro breaking tea oh im sorry didnt think retweeting broadband plan massive broken promise wwwdiigocomtautao waiting broadband localtweeps wow tons replies unfollow friends tweets youre scrolling feed lot duck chicken taking wayyy long hatch vacation photos online yrs ago pc crashed forget site need hug andywana sure pos want dont think trade away company assets sorry andy oanhlove hate happens sad feeling dallas going gotta youd think shows use music game mmm ugh92 degrees tomorrow u thought u sd hmmm random u found glad hear yer batmanyng miss ps3 commission wutcha playing copped blood sand leaving parking lot work life cool sadly ive gotten experience post coitus cigarette nice day bad rain comes tomorrow 5am starrbby bad wont lost job cant pay phone bill lmao aw shucks damm school tomorrow mo jobs money hell min wage 4 fn clams hour katortiz forever soon ltalgonquin agreed saw failwhale allllll day today jdarter oh haha dude dont look em says hey added sorry im terrible need pop ninjen im sure youre right need start working nikster jared hate people diss bands trace clearly ugly gym attire today puma singlet adidas shortsand black business socks leather shoes lucky run cute girls wont location picnic phone smells like citrus ashleyac donkey sensitive comments hed med glad mug asap charger awol new csi tonight fml think arms sore tennis wonders u like unhappy split seccond depressed sleep soon hate saying bye tomorrow night statravelau got ur newsletter fares unbelievable shame booked paid missin boo markhardy1974 itm damn dont chalk chalkboard useless blast getty villa hates shes sore throat day getting worse msdrama hey missed ya meeting sup mama tummy hurts wonder hypnosis working stop smoking fat ones januarycrimson sorry babe fam annoys thankfully theyre asleep right muahaha evil laugh hollywoodheat paid attention covered photoshop webpage design class undergrad wednesday b-day dont know 2 poor cameron hills pray ex threatening start sh myour babies 1st birthday party jerk headache makeherfamous hmm u enjoy problems constants u think things find ulike strider sick little puppy ryleegracewana steves party sadly easter wnt b able 2 ohh hey actually won bracket pools bad wasnt money stark dont follow work bad nite favorite teams astros spartans lose nite tw good body missing northern calif girl found police found remains missing northern california girl mangaaa hope increase capacity fast yesterday pain got fail whale 15 times 2 hours classes work watching quothousequot kpreyes remember bum leg strikes time paradisej cool kinds complaints laptop online overheating recalls emily glad mommy training new job misses party send bad messages 3rd party send mixed ones sophmore year henkuyinepu overrated marykatherineq know heard afternoon wondered thing moscow times laying bed voice im sooo sad killed kutner house whyyyyyyyy jacobsummers sorry tell mea culpa sorry alliana07 didnt sense suicide thing refuse believe actually happened salancaster hope ok mercedesashley damn grind inspirational saddening time dont want stop cuz like u love hibanick yeah aw know wudnt stand chance ugh cant sleep 130am hanging crooners wanna sing cant sucks erresc aaw miss ya im leaving bh tomorrow quotmorningquot think aww wanna beach w u girls pissed theres asbas radio station wednesday b-day n dont know 2 know life flipped upside thought head ramen sounds good pain sides hurt mention crying fail late night snack glass oj bc im quotdown sicknessquot sleepugh hate getting sick allyheman im big fan camilla belle grum wah cant clip el-stupido work filters cant wait till puter 2 blame ex 4 broke week longer longer terms need im actually going im cold thecoolestout ehhh dont weathers gonna turn ugly tomorrow chelserlynn haha cooooold d incredible stuff hoping tummy rumbles away soon knights notice told id working tomorrow called agency follow said bedtime im missing babe long alive im happy yawwwnn im tired love imma try sleep hopefully headstart aghsnow miss kenny powers bridgetsbeaches thank letting people know im sad direct message got wasnt actually bridget india missed 100th test victory n 10th consecutive win loss jonathanrknight guess thats sadly going bed ozesteph1992 shame hear stephan mrsaintnick hey im leavin morning intending finish editing 536-page novel manuscript tonight probably happen 12 pages left laid today head hurts twista202 havent read 9thamp10th princess diaries saving francesca cry end hmm easy books nokia 1110 died mom breast cancer wont find like week im worried going sleep hoping tomorrow better day rumblepurr lol wish understood daylight savings ended breakfast hour later waking kids onemoreproject lame dont understand dont heroes isnt season living downtown sure isnt fun jonathanchard calorie wise wish junk food calorie free ate thing sour skittles big ass cherry coke man work hard getting sick time hot tea studying sleeeep getting eyebrows waxed pain phantasy star yesterday going work oh - got macheist 30 apps - sweet didnt espresso serial said sent - oh picked mich st win feeling pretty good pick way untiltonight lost downstairsworking feel bad ryanseacrest hates anoop mean seriously shes kinda mean pinkserendipity yes sprint 4g baltimore chicago far im stuck awake middle night second day row felt terrible yesterday thanks bursting bubble going school soon cant find wear gosh hard marieclr lol naughtyhaughty page sooooo long got deleted sad day history crazy wind today birding currently work grrr ipods acting weird jai ho thinking arent playing songs ughh penndbad send dvd cos missed heaps happy dont big deal website machineplay im sorry youre having therapyfail colindemar far way rail tips im swear losing gaining losing gaining tweeps heart wrenching today realized good hiding things cant find staying friends househouse sitting neighbors loud-having party dannyvegasbaby danny im upset wasnt watch live chat car 3 hours trip im soooo upset check mug borders closed 10 downloading nins new album quotthe slipquot - hell come im times days woke written e-mail ive early university today teach 830 watching hill making sad channels boring lazy day find hobby supersport miss buddy ill ny 25th robluketic love french tell people south im qtr french snarl french beautiful people opps said got day remain problem come activated selfcontrol block early meaning cant check new qc regularizing internal clock difficult fb hillydop oh spencer good guy goodlaura reese dying ttsc season finale week 24 boring madame president crazy woman jonathanrknight hate limited letterstoohope guys finei pray dogshes didnt shit today im screwed wanttss going sleep tonite worried tired post tonight couldnt shit today im screwed job interview cardiff today wish luck got 3 hours sleep stustone whack way worse whack wiggety-whack djalizay dont think people choose way think chose accept familys help dead eloquentembrace youre going kill ive seen ds9 ive waiting till solid week sitting cheechbud think ur right hahaha 45 hrs hate spartans sad mind body severely protesting quotgetting upquot thing nightmares boot mysteezradio im goin follow u u didnt lol angels mandayyy twista202 think want read books library doesnt nap interrupted times today going japanese rents kind longs bus shows end ghost world right ugh gurumn canada canada weird supposed snow wednesday ugh awwh babs look sad underneith shop entrance quotyesterdays musikquot o- like look new transformer movie sad feet macbook fell im gonna late tomorrow 132am gonna tipsy lonesome thatsthats sad im sweating forthcoming trip e3 cant find crash im screwed gotten somebody read tweets cant account infinitydefines omgawd couldnt handle cat heat time d d donniewahlberg hope auburn looking good davidhenrie thats people mag haha couldnt fit dont think pictures magazine tho haha breadandbadger congrats totally forgot submit photos paulaabdul awww good luck paula dont work hard hope fun new album gonna amazing xxx imaginarypeach leaving -gets sad- miss twitter phone broke im stupid nokia phone ughhh miss advance phone shooting outside house o kidding scared tuesdayll start reflection n lecture stress reducing techniques sure useful accompaniers tragedy disaster news week yes yes trying find picture upload correclty oh red sox game rained looking forward opening day cant find keys charlietm know right dunno going twitter getting sore throat labelsnotlove home town mammy called depressd pls explain y parent let 8yr old child walk hello 2009 ircmaxell - think need find better anti-depressants think paxilwellbutrin combo losing efficacy myconnecticut restaurant called woodntap competitive eating tourney round tourney time place 2nd bathroom wake lakin caitlinoconnor want tacos margarhitas telll gay hellolt3 im lonely company 22 female california bad day betfair office miss cant wait celebrate tar heel win weekend im cold dont want sleep theres kristencampisi 4 u officially 4 round monkeys found twin wont write im heartbroken missom aww know felt like yesterday work sarahreedsc treaty isnt defined missed brent praise band fun lead guitarist ltpoutgt jpfurry poor john happens play fruit microwave seriously seen doctor xxx missing bff watching home away reminds lt3 shout u courts mandayyy new video card doa feeling lost naked confused jk sort ofno iphone damn late filling appraisal form people sent occupied work missed brent praise band fun lead guitarist ltpoutgt think past cant change deserved wat got thinking gah lost ring no-where seen burgaw ooooooh sealclap download shitloads zip folders 4chan internet moneys fuck yeah alicia amp mikey nursing nile glad feeling better hate baby sick fucked ic brandizzzle08 yoyoyo internet rude tonight reconnected im bed jemcam uni stuff netball netbal ive uni stuff kissability poor help forget 8th april amp 13th july dierks bentley comin columbus oh wanna bad sidekick chriscantore congrats im totally jealous wish xm working gr8t face itchy poor socks luvvvvv golden retriever want sighhhh saw found tracy girl piece luggage fucking terrible aaaaand nausea donniewahlberg ooh im excited going 2 long love youtube spent 1 hour reach axis bank find today holiday mahavir jayanti contd mathewsmichael agree jobros dont update theres fishmouse hilarious linked clip lj time ago went dead link diannepulham oooooooo im thats need study havent tweeted nearly day posted website tonight hopefully goes night time bostongarden miss bentley seriously needs finish job applications son vincas sick stay home tense days work holiday kids whinging clientampboss dont understand english rewrote text unreadable written v good writerampreviewed correctly huntermoore dont want punch sooo sick snow ughh itsnemesis ------- lovemeagan doesnt work fan upset like apologize repeated video games live related tweets going stern discussion koodo soon stern zaydia cant figure pay hotel etc fml seniority bc technological ineptness quotregisterquot classes feels like slept day away looking forward bouts gallbladder pills pain thastevieg want old bass mad tired today callin early tonight nighty night twittas levenrambin easy good im afraid bad code think im going bed goodniight hate riancurtis im friend love kariajay time didnt notice gonejust needed db2 aaronrva bathroom pee ashleyskyy wanted margarita kourtneykardash yup night workouts r worst unfortunetly work schedule allows night tough called hillsong - said couldnt tell waiting list - dont know looking good 0g milky bar left 200ml coke jokerrrr stillllll hasnt arrived mraow feel like dancing art school wants rape karenucol ah bet ive like craving play softball basketball noo time terrified accidentally deleted reference management assignment hopes doesnt trouble gets amazon s3 plugin worked website need php 5 hosting provider php 44 sad argh suuuper sleepy hour ago im wide awake hope dont stay night - austinhill wish sold time let know love hear watched tropic thunder dreading tomorrow qweendassah nohes missn chiefdelphi - according bro new puppy poo fight covered poop picture stolen playing game home new boss didnt su yin huen tweeted feel unbearable guilt staff cry poor joshy sick damn tejanos thoughts sandra cantus family difficult sad time franzglaus know wanted let everybody know happening michigan dont know sigh shameful fill hours alicayaba cuuute hey miss na seeing girls everyday jonathanrknight oh mention quotgooooood moooorniiiiiiingquot germany im cageor bettermy office throat closing string cheese good idea aww sandra cantu found dead suitcase missing children stories good poor family wishing home underneath covers walking home school drains energy ridley1013 agree shapeshifting copout excited angelas ep thought week noah awesome tho savethestrib dang knew earlier outings planned wish better writing taking long write paper course access halo 3 mythic map pack re-download bad news legendary map pack ugh 600ms vene2ia unfortunately weeks ive told ive little bit busy latest project thecoolestout ha suns gone day 2 lot harder day 1 lets day 3 goes tomorrow man crush jake peavy let gayforpeavy trishzw megafast trip time day tomweds going tonight want bad tried warn tech fail michigan state sad omg mouth pain wanna sleep untill time braces getting annoyed easily today gtgtgt biofuel proposal getting annoyed easily today gtgtgt biof mizzchievouz hey girl site girlyvue videos a5hleyf im spending time grandma early tomorrow cant leave skittles got home watching michigan state tromped oh jew-bus years worth classes work alot organize gtlt im finishing tonight possiblemy bones ache griffmiester exchanging laptop hasnt arrived hyperbets hope doesnt long feel miserable rcompo rachel hang outage neccessary - gonna home wekend dumb folk work im free f sat 4 theleaguesf fun amp furious new mantra bay 2 breakers getting 2 rambunctiousthe city overreacted amp clamped amberbenson hubby reason thinks important good spot red carpet trek movie premiere sod swear matter long ive getting 5am gets easier man eyes hurts wah jeffreestar jeffree hair color permanent dye fades week otakusecret reaction whoa didnt coming sick feeling bit better got new medicine hope feel good night sleep ohh suppose snow wtf dangerm0use think maybe couple hours sleep hon productive right ur dog tired worry maddyva thanks lot learned lot new words didnt find looking wish xblm downloads gamertag hitokyri 5 gamertag thing nonsense im tired new testament test 930 scoutbuck tons hay troll ahhhh stupid movies watched mirrors ugggggh stooopeeed rip - love buck homework dont understand things taken away didnt time unfair want like baby scratch du heif half cookies tum cant anymore shoog poots cococourtney listening sweets time forever miss chi town visits plz geez busy afternoon meetings emails meetings email meetings 6pm day going ah dark dang spring break cool bad work week oh money phone ttyl everbody sarakate im afraid ur reply uni ages ago feeling carvin1 lol emotional ass men omg late night eating broke nickcarter aww nick like hair longer cut break heart wonder jon lost net wow depressing thing world losing video youve created matter seconds fml nchokkan says stock poohpot lmao im sorry poohpot ate chance softbelly mtub isnt loud time posterior lose fat articulation creaking running im drool swimming listening nathan cry today sucked im gonna die chris callum wahhh stou site update info 22552 exam open course wait mail notices doc um ohsbrat30im sorry im feeling kinda yucky 5am going come quick love scrappy missin wants hear seblefebvre s song myspace messing bad news dad cancer dying good news new business started life coach practising holistic weight management duchessrebecca man intervention soo sad help need new boyfriend im stuck rut feel like complete idiot im doesnt shit works help saw ad craigslist casting female host g4 totally psyched realized hoax pepperoni rolls la called valentinos - said sausage rolls pepperoni rolls soillodge yes monday want new gg episode miss watching rockos modern life rip sandraits sad like keeping fingers crossed buddy feeling wait eat skinny vegas im hungry margeinovera tried tweetdeck hated passion hated im sure benackerman btw iphone acting funny dying quickly freezing bs im admitting sayin sitting wondering quotedquot strong hold bananaface im sorry got sick lol going bed night carolrainbow internet home drive ox use internet builders stevebuscemi weather canada freezing twiggassssssss range day im hopefully good danadearmond reads pray grandma shes pain 3 woke having accident - quotits pushing pushingquot crying couldnt stop wetting pants home franklin street jumped fire kicked jenny lost shoe johnnybeane hey changed default finally gave bored start thing think 140 going problem tho like myspace status ellievolia oooonly lucky eh awh definitely early work buttload homework needs copy visual studio 2008 school world weekmy school silly look bright im u omg ive economics test dont know things know omg im gonna fail robcthegeek time islands pride philippine tourism coralclamrare fish poaching kinda sad henkuyinepu yeah apparently bad taste hummiemd know surprised recommends youtube tomorrow figure waiting airport ride harassed 2 men trying sell ugly hats want sleep left ids location bars fuckkkkkkkkkkkkk celycarmo im sorry dont understand comment officialrandl announcement stayed late night kishorek strange illegal torrents avlbl legal dvd stock imiss u trolley packed like sardines padre game remove car good mts randomlynat jeez trying help haha supamagg happened saturday night glittery green lighter trying reduce number cigarettes day yea quiet cuz work im bored death talk gotta cooking assignment hard treesahquiche okay applepears ive talked people theyve told jennifermf know im night owl nature hahaha time zone 1 mamasvan lol - nope complete camerafail maxime68 megelder im useless dont sleep fair want fun pookie uti nurse gabbie 100 sodas jillianfish tweet damn hang anistorm im video games matter im yesterdays news sleeptilnoon left got tempted ate soon got home chocolate velvet amp ate d mocha stressing blackberry keeps flashing red alert status reason faking hate - wanna wear doc martens havent worn december shoe repair shop guy find shoes find couple days bbarnett coming woke vivid sketchy not-cool dreams life time stare wall lights itll 3 days sister passport nicolerichie oh yes miss uh oh think getting sick good god ruined belly button watching framed roger rabbit makes miss toon town akianz renting cheap renting awesome house 3 buying attempts fall running nose spinning head good combination meeting eazydoesit87 negative lost vote confidence nasty budget iphone sent apple today sofiinoel thats bad dammit episode 3 kings wont play reason stopped middle wont im upset missed chat quiz online free internet ceased cant believe im disbelief way people hurt car season started throat raw kevchoice dont persons mind ish like prayers fam real frago hate didnt need need therapist twilight didnt come yesterday fingers crossed today nilelegania glad able help feel better hate sick love tireddddddd want sleep assignment finish exam tomorrow study know thinking need money omgits jst teusday ddlovato davidhenrie ummmmm cant find heard found sandra cantu 8 yrs old corrosivecandy ive forgotten snoo-snoo wonder snoo-snoo meet amanorris wow tweet like giant sexistsorry bathtub drain fired haz 1 job 2 amp iz fail got drano ass amp iz draining wanna shower dangit stuck home nomadicmatt 110 duckling famous childrens book stolen bostons public garden - boston globe sharethis oh appomattoxnews thank hate list includes 2 convicts heading altrincham hours install morning good im bloody knackered work today helppp xxx jeffreecuntstar dont garage park driveway lauredhel happened quoton popular musicquot twadorno probably difficult reading prescribed im actually struggling continue - cant flowers falling dont camera cellphone weve good im liking snow right getting nice spring-like weather brianarmstrong pity youtube currently blocked china cant vids margaretcho happened hightlight life best leather sofa world office means im working 3 days internet gets uncapped doesnt better days lodged belly love atekinzz ampamp soo miss wanna sneak zoo play kitties lolitariot oh hope youre getting sick alejandralei dont think cause cousins birthday party sweet little man fell asleep waiting daddy big brother home poor baby missed today angel going miss athlete weekend trust hard watched considering today yaknow shawnna tomomorrowi need bestfriend grr want reading wont left read atekinzz world rumlover u supposed date pears amp brie bottle cabernet quotwin date tad hamiltonquot oh gawwd life flashed forward im 40 75 cats crap need dresses kaeeeep yeah know horrible ugh saddening brodhe geez ur fun wanna punk rock band jyesmith thats lot angst tuesday afternoon im glad britney isnt crazy anymore hell im sad upap cook county huuuge headache omg feel like crap anistorm sorry cleders sorryi rooting man took forever shandasaurus listing items ebay sell takes forevermeanwhile coleman watching hills season premier got presentation 23 slides im crying week hardest weeks lost 160 dont like previously skins thing starts season like went stralright intro like houndour wish thereim pretty good scaring shit people going sound vain running fav lip gloss stuiy click link screams quotim spider im spiderquot known better yucky time work sick pratama imac came 320 indonesia states dammit need stop buying furniture misssil half asleep turned laptop death peaceful life bites think jonathanrknight lost net sure hope - test footage girlfriend hd dark underxposed tough game watch tonight state finally going bed staying watch season premiere hills jruby support hpricot versions jinxcat unlike sisteri dont fraking app store pissing logging need study having problems accessing ttb cant strongly dislike people stupid comments dont know story emmaketurah im sorry emma swarley goldfish im sad u tweets gone arent missed guys tonight cant sleep face kinda swollen dont let allergic thing thatll thursday school tomorrow doubtful snickthedog izzys cat tree shell stare shes floor chases runs officially banning godaddycom comp head hurts small print wasted 10 couldve happily gone boba humanopium pretty scary ilovepie mines im finding hard fit good morning ready 2 want 2 2 bed hates waiting mails wheat bread dollar store doesnt toast nicely going taxes calling early night kutner mean knew going happen sad lt3 house im sad jonathanrknight aw ok goonite ill cant cinema fell asleep didnt mean christina kelleyrowe hey remember time friends ugh vomit sick need sleep lymph nodes massive rahm emanuels balls right oh computer sucks dont think ill able listen xbox 360 fancast tonite missing playing trumpet throat sore meant going 5 day camp friday sure sasii know exactly feel work bed time 1 sighs 6 mornings week wednesday hert jesus camp yeah marybethune oh happened today forgot going dress shopping opera tomorrow turtles better mac - lasts longer moves faster soaked pleasant ginayates sorry hear maggie thoughts mum ewarden email hope feel better miamiiboii dead yu gettin wen im leavin arlenecd tell thats close california lol phlaimeaux stupid arranged marriages ill convert marry melove emilyruppe said looser implies poor sandra cantu amp cantu family prayers sick world live 8 fuck omg austins man lt3 love nicolerichie cried hard matthew died sad feet macbook fell sad feet macbook fell chordsy - find things like youre twitter lovebscott absolutely - filled curry true indian coming im soooo cold right heidimontag lol kant believe cam got beat upp sooo embarasssiiiin jonathanrknight good knight hun looking forward ur tweets hate missing fun cuz time difference tumblr exactly feels wearing tie daniela95616 hahaa realized quotimpunequot definitely isnt word wanted dang im unclever watching old videos dance team makes miss wahh csi dvred love money 2 - gonna watch sleep - goodnight tweeterslt3 struggling hard inventory ddlovato hate dont ballinbitch haha im ballin got bills paaaaay im days want work home crap paulewog waitis game episodes im confused carlyw66 haha cried guess dont statistics bunch mumbo jumbo sloanb got sadly works uk amp moment evicted doesnt enjoy learning css nachojohnny brian dont fuck u lol replied 2 ur messagedid u miss u heidimontag dvrd went watch apparently dish network went missed catch rerun jessdubb lmao u wait season come summe boo hot nd dry ass weather lizchavez cant set feet ground missing eyelid people daniela95616 english professor ashamed -o wish frogs werent extinct came home cross county tired dont want walk home snow wants pick heidimontag lauren stubborn loves love feel bad cry lol grouchy wants bmar heart broken morning dropping foo pre school understand moms quothe heart brokenquot feeling hurts im mood chocolate want miniature reeses cups cant heat like oven feel sick nwo nickcarter come chat 15 minutes boredd colddd internet keeps stuffing horrible nightmare night affected sleep im tired im lonely company 22 female new york born4broadway lost st ignacius prepatory school haha birutagme yeah depressing stuff like gets whoisariston problem tongue-in-cheek remark lots acronyms nz greggrunberg hey said matt gonna ballistic disappointed good ep tho ugh horrible ending sandra kantu story prayers danielledeleasa - hate 2 b allergic want puppy soo bad ive thought cool names morning folks 700 yawn amp away horses - hope twitter better behaved today night travesty quandotcom miss amandaenglund sorry hear loss year far nicolerichie gossip girl repeat inyoureyes2410 reckon finding hard use twitter ive stuck house days sad doesnt know y thousandmiles maybe years ill tax return girl dream right work tired hell feel cold coming clarianne knot2serious april 9th isnt coming soon hannahsix cream eye herpes - ocular herpes different strain hes okay gotta repeat art folio cuz old terms work got wet im ready weekend monday lovebscott umm nopethink im insomniac plus got fluilll sleepin like phuckin fish outta water minute finland sleeping night time lunafiko cant wait try em prolly wait weekend earliest shiner taking bed blankets clarianne april 9th isnt coming soon wants cry need bank tomorrow broke earthquake italy sadden hours away naples family sleeping stressed week coming dragoneer yea working tp hack server 12player thing folks hurt ankle going dr raymondroman oh noes manage send trash noticing feel ya lost free copy radioactive cant ipod grrand cant buy nother coz came paper shit photoshop hate crash vacations makes feel sick shouldnt gone listening murd 9th wonder- chillen missing crazy sex life louie094 shooting careful luisa hillary006 im sure ruined gift whitney cell easter beso hollywood tired dont want wake early tomorrow damn work finished watching movie prayers bobby broke heart syekr myki horrible stephenkruiser 2 dog today ran nevadawolf sorry hear dnf run tonight risk bad coords ftf honey3223 disgruntled people wrote esn 1000 hits day bill pulls 250 tops moony394 ohh omg lmao im crying right lol kutnerrrr best came running took showerwhy lower stomach hurt exercising watching fallon mom working projectschool hard 56 min till home time counting craving visit mac store closed time stephenkruiser sorry hear care paulcoles hmmmgreed good motivates individual better-not takes away gabbyisactive brat rub dont want mocha kutnerrrr think 13 ugh kutnerkal penn - youve bright star ho redvinylgirl mom wish best luck hate homeworks -- head hurts bad got ebay blues item want jumped bidders 100 hour 3 hours id better hopes gigdiary know - little depressed ate night leftovers today pc living room suffered fatal partion lost itunes library gone docs pics sad day manu season stephenkruiser poor spunkyits sadmy rotti 10 pathi know feel im sooo sad right need hug wants step brother home im worried dont know hope knows care heidimontag got watching hills loved excited episode im sad season ryanmwilson aww stinks hugs im tired feel like crap world feels crummy happy usb disco mouse dont want believe im readingbuuso sad wondering gamebattles white trash vs outnumbered emitstop true dont use spring break celebrate morning bah car wont start waiting anwb katebornstein pretty anti memorial tattoos strictest theres official ban disapproving family balamurugan longterm member team leaving month miss working hope venture justgelo sad knowing found body crazy world live child deserves ya know wanna rock maxi dress coachella lacking funding course baby screaming crib night day work let cry boooo home missing baby busy week ahead fri chill day guy kids egg hunt sat spiral dmb sat night easter followsavvy found everytime click twitter thing myspace goes dudes page stephenkruiser thats horrible sorryto hear davidhenrie cant find says dtmafiaofficial doesnt existtheres jus 1 dtmafia found n u dun b followin wht thought support augh eff sarth stole mils nail polish pretty o wishes spring fling tour dawn amp neecee sigh gknight hoyts distribution nz website isnt working great like need crummyasshole dont like movie cillian murphy hot wishes good old cartoons come ie captain planet wheres wally daria sadness feeling v good abt got text sarah day centre point - time early start guessing train rammed commuters games fall modern warfare 2 halo 3 odst brutal legend bioshock 2 need cash dcastillo ugh thats disconcerting devinthedude007 actually site finally taken damn russians tweets arent going finished delicious breakfast paris ill miss milk europe tastiest milk world dont drink ilearn great considering finals week carmonium im stressed outttt shouldve bern asleep hour ago trying figure twitter thingnone friends soo re-pinging kyle44 custom icons look cool edges square look bad diff background want la enterbelladonna dunno use forum frustrated ill miss talking lilbucknuts41 option georgeruiz unfortunately moments wasnt giant squid monster thestarrage want branch midv open dananner aw sorry hear change plans ordered macs instead time hit books polhillian yup nkdreamer donnies tweet stats 700 repliesand jrk timgrainger nah havent received stimulus ikimb0 seen ur tweet plz write bak u havnt got reply bak mccainblogette awwwww trying sleep 3 hours ago stephenkruiser im sorry hear sad lose close loved cant sleep im feelin like piece shit stephenkruiser oh sympathies hard decision hope old border collie sleep shes 14 hug josephheustess cool wont spoil limbecky im time warp sad theresawhite true lol slap face warm end march hate converting movies em itouch gross pimple torturedlady yea manaaaaaaaaaaaaaaaaaaaam marwan accent lol follower tonight unholyknight mom night brb figure burned feel like quottwittererquot tweetdeck wyldceltic1 karate tournament 8 weeks going sleep cant 1am againand didnt finish statistics homework north carolina baby aint nothin stopping nba draft cant sleep reaaly miss john mayers twitters fuck rude people remove dont like tweets bitchfucks going late mqu today im tired worki need life leavin work feet hurt playradioplay sad unexpected totally cried haha superneej morning bah car wont start waiting anwb homework little sad deepbluesealove mom amp dad 6too early shouldve asleep hours ago stephenkruiser sorry hear dog funny little things homesick criminals breakn n2 brownstone lawnord ci misty djsoulsister yeah great vid 12quot single sold years ago im vals mac iitsc clubroom sweating stephenkruiser awww sad im sorry updatingffe gives good minutes hot compress rily workng pulled muscle gng bed good night invite quothealthy diningquot session ashok hotel today exec chef rchopra damn workload - skip stephenkruiser im sorry hear dog wishing happier days come hellivina miss em misstoriblack cool tweet apps razr 2 im bed gotta wake hella early tomorrow morning procrastinating hate organizing clothes theres playing new mobbler v040 adds great new features wont play music e71 like v035 latroneb oh theres bestie missing esuriospiritus time come flawda double dates seriously im sorry hear im way late working client 1210 fb blegghhhh work work john muir dr dachesterfrench emailed yesterday u responded going long year fans got watching new house episodedefinitely saddest episodes man taxes suck im horrified wrong turbotax decided lot stuff turned sleep time tomorrow gonna suck wtf kutner oh im pissed house mean wtf amberpacific know dont know said cash rules picked oats market eat breakfast boy adamgoldston time work usc late night feel sick icecream faithgg45 computer doesnt shockwaveblah account rubyrose1 awww wish sydney luxuryprgal hahaha suriously feel like knows joke lc cant spell today totally suck vaccinated chicken-poxshould vaccinate 3 yr oldi confused damn thing school day yawwwn gotta early tomorrow whos ready weekend miss home calving seasonsad black died morning wish bottle calves stephenkruiser sorry loss brother dog sam sick wcushings disease work spend 8 hours dispatch room theres new kind starburst favereds sounds fab bc cherry strawberry fav reds added watermellon yucky productive 2 days angels andreabakes oh gee - insomnia sucks tried melatonin vivekg86 good hear support netbeans netbeans know heidimontag wish time rest world unfornately cairo wait mtva play heartbroken little sandra prayers family hadtobeyou im 900 words ill finish tomorrow maybe shortiethug come ur background covers screen corner wrote exactly lines dialogue tonight gave ashman01 complaint facebook theyve changed confusing sliced finger going town traffic bypass stink ugh cant sleep wish good cuddle ass hate software update downloads updates telling know whats downloading went ihop great diet kung foo pancakes time -rachel- internet hating night spose contactabe im jealous missed opening day year cruel having wait reviews come far looks like star trek best film year debating shower sleep little later tomorrow stress culminates physical pain need sleep cant little pinky finger hurts sarahsaturday im sorry gift card ran suck home spring break home tho accessed oneindiamobi google phone android doesnt support indic languages school life dont sleep anymore school work mtsiaklides aw wish cant speak yia yia doesnt speak english winggato free comp lol getting ready clean house crying friend moving away tomorrow swiftkaratechop stop nomnoms didnt share night peoples thinks getting cold caught daddy oh trip ruined moony394 yeah bcoz kal penn visiting lecturer n cant anymore im gonna miss procrastination starts early quarter dont want reaaaaad write paper apparently 52 degress 11pm washington state miss winter bored homee massage great spilled coke desk lame watching simpsons ive finished hills dvds nickcarter wait fanclub chat tough youre favorite mild left inner ear infection got irritating quotblockedquot feeling sunday janebodehouse hey nope cuteness hoytfortenberry away awhile tuesday haha yo didnt know thang twitter haha someones alarm clock phone woke 3amstill got headache yesterday night kalichosich awww poor puppy ok break eat buffalo wings tomorrow sittin wkayla reallly dis-like having brother doesnt know stop im waiting day fed bokkie birthday treats-sicko s kinda bummed agency told didnt look going ladies help create look work laptop officially dead happy goodness freezing heidimontag listen mom stucked paris cant travel france work joannafbeckett dont think theres close time checked closest 70 miles away aaaaand literature review friendly cup coffee company worried wont 900 paid buttload tax year okay school phoneless sleep reeked alcohol dentist morning drunk tshirt realised huge stain dentist looked disgusted cold cant sleep wants dream cant sleep hate nights try bed early stay awake hours poo rootbeersoup yeah bad people like certain burrito-eating man exist cronotriggers thats sad found mum adopted auntie twitter check mum tessm64 awesome auntie tania38 sleepwide awakeand gotta work later boy going crappy day struggling eam law cant sleep like bouts start 24 poor linny couldnt eyes open tired work tomorrow morning night ilovefatsusan 4 year old 18 year old driving twisti dont want like sucked place 3 daysany help packingpaintingcleaning appreciated oh rip wall opening partially frozen beer beer toaster oven counter kitchen smells like run speakeasy stewiebrittany dont know ride monasmith sadly yes think need counciling making ready schooldont feel like going tests smugness gone train failed turn im heading victoria followed unpleasant tube ride city anybody know ipod went aww earthquake italy sad saw pics news terrible lilibat able afford id extraction continue deal pet care people try run business send suspicious e-mails fishing info kameelahwrites lt33 codeztheyve mia tho reannaremick doesnt work cell sleep p going nice tomorrow rain comes nice weather birthday taliasunset rock band hardon expert beachbassbone roomie home day scratch door comforter goto large laundromat machines hardest thing schedule chat end day usually killed character favorite shows im upset jealous friends got new star trek film austin tonight listening q got bad headache drivin lesson mins lucky wana sleeep stevebuscemi shut youi hungry britain home boring suckassy breakfast world miss dennys good morning everybody pkoi y fais pas beau bon coffee time work essay time chauncey78 hey u talk mom r home hope r ok wish coming home 4 easter endearingevania sure wish guys tmrw usual school interferes widyatarina kal penns leaving house noooooo awww totally missed tonight lost loyal played hand bad lost half stack 620pm - early days looooooong night work yaykimo sad season wanna spencer calls lauren im editing quotthe phipstapequot 2 crack brew got trees rj dont know half means homework homework homework worked heart today doubling weight station result stiff pulled muscles ouch melamachinko feel bad unfollowing tired god hate new job days sad kutner killed fav house happy coach stringer hof co 2009now finish term paper feel like shit way want spend birthdays eve far 311 sites checking updates lot mind needs moneys ideas hiring emiliexclarkex miss stephenkruiser im sorry hear dog internet plagues miss ex soo sodding m25 oh thought pirate bay trial verdict today -s apparently 10 days featherinair study hall log immediately tired im crying reason im try hour half tonight half got night totally like girl options viable far 311 veiws sites checking updates listening bjorks love crying omg hills love money2 aww think becky buckwild goes craving tantan nabe cmon sean man watching quota league ownquotmakes miss mint chocolate ice cream cones grand ma fuck lost phone wheremaybe grass long hope doesnt rain tomatosalsa hope arent referring hello new stalker lol brettyboo u sleeping ur gonna night ur bike ride slessard wanna listen masters sephystryx ive looking good stuff write loads uni work feel unloved dropped 2 tweeters london day thursday gonna raining oh fab wont london eye robbie wont care bless completely wiped reloaded 8900 lost bbm contacts going bed sad mykele sayyyy whaaaa wasnt invited didnt sleep bad considering workshop starting today beginnings sore throat astewart87 oh gosh emotional haha idk dont want old going post stories manually twitterfeed problem thats weve quiet lately dont like lukewarm showers linuxfoundation - contact need 1099 freelance work linuxcom 2008 got skylineking722 connor febi mad need help want buy macbook pro inlove old powerbook michaeltao man america borez lol realized sent msgs idea flash hellivina ihopness gknight lovely ladies im sleepy anybody know electrolytes order vitamin work feel sick sudam08 yes hasnt reading posts properly italian homework weeeeee understood turned lights time ip therealnph twitter hates hate fact im genuinely excited tweet celesteclara cant sleep theblondetheory italy earthquake sad news day champagnemanoir rain today garden needs bad yawn yawn yawn 10 minutes bed majesticflame ouch - sounds sucky bengottlieb great idea itunes promo codes - dont work uk itunes store mattycus cry rumlover rum barrel sad rum barrel shakes head horror horror sleepless night billybush admitted fake batmannn love chutney got highly bored today scanning 24 pages daddy misterphipps cooked risotto keeeerrrrriiiiii better post thing 224amwonderfullll says alot yay baseball season boo yankees losing game lost sucks work today omg exams killed know difference haif circle hemisphere lt3 gt bed suddenly feel wish ma wme goodnight twitterfam rachelcmrn dont like goodnights greaaat lappy wont turn wtffffff m4rkm stuck traffic journey traffic free morning help lookin like all-nighter hate vernonhamilton youre stranger debbugging old vb6 code day started better toddlington quarter percent babe darn coming cold bad allergies way im miserable cant believe cutner dead house sad day santa rosa damnit digging season reaper reftype1101amprefnamestory gah comcast doubled cableinternet bill wout telling quitting suggest affordable company bay area early morn duchess hadnt managed cross legs time alexbigman left saying hi l want cant sleep tracydowds xbox shows red lights means dead needs fixed month microsoft hq king sized bed nice sad lonely hubby puppy kitty conferenceing thing im boredd gah wish sleep ive toooo muchh cooooffffeeeeeeeee bahaha whyinthehell butt im nosey sorry conversation interesting smokeyrobinson fell listdid offend 18 weeks till sisters home missed worst feeling world gonna try sleep hotel room chimpytwit brilliant idea bring think youll spend amp ill swap bring brolly simonekali autograph shout record computer dead cant listen rt kimkardashian khloe got fired apprentice biology class lip hurts sorry tweet grr school today jennlopez hd tivo got set tonight order channels 40 - 59 mouthsex asked yesterday single tweet adame ruddy money like waiting oh surprise state hmmm seriously kalpenn sad kutner favorite new team marcusmims wow didnt quothelloquot u suck bedtime school tomorrow books broke suckssss seating helping baby paperswell forcing seat im sleepy synching contacts old mobile iphone import work cant concentrate ive spent 1 hour enter bureaucratic nonsense march waste time nw confused feeling stupid migraine making tummy upset body aches shoot reading buyology bedtime great premise turning quotokquot book - lots info knew home wana sleep wasting free line town assignment finish hellobebe send updates plurk upload photos twitter didnt updates plurk zero omg quotthe readerquot making cloudpimps doh youre getting decent exchange rate moment sterling getting flogged tried download tweetdeck wont download theres inch snow ground counting im worried poor flowers dweeman arent happy camper dkoenigs thanks man im grateful feel unworthy attention im twolfe miss u im totally comin tho lastnight sooooooo fun sniffinglue ohhh love ps im sad didnt hang end place kisluvkis oh sad poor boy jonathanrknight silvertulip27 um hell fugly poker dog pants cruise hi jonathan sorry missed im homework gosh darn hard definitely vacation study group extraordinare leave campussome torts outline finished-good thing-but sleepy hwill 7am cant airfare live texas dont know ill able iowa jstricko found pretty frustrating stupid monkeys lenesha im feeling mommy lovebscott nope im right wit murder gotcha cant believe nbensalem im sitting house im sooo looking forward class tomorrow ordered maternity clothes online came today got strange didnt order size stuff missing citizensheep thesage1014 wish gotta work seaghostdesigns happened saturday didnt girlsgonechild cant fall asleep mouth ulcer painful talk eat danphelan urgh video cut robots dog cant anymore praying okay kalpenn pretty favenot reason watch artistbabee thts annoying ampdefinitely bitchy def broke like prolly doesnt kno oct 5 mileycyrus hahaha dont like time ny got 30 mins sleep got sick love normalguyguide cant learn wwi tomorrow noon new post graemearcher sad innocent selling dang wont able workshops run web directions benpritchett goodness find good hear ben video game booki apologize jap girls theyre leaving poor little girl baaaad rash bum isnt feeling good nicolerichie yes vhs cried old man died argh got early girls aloud freshly squeezed video travian total cost atk aggressor 273310 resources said im guessing hes going let slide waiting kellys mhm having good day blah blah blah octopuseatspie got chezburger book lobo look wif im trying work assignment year cant spark want lay grass read robertfperez ugh course thursday fridaysat kids kalpenn oh gosh im emotionally dying fact kutners gone arggg kal ily kaozdesign think found faceunfortunately didnt find seeing shouldnt stomach flip like headache pleeeease away siddharthind yeah application runs minutes add-ons conflict time pretty good coaching exceptional talent trounces exceptional coaching pretty good talent msu hate tuesdays gracedent quothairquot cant deal feel like im stuck rut waiting hear schools killing decided break wow awhile need new glassesmines hangnon 1 arm meat week day 3 tummy hurts night isnt quotfakequot verruca twitter im sad phone bestie shower confused dont know sirrah21 aww poor froofroo way late miss 808 fam officialprofoz sed puerto rican joefernandez klout thinking selling simx yeah slow end win pornstartweet wanna 20 lovemeagan mss snippet hunwts aski wanna hear know big love true blood united states tara long waits seasons sensesdestroyer wanna lamb god sad lost hn arm bandit disappeared set alarm wake wanted speak sis africa skype - miss sooo awh damn puppy ticks house sad oh kutner saffron lookingi know read gonna hurt look guess girl thing amp need needs hugssnuggles health4uandpets saw gsd covered stop crying bawled bawled rachel jessy r making work thanks guy im wishing time mycaricature bit got said babs bad mum im sure hurts shes laughing wanting school tomorrow term quotfail whalequot client pitch night incomprehension corp twitter lower org rootbeerfloats8 hate billy 2-day work-weekfast-forward thursday snaprebelx omg love mad feel ur pain im sorry spoiled u possible die coughing sucks ill cant believe way barnes work todayinstead 5minute walk st johns wood paulieseow hahahahahah easily ice milo best friends shitty simultaneously u turns hurting feelings jerks going 2 sleep art regressing onlysweeter dont know dance laurweeboo im ok guess hard day jade looking new home damnnn missed 1111 sarahprout tweetfinder hates having trouble background twitterwhat think twilighter4life lol yeh ill studying stupid uni 2 weeks im holidays yay plus birthday week woot transbay quotsfmta budget proposal hearing tomorrow april 7 200 pm city hall room 400 sadly attendquot afraid gi notes read sigh rain decide away invited tuesday-party start hoped secretgarden havent gotten porn spammers dont check followers havent tweets like somebody selling japan release album e bay 25 damn thats classic worth charleneli disqus integrates conversations platforms havent heard abt js-kit advertising fake louis bags 100 authentic google im pissed cant sleep dam naps lol hot lookingi know read gonna hurt look guess girl thing henrygooden oddchicken went month half ago open smelt good getting sick ready bedlong day tomorrow job searchingfyi yahoo hot jobs suck im going find job electricity today tweets bigthink zack tell edit bioprofile create login different cos site answer bt techhelp morning starving dying cuppa cant cos docs fasting blood test little tired morning - idea great start day morning im little break computer work today mobilityvicorg launch grog nice video pwc quotfollowersquot some1 inform works misses right need hug tried earlier todaydidnt work omg revisions revisions revisions feel like wasted amazingly beautiful day today pointless work foot commission ouch running morning helpnot smart shower hope wake oh synth experiments yielded night bored sleepyand mad cant find custom lanyard maker wont buy 1000000 minimum cmykevin ooh nice williams sonoma got ive finally given malaysian restaurant waiting nasi lemak teh tarik mereka tak faham bm waitin 4 theory test centre 2 open got woken mornng 7am - damn lorry van car accident outside main road causing car alarms think need laid sad revolution earlier rofl ourcitylight sudden want amanita feel unliving lanarisque hahahahhha hows food poisening going gone away missxmarisa havent heard hannah disappointing hutsoncap alright procrastinating feel ill dont want bed danielhalpin gonna try find sports bar watch got chance dont think wants home watch hills sarmar guess im funny moethebeat aww moe planning leaving tomorrow evening gonna town chance wanna write im cool storylineee gripping agreed love sound hates knows brendamew2 art tomorrow nice youve joined twitter sigh think pms making mind totally over-analyse things making sad doriantaylor outside patio named rex gardner took rip rex ooops ate panini w-mart cold says needed thoroughly cooked didnt taste raw die nao f poisoning good morning rainy france gardening today day staying bed today got cleo vets sure whats wrong shes feeling sorry today day 1 fast amp feel break b4 2 bed hold til end wk stayed focused wish luck extremely jealous kimmyawesome ohhhh sucks love summer set daydee tell forgot password amp new way prevent tons spam bedtime wake 7am glad work - extra hour paycheck waiting lost mums taken hospital dont know whats wrong shes vomiting yesterday rushing hospital congested nose cant sleep need talk penalba por favor decime ke estas involucrado en esa pagina nicatrolls theyre cancer thats killing b cold tired write good twitter obeying cops tonight total dissappointment close lifee gets worsee ampamp worsee dnwallace - shuddering shaking sorting brekkie kids horrible place called work boohoo condolences natasha richardsons family littleyellowjen dont think ily nawwww wheres derrick needs stop sleeping day causes problems youre wide awake 245am missed todays ellen suddenly miss flintstones vitamin tablets soooo gooood mattpro13 legitimately good cops onlytosee twitters tooo pealuh think need twitterholics anonymous lizhenry havent heard sha heart broken forgot sleep morning need decent coffee isnt catering open 0830 mostazzza im sorry ive failed codaqueen oh wait 1 oakland 18th cant understand 1 amp oakland missing talking bff da phone wondering stupid need eat fish guess sigh miss old friends elementary ans middle school twitter fix brakes external twitter avatar searches looks like ive missed job employ haha tacce dang ill house itunes hear devastating episode wow shout box kicked cant guess means good night slideshares embed code annoying sorry tiny embed fail flawless326 baby eat 3 prunes today finally went poor baby iam bored morning - 1st appointment day - dentist amyserrata wrote album ironically singles write gossip girl away im addicted good night swetdreamss everyonee jared chat kyte puff horrible sore throat hurts time dressed supposegah workday self licking pudding seafood fork enjoyable slowly licking spoon ready premier realized dressed makes happy wish want afraid fly eyrro awwwww bummerrsorry missed waking sound jackhammers pleasant way start day almostcool im jon8737 totally night lmao like screaming couldnt focus 900 mph song nevada long gas pumps good note won 5 slot machine love gamble amirrabennett nope babys 5th getting closer 1001 things headache effinggggg sick better ughh bed dont want university callung loud seattle tents miss peepz tho makes happy wish wasnt afraid fly errrggggg tummy hurts thought interesting f1 updates twitter slightly regretting decision cant elsess updates ripped switcheasy colors failed song poor mel feeling pain ugh working project taking small break day school day exciting happens parliament square watko shockingly today interesting day twitter cboyack igeldard iidiocracy kind quiet today courtneybrwn awww thanks hate sick vip guests today --quot blohheeee hate early fuck youku want watch skins forgot phone car im scared outside totally forgot going fisheye 2night u thursday btw im late hills lol totally shocked episode house eveing lost favorite characters offbytwo seeing doctor hope didnt pass cset missed 5 effing points kevinpeterson 2g cases like scratches dont void warrenty dents found chapped lips boo ryleebeth ye im sadbut weirdly shes lettin 2 da party confusing parents r lol kimboinlimbo chance coming itd 20 mins faster javelins bored lonely classic rainy amsterdam days feels like crying thats sick feel horrorswench toooooo feel like ive verge anxiety attack day woke hour ago im having hard time going bed lakewood going sleep lily rocki lt3 johnathon busy watching batman movies gaspitsnicole sigh midd hsnging friends damn growing p mrskutcher lol wish bad sync germany right subtitles dont work lol alyssaspears im sorry maybe walking goofy store helphint hint lt3 contempted heroics sorry im tired morning cold shower waternot happy haha ive grandma 2 days shes 5 houses away ill miss clearing desk w person didnt pic phone died signed shirt amazing words describe shouldve skipped mel lol crying inside oh let rain warm thecoolestout packing overnight bag tomorrow going hospital gaspitsnicole sigh miss hsnging friends damn growing p oh yeah miss able spell lol glavas lol u read bio spelt wrong darylo ahem guten morgen ready phantasialand cologne yay booooo park holiday ladiscoteca saw im sorry nikicheong reminded krispykreme landed msia ugly website guykawasaki thats sad goats wa-ah-ah-ah-ah-ah watching roadworks develop outside office thatll late 10 weeks fb work w asma3 nawal fe obeerate alwatan tv wish 2 bed having 2 allergy pill khqrightnow heard making announcements trying find mother looked worried work saturday wanna come company cough cough ok maybe ill sleep hour rise work thesis goodd nightt sweet dreams everyonee jared neveerr chat kyte lol tiffinyhogg heard timewarp fantastic gutted missed playing egg wishing wasnt 245 morning sleeping awesome work need scrub apt eileenb know people baf03 hi steven man week im school work weebeedee run great thanks windy today bike ride option morning aniita0517 yes thats sad topic haha going concert far probably expensive couple mt texts didnt arrive decided rejoin aerobics cos know wont exercise dont paying rm3 left bag ientje89 aw im fine thanks yeah miss mfc hope talk later today kisses huglove hartym looks interesting lot 500 errors documentation website kalpenn favorite excellent job breaks heart navy seal marcus luttrells doggy filled rage argh ive eaton today zurich smelly bags anymore university classroom computer shit day boring want bed fanofbsb4ever sorry missed worst burn life sick priscillacruz funny watched strong today chances miss capoeira zoom zoom official im going educational summer owh god bless avisionofbeauty phone doesnt like sorry motivation missoliviaa nooo brat west coast hahaa making sad oh going sleep wish 445pm im work thing hate dozing lects wake sheaf wet badly smudged notes sleepy head chances actually sleeping slim fucking money gone im 10 battery kristenjstewart watched trailer adventureland itunes looks funny pity dont think australia im tired school holidays 3rd time xxx omg 360 people death toll italy thisismyiq layin downi dont feel sccskwerl aww depressing theblondetheory ditch parish sick people world yo jimo cant talk aim anymore glitching ill cya later hope u gave msu fan car rental discount looked sad couldnt turn away ordered pitait nevr came fax machine broke driver left belly britney fucking amazing went hoteli hate travelling cheapos powerpoole people try tricky stop twitter guess good gets try dra6on sad cos u r sad gotobekiddingme triedand failed ditty003 im looking cant school work sucksatleast u home thats lol acdc rocked night reality today 70000 people homes gt150 dead italy heatherlibby oh like trouble christian slater trying kill moment hoping decent sleep tonight didnt worth shittt night goodnight world xoxo want diana f looks great ive got spots doesnt hurts like hell doubt beauty tomorrow ekim1406 hehehe bad separated babe aint callin hetty4christ heh yeah shakily conquered ladder pointless job tho far away receive digital signal w antenna good morning hope feeling better cold got hold train rammed fellow commuters vile special derision reserved man appeared claim seat luggage rack kalpenn miss awesome shock talking boy hating work upim work larrissar dont leave stay grants bday danielcalderonl yeaah hate pmelt bad thing aids catch id want inflict pain deadshits world childhoodflames whats wrong bed sick n cant sleep try w help meds s blipfm downim going normal tweeting lilylauren sad ppl shave moustaches dont know id cry tho oh gosh oh goshsusy going kill remedy finally going sleep waking early study miss friends elementary middle school cyantificnhs balls tunes holiday - chick corea tonightand missed sobs im going love season hills tell spartans sucked goodnight needs study quant legal process assessment 2moro itsangie canceled plane tickets hotel stay tickets close 400 eat cheaply man soooo want o polaroidskyline sounds fair horrible going repeat guess text sent better whee bivancamp aw suuuucks sorry dear neyawn yeah interview dont know lfta ur gonna delete like thaty feel like quottom cruisequot jerry maguire got fired right yo lol worst dream abt turd face date ugh awful shresthayash ouch imagine toothpic eye uhi feel lonely wish bffwiamc best friend forever cousin twitter people following randomly stop makes sad feeling bleh spew burps hot deadline return shirt bought topshop bc 50 bank account rest month life sucks woke 6am far earlymore coffee tooooooooo cold raining tomorrow night sooo nice today guess thankful able enjoy michael crichton curse slow internet miss youtube feels headache coming gordonchiu youre letter alway koreans dont use quotxquot theres hope working holy week marnieblaze haha nope guess original days lots revision tonight final assessments assessments today 90 pass mark harsh thats stapling chipped nails cold paulteeter passed border chewie update ocd left legs fixed possible ocd right leg worse hip dysplasia hips good got hospital bfs nephew meningitis chiu nay hp chun b t chc s kin trng bao nhiu vic coldd watch vid tell moved boo day work 3 3 days driving schiphol apperantly stuck aalsmeer anymore daisy manage 75 bed garretjiroux u write twitter miss ya garee x getting changed hopes means store poor cat foodoops im pain nicolerichie haha yeah band mmc cd lost miss bcd friends oliyoung requires assembly assembly completely overrated tonight harder thought diet woke 2day hungry jbeauty oooh heads high killin em wit da lol didnt think u dont know im good tucker inner haha hate cooking dinner maikeru76 arent connected backso cant dm compassion people italy mother calling relatives italy right riskyrevenge wait sick oishiieats play polite dance song fav dont course damn need find battery elinchrom ranger canada stock wait amp game fall asleep amp wake london today smile like mean wow song brings memories cant sleep muzocan talk australia issue woken deep sleep let mad max happy sleep sorry getting ready going leave 8am today got speeding ticket kristensaywhaa ass hm watch episodeee freakin missed scarletjac good close current challenge international font looks ugly going original font whod tweet malayalam business studies revision misses david actually freakin cool doesnt shit like happen cant believe got answer didnt ask question feels awful wont tweeting tonight maybe tweets come form tweet vomit later 1 morning think need laid sad revolution earlier rofl txt-chat jake lmfao frikkin awesome miss effin boy awww hoping guys come na xxxx itsdawns thank rmilana dont like hehe easy im danish dude craftysince1990 lol thats sweet bought tickets year ampamp partnerincrime flaked didnt end going sure razzberrie wha 4gb yay haha laggy computers mba upgrade defsound aawwwww know u mean iv girl sense humor zaibatsu meim super lucky seat train pay 40 25 min journey coyoteontherun bet i- oh wait mac prolly navel piercing tore bit forcing dog bed truck fault know looks healing yay wow got sick cant think stralrightand mtv hasnt posted hills online wtf woke apples gig ace night seriously tired work begins hour todays episode quothousequot episode simple explanation heartbreaking im frankly disappointed offended blogger writing fu penguin tpaw wooo yeah sorry hear missed origin tickets gooood mooorning world dream night fucked knee def need kick start strengthening ready bournemouth 7s need selsun bluepretty sure small spot haole rot think im coming newing twitter lindseyviloria gonna mexico sweetlyaroundme ps woke morning cant access websites havent cleaned computer completely hates hearing girl ill stevediamond know trouble heard thing recommendations mrtweet scarlettdane mary amp going dress shopping tomorrow noelclarke good morning stop ignoring cos said like cough sad nowboo hoo feeling light headed gross thanks chaffie thousand apologies fogive 4 sinned itschelseastaub goodnight chels sorry major layout-delay lt3 collakaaubrey oh joking im crushed totally gonna stand middle field wave arms waitin th break service somethin fallen car ive got hot water bottle feel twat holyjaw middle night ive committed installing windows 7 boot camp im having issues redgray ah man- sad cousin committed suicide yest 8 months pregnant - imagine crying non stop damn megan equals murder poor sandra cantu heart goes family friends rest peace little morning v groggy morning feel soooo bad doglet understanding mouth sore poor little thing oh watch videos people dying right im going sleep luke worral doesnt twitter dynoisthename haha better watch actually kill twitter lot interesting cute people suddenly stopped flirting stomach feeling satisfied nowbeen starving 2 hours disappointed nearly spoiled house teeny bit saw went away link wont terribly surprised marlonjenglish kittcat8 ya basically screwed rewrote seriously want dont know wants goo lronjaii lmaooo mornin baybeeee dont lie peaceful journey train stralright boring hooded teef sight wish talk im upset likes willieday26 hommmmeeworrkkk boooo hope fellas good night japh wish id known tickets earlier rang arvo - left amy end sitting sigh hard woke find coldfluillness-type thing isnt going fight apparently beats sleep sorry keynote whf tscc killed derek reese brian austin green actually liked character equinuxcom crashed safari tks quotfire anatoliaquot fired costumes destroyed poor situation 800am typical british morning cold wet road miserable angry drivers good times need holiday time sleep dreaming city tattoos great things waking early morning sociology bought sour gummi worms peach gummi os cheeto puffs 44 ounce soda im fat ass huge dinner tubeyornot2b thought found tweetheart guess search continues - pixieanna scroll hours missed lotta jon cyfyre finished years twinzzzzzzzzzzz missed 24 hills catch tomor real housewives ugh need figure priorities oh officially birthday happy 23rd birthday looks wish eriks bed needs motivation dressed work hate training didnt today saying snow tomorrow wtf tennessee doesnt snow winter people stop following tried fix hubbys computer didnt come disks windows key wont work buy like afford v3events way ur game right twitter lost updates yesterday - twitter fail paronychia hurts - remember days siiiiike miss old body someday soon u shall miiiiine work bad start day falling stairs enjoying work lt3 cigsrip im paperwork today n im kinda getting sick fun 5km tready want die im built running un1xnut didnt work eveningnight job needs help anxiety crap chaseboogie lol dont ask nice given ride shit started bar b cueing freeway lmao ready azraeel got home 10 end 9am start aswell throat raw sleep t asked friend piglet winnie pooh seriously guys burnt tongue miso soup today worst dream abt turd face ex ugh awful longing sewing machine birthday far away havent slept wink severe insomnia arghhhh terryfree lol byeee time skunkie sorry guess sarcasm hard 130 characters microwaved kashi chicken spinach thing milk dvd seen bet good havent seen slumdog got watch lil bros mom work oh god teachers gave rotten gogoma eat im hungry im trying eat bad parts hahahaha got headache getting ready work flip lifestyle goodbye sleeping hello work 6am evilunicorn lt3 honeyortar hinge broke works doesnt open smoothly pissing dunno ill fixed damn hate stage breakup process miss boy fallen love damn poop rachaelyamagata amazing rach thank music waited outside showed theres album nightwyrm ate cookies think im hallucinating dont wanna work wanna bed th paper woke nap rampantheart add twitter field comment found madden 08 09 oh old new missing favourite friend brandzhd takin break clubs dont tell u dont want talk advisors dont advise judge arse 2 packs moroccan mint teaand truckloads kenyan tea idolette marissatastic - im sad house episode tonight bigger amp better things damn taub lol choclatdrop404 hes paying attn shalinique saying 2 change ur twitter game like u way u r genmarie hope fix california oishiieats im hbo 30 minutes got excited remembered sleep tonight soon sad tired leave bed adreamforsteph ok house sad oohhungry creeps kitchen legsandor armsattacks fridge ah cold chicken exciting junebugg15 super glue shoe lol owwwwww doozy headache 2 tablets later taken slight edge days holidays friends public schools cant hang thursday disneyland omg finds mom rly annoying need detox h2o day skin shitting im bed way late likely sac shit work tomorrow ylizabeth died kcarruthers im 540 years old pixie years body clock chuffernote stay late -also afro stupid thing wont let old twitter page new soooo tired work txt-chat jake lmfao frikkin awesome miss effin boy awww hoping come na xxxx kristinfinley ur phone breaking disease spread phone doesnt ring flashes agh moth till wont frank morgan race chrisdjmoyles im excited live wales blahhh throat sore amp coughing hate sick im sitting unable sleep motivated sleep im feeling icky oh dear pups died 1 1 night princess rejected going 30 month ugh 3 morning cant sleep scarletjac thanks know video harrowing especially 2 minutes admit cried wrote 2 pg paper n 30 min studied n 2 bed gotta wake n 3 hours oh joy nite beginning enjoy lazy town - oh dear brain needs optimise neural search pathways find muscles cried heard girl tracy found today soooo sad god bless sandra cantu gmg2001 lol omg dont tempt started p90 2 hours ago need good day shoulda asked yesterday moment run fatboy run havent time twitt theese days insane wyldceltic1 oh man sad twitter woke spazmoraz lady work boohoo got eyenow itchy aw mrskutcher thinking today - deprssing makes appreciate life keelybin ermmm hearing dreaded alarm clock cannibaleyes bowling shit ripped eisie mate thats rubbish 10pt hug tom covered spots obviously happy doc says bad tell tom warlach curse ye fun miss online pr paramount pics ugh read cnn found cantu girls body pond near home terrible family cant sleep 205am--ugh im sleepy sad know andy hallet died thought markress understand busy tweet work samsungimaging better auto feature ironed blast advertisements industrial strength spam texasvegetarian oh god ow hurt like bitch showered dressed late shift lollypop gillianme yeah time sleep dreaming city tattoos great things waking early morning sociology dougiemcfly hey saw u guys play pushoverdidnt 2 meet u tho cuz th huge line upset lola msg 4 good morning wish weather good germany today wish dunkin donuts holland today moms japan cant wait sooooooo busy right lot custom orders catch havent blogged 31st arent hrs day right got stinking headache need run im happy bunny sorry vid hits hard beware 2 minutes especially wondering gamebattles traffic a2 cant wait till 10 lanes ready 2010 slept 11 hours awake 530am yesterday late exam gotta wake 5 tomoro onwards finished new moon didnt work tomorrow totally finish tonight geez ok wonder twitpix isnt option new phone got cant win ill leave photos cuz guess usually zzzz today macbook froze luckily able screen shot paper retyped end submitted paper 1 min late rougeforever ive faffing actually reading work doesnt feel productive thecampingforum forcasters believed lucky lasts till afternoon babybazooka toobut hard cherylthelibrn thanks rebuildersrebuilding tip shes trying help mom divorce breakup left head phone died morning 1 head phone company journey meganh93 drizzling day u going rain pour cant sleep ugghhh got work ravenous eaten gipton steak amp branston sarnies ill buy lunch doh new iphone yay restoring backup stupid apple catering gigs cool getting ready normal week working easter cant sleep hamporter walk annex hoping instead nguyen family know exactly feel man im yellinq ma mummyy lol angry mee dont want chicago liked hearing bad politicians oprah hate oprah 4 days left uk candicenicolepr havent heard homework shannamoakler im afraid fly stralright refuse plane sucks limits tony changed change feeling bit better today walk idea happened yesterday way school ugh leave exciting day work christieeee aww im sorry dearyy fuck la circulation ce mat1 cant belive home sleepy 4 hrs today round rock tx im disneyland ahaha im sad pineapple stand closed 3 dollars ok 2 hours self imposed shopping ban aching shoe fixthis going harder thought whip cream melting woken mom cant sleep lonely bed husband 46 followers acknowledge stupid mampms stomach hurt best monday missed gossip girl oh spent time bff today wonderful night xoxo pilvlp luck id probably stopped cop stupid sitting home im bored hearing weird noises downstairs kinda creepy let know hes ok kailuh dis guy talking brothers cock thats feel like talking ewww figure rest birthday today feel old ameliatorode fun shopping bear mind horrible forex truth ok tweet peep head bed nowgot test law tomorrow summer love huggers working lab report thats 2359hr tonight awake twitters dozing jillglavan soooo disappointed ti party leave vegas jacked talked runawaystarling unfort msn douche half butting poop oinkeraida agree crazy pollen trees washington state making sinuses crazy stupid 3 year project feels like youve conquered realised 1 year jdpeterson hope feel better cali need lazy laurenlenewx awww im sorry woo pages seven gowhy heck procrastinate goal 1 grad school wait morning tired today shouldve stayed bed town forgot charge phone dont think day awake untimely hour dont want school tomorrow exam having half weeks kalpenn thing sucks excited knew final team cant sleep windy scary darylsws kids holidays summer camp summer school boarding lol 2am im sniffling sneezing cant sleep morning going come way early guys bill gatess associates makes feel like know dont know oh azppa sent email state conventionmay 17-18 amp papyrus sad bc wanted attend pelf81 work demanding watching greek cant believe day ill guys june 20 ahh cabbins ew terrified news italy lilimarlene ohh sux brainiacmathew know im spring break extremely hungry going loooooooooooooooooooooooooooooooonnnnnnngggggggg night work jennchambless awake im drunk darkbutterfly thought looked paler probably drama filming jun looks healthier sad hear discovery little girl tracy poor family supposed think working places dont cycle2work scheme 15 disc halfauds good office irritating work worst client ive cant choose project ur employee wye river cold internet expensive jammed finger hurts badly damn- pc completely given sucks let everquest 2 subscription lapse dont play anymore dont time flu shot work arm hurts heidimontag love hills missed tonight jesmayhemwa trying sell prelude katsun point im trying remain optimistic wont delayed live365 getting harder day twitter kalpenn omg mad favorite character ill miss wishes david cook coming phoenix trying figure way san diego june 18th im obsessed ill fresh start promise xtra sad puppy face beautiful morning - sun shining birds singing ive playing mousetrap kids damn work aholmesnj able downthemall ta able delete account didnt lose photos lost comments thisisguan tuesday raining day huge headache gotta work actinglikeamama oh recipe gyros developed addiction germany havent able find like aus feel feckin arseholeda sign old age thinks sukottoxd saw ice rain today snow frozen water nonetheless charp nerdy amp thinking help metropolitan area network tired cant sleep jbeauty lol goodnight im laying bed facing wall trying relax im hearing things plus air conditioning sound louad needs baby home bit soon bed finally long day tomorrow cant sleep ugh going trend ill need find wakeful night hours read learn language airlie sick mason sick going miss school disco trip canceled latest blog post info saw 1 little 1 huge stingray foot-deep water catseye beach low tide turtles update picture cos look old fat oh old fat playing badminton working weight saw snow flakes lol honeybaby sound like ny-quil commercial word looks right green background want sleep cant feeling soree bad idea running sick tt need sleep body wont let draw instead lt3 30secondstomars thanks prayers days difficults vanidosa27 whats wrong need inhaler didnt know sick hope start feeling better eri74 goodmorning hahaha let guess cb hahaha doesnt know feeling trip gym didnt help computerinternet hating tonight swear cant find usb cord sidekick taking angus check-up today quietly dread time hes poorly know lung function tests crap grahamcracker working melbourne victoria police department melbourne city cabs homework realized twitter getting attention mama ishahaha lame m0nkfish eww hershys kisses ok amazing whoa im super hungry life cereal wgranola amp raspberries calling wants easterfest let gossip girlits mondays good reruns trying fit stuff tiny bag hand luggage dont think gonna work sunky grown horrid isnt seaf2009 strongly considering improvising missed year sick innocentdrinks coke 20 minority stake april fool depressing favourite brand sad said goodbye hubby globe trotting away chauv things bkgirlfriday dude snowed todaycant imagine weather hawaii right updating myspace profile need followers coz bit sad read updates blogspot bulletin myspace etc figure dont care thelmarockz thelma cant shiz blank u comments work zeist minute want stay work thought buy silent hill psp ps store cant find taxes best mood fan sleeping baby boo thought hate sombody hate tobe d gave love pay bad tommcfly hey saw u guys play pushoverdidnt 2 meet u tho cuz th huge line upset lola msg 4 going sleep johnny died oc fucked sleep ive decided homework instead oscartg morning sun unfortunately need holiday day year stephenkruiser sorry hear dog trashkitten solution found got spanish revision today cold playing outside yesterday stik-o chocolate need sims 3 gaah listening awesome song dnt wanna upload limewire lindajames im morning person prefer night smaffulli correction dont tell cert use different matter win ktml think itunes fault cant download mac quotstore busyquot got awesome camerakit update katerih tj dinner tonight freezer melted martiy ouchies good day goodnight supertim geoffmartinez youre going mexico easter early twitter buzz star trek secret premiere austin - holy crap wish think im getting sick happy birthday jaime loveyoult3 officially screwed right midterm quiz 2 projects 300 page book shoot revising essay talking hubby aim lizdinkel lol figured muchbut know dont talk anymore maybe easily offended traffic bad normal super early meeting yo hella weird twitter got deleted dont hyphy east coast e40 perfectly ripe fresh banana goes bag arrive office looks like hit freight train poor banana home mc bored missing sigh im bored tadi exam amp okay thursday lagi exam gaaaaaaaaaaaaaahhh rufus rufus rufus bloody brillaint shame mum miserable crab liten work maddeh sync stummics hurt right studying commerce suppose remember fever cuz like troybolton hottiemcsuperbob omfgz nail buds - cries - arghh hands itchy alergy beef eat chicken cant sleep missing person love past 7yrs life time ass gear start day sleep early tomorrow today fairly certain flu im going misery freakin bed ugh math lab dont wanna leave co 415 coming soon brightillusions fill position theyve tightened borders sucks want magic happens month lol sophia terrific job usual gonna dinner jmielcarz send warmness way cold power levitate negative trying hard sick stuff took rid cough casino big fat loser day week long want stay bed theajp glad enjoyed mate gigs lined near future horizon mo isnt feelin 100 2day going watch julian play bball want phoebe duncanmacrae hmmm good luck got denied letter bazaar bizarre sad looking forward road trip vendor annoyed bones preferred gratuitous grossness poor angela onlinemigration im going hehe layin bed 3am cos tummy beatboxn bd hd 2 wake cant eat unburnable calories nt gd quotabsquot hungry bed work rain gabysslave thanks - essay write fuck len weins house caught fire earlier today family safe lost dog thinks factorial designs going death test quotaquot comes confusing quotmathyquot stuff ugh schnicklefritz omg problem lent gave friendlypharm bad true thecamacho danm wanted hear studying sucks yay hannah montanas disney channel fun photos try upload big world right sun shining people busybut labrys67 chat broked ruthclayton oh aint gonna ur bitch muwahaha caught looking iphone promised wouldnt torcher 6 months left current contract goodnight im feeling better im going doctor tomorrow cardinaire ya blimmin heck im slightly tired didnt otalia im going 2 bed nowww - surprising rly school 2morow thats right spring break days r wants camera unc dominated second hills hallelujah econ paper gaussian copula def deal physically tired cant sleep tks pa 4 quottapauingquot croissant tuna knowing dat ive back-to-back meetings morning amp zuraidah tks 4 buying fav starbuck mocha frap russyrhubarb new twitter telling boo way think oberon dead havent seen ages jeffsmithcars want send traffic page youre arielehenriques feel like preaching lol damn im guilty looking getting completely different config finding shared hosting hard having control tv wcharley cute sweettrying blues cheer tweeters djteck mean enjoy job nicest outside im indoors morning feeling poorly hope u good day x contemplated going post-midnight walk piles work oh em gee love want want want lusting things afford broken mir single morning feel sick 7 hours sleep cant sleeping im thirsty indiblogger neei dotn comments suggestions peace quiet amp stress freeness bout come end found sanaand realized like white girl eat problems work sooo bored misselizabeth food allergies suck allergic shellfish 4 months ago blue love shrimp dtrix mom root canal alsoi feel pain buddy 830am theres far noise office worked home today louislucci usually sleep 4 hours night going bed 5am tommcfly good morning tom cant send message short question bad guess guess dad pregnant lol nah doctor epidural chronic pain josordoni yeah good news y combinator interview week dunno bout oyster suck guess siralmo wont let play doh keeps saying user valid enibeni knew ed si que se duerme temprano s valonthecoast lol awwwwim sorry youre stuck n boredyes hun thought trying entertainedcant easy jamzeee knowwwwww sukkkk care gurls kalpenn arrrggghhh hadnt seen nights episode pity lose early morning meetings infidelsarecool ugh depressing want punch dont understand setup subversion website imperiusrex brahbrah ugh bed hour joshsharp money dont know maybe lie hes having like little bit lol sat work fair fair whoh day shut hydraulics assignment time oh wtf house cool brain hurty squishy mess vomitto ahh ai dreptate pixar woke early watching tv trying sleep working lisalent freeview dont sports channel way im gonna sleep tonight travoradio morning blipfm dtizzler took entire walk train station undo amyg0716 thats sad wolud hate choco milk earlier d lol allergic reaction contacts stuck specs clears means end breast feeding tho wow x60s dead finished cooking spag bol scratch words cooking past 4 hours im hungry anymore trying write dssertation ilovedt thats thought bummer response support blatantly untrue fake accounts shut time contradicts terms oh noooooo kath annual leave du du duuuuuuuu kalpenn thank great character house im sad babyporridge didnt twitter crap reply dad admitted hospital yesterday want fly cape town visit r1900 monday return ticket kulula havent tweeted ages twitterberry doesnt work anymore help dont like late start night shifts coupled bloody light outside window im meant going sleep longing yesterday want guy like carmello jimmy laertesgirl sorry hear specific x ha ha ha damn good time chillin wit favorite hizzo danced face lodge backbooth work today evilunicorn im aim rn accidentally sugar food instead salt im eating sweet fried rice clumsiness astounds dont hot guys gym train morning dullards sales pitch today potential surface customer sales development days downloading torrent nights sytycda love bj tragically predictably eliminated waiting update car shop bored homework pingping worst laundry longer wait unpleasant zappoman oh tweet weapons thats covered pandoras box - cant uninvent leaving mad fucki cant sleep reznik360 bonbonfire fun confab matter comes wish hadnt worked 9 im gonna miss week sooo proud bro huhu hes talentfull wish best like im missing best friends miss fun times love guys miss homework sneezing feeling better 28 days passed night mum puttin cream mytattoo princedavey aww invite lol jk coolness day bobbyly nah gentlemen got class 8am wednesdays thanks anywaylt3 phillyd awe sucks cant sleep bed hope dad gets better prayers note dont choclate bar schiphol passengers didnt hear hunn today getvisible journalists ambulance chasing lawyers reckoning good morning world couldnt sleep tonight copenhagen doesnt want leave head flo rider sampled blue song messed song devakishor oh oh thats sad extravagant time conserving plan lined todaywhich ive forgotten iwouldificould watched tried youtube link wont work missing boyfriend im phone tweet wont rudd money doubt kbsesbxr4ampgook rebeccamayne sound boring hell becs sad earthquake italy wilshipley sad dutch localization dl2 bad incomplete truncations codylfriend - youre sweet disobedientgirl wonderful ll slogging 9 9 eh mrbigglesrox hey emily lie meanie pauliwhirl omg whine whine whine whine housing lotery stfu explain qidong fucked stayed late didnt design like wanted allergies playin like mad today planting friend today funeral gt20 years music today blipfm undergoing maintenance anyshalyke oh went clubbing lol time realized im talking jacvanek sad thought isnt lt3 cc doesnt want school tomorrow day twylas day bavstertwit u cant sip crap vodka nope c25k got ominous knee pain - good doctors today emily rash looks like measles shantelleb aiiane whats wrong attention whore coach gonna fun misses rach deiondrasanders im late wish morning person im ahhhhhhh everyones laundry boxee pandora useless oz boo hoo hurt leg timvansas need finish rest seanporter thank uuu know heard youre dallas downy weather wheres summer karsentheslater im getting pissy lately - know mormon jokes - im sorry hear mormon jokes feel bad realize sounded tad drama-queen havent sick years hittin hard time okay im sorry mean im nice craaaaap macbook pro kernel panicking lot think im going forced upgrade sooner summer pose ta b goin ta az dis week hope lol sad sat watch tv remembered dont cable anymore lol 1an3 thank today lovely day beach followed dinner gorgeous lady roll work today booo tyjanetrev agreee clearly want attention sorry couldnt catch train mateee got smoke eyes burn loves drupal file framework module sick bitcache errors making impossible upload files feel lonely today hebb wish bed haha house creepy night creaks stuffscary lolim gonna bed cant upload pic ahi hate flunow day guess happened accidently shaved eye brows need glasses zackdft like reading bullshit im confused sucks study math 4 econ isnt mood misscassandra quotlions amp tigers amp bearsquot shyt god good consequently people replies damn stiff neck day 2 djginaturner le gusta house house 5 min intro missing fab marcellariley repeat tonight gossip girl losing hubby week tomorrow work easter hoptonhousebnb im thinking getting old fm tuner garage im having problems pc stops playing audio want money kevo hurry anybody willing help ive trying sad tune piano new song ends happy bright bursaar good havent gone bed baking oatmeal chocolate chip cookies tired cant sleep editing 3000 wedding shots begins facebook fucked kellyshibari thought saw walking door saw derek319 shwe370 sweet fun stretched browser watching twit ads appeared google adsense team said delay 48 hrs tired need regular 9-5 dog room snoring going sleep hoping wake tommorow wednesday instead tuesday dont want work wtfanabel nite cant sleep im insomniac week alissarules basically feel like need better care seeing fool juicin spitting stitches bone graft hooray reliable signalflare server fun nights work start working day sleepin skankityspence halo tonight leave schofe bridge hope watchin im missing heath ledger indigoredhot sorry day waste hope found good bits yay homeward bound awillert im jealousi want salsa cookies amazing blip quotunder maintenancequot amp im goin withdrawel madninjacurl hey neighbor msjodiodie sad situation 1-in-3 beaten 15 seconds amp 3 killed day sadly commonplace editing 3000 wedding shots begins journalist throws shoe chidambaram starting resent struck creativity midnight having work morning whats best way eat reheated pizza trying eat hot makes mouth pain sick day sucked im late cant sleep best intentions im late work lindajames thank spent ages thursday tidying came looked like right tip heroes losing momentum come writers pick boring workalthough wish bed sprained glad im holidays stupid bus early missed stupid thing missed bus finally got bus missed second gutz mrnokill mrnokill problem arent appealing wide audience think aiyerchitra yikes clues engaged muppet orlando realised oh god cant marry justin timberlake gosh itt 939 soooo tired quotyawnquot want sleep cant train sans guardian dc saturday afternoon 17 hours air south fljetlag sucks havent sleep thurs im work im sick helluva lot todo blows screwed confused dumb child felt bad life wish specialty bad went doctors today blood sugar level 178 goshit makes sad people dont god chance kaylee110 yawns im pretty good thanks awww im sorry hear feel better soon lt3 shelikescute thats sad 840am ive awake nearly 2 hours cant sleep dont like sonny gone drunk kirstiekalamity finally updatedoohh sooo miss internet sorry woop2x open apr10 hows goin miss sebbypeek dadiiyal youll familiar twitter pretty soon im coming summer means dont loves drunk hole favourite bought sale christmas cant exchange try fixing later feeling poorly sorry cant swallow ow stupid glands streetwearbear yes thanks reaveling world bro fuck life hahaha cherrytreerec cant stupid youtube location restrictions whos speedo wants mmmf play supporting role mind guys huge cocks banned sims forums rest week aww feels weird sticking chanel willadam treated latte appointment horrible need wisdom teeth surgically removed celestechong oh ceramic ex abit visible inside ones ex double price n double duration dear crimestoppers thankyou regular service burglar alarm im grateful new 200db ear-deafening entry tones fightin callin run 2 sister nite sick today lot work trying find tech job cant find entry level jobs job site spam jobs 4 insomnia bitch threw bathroom fun work hungry sad throw breakfast bin oh darnits mandy creed isnt jordar mikerra dont understand didnt mean break anyones heart obama visiting istanbul today main roads closed cause effect lovely day blazing sunshine bad work omg girl woke reason doesnt matter amp cant fall sleep gotta b 5 maybe ill stay sigh viennateng didnt tweet germany heard concert marburg radio 1 hour started late night re-runs getting homeits snowing roxyyeah yep loser finito bathroom contractors house quotes incoming need bite bullet caitlinaudrey awww sucks going sydney sorry sf rescheduling sf trip coming weekend mid bad circumstances 2morw blasted wisdom teeth pulled need sleepcnt stop worryng hate needles morning twitterati large coffee bath todays list appt 10am loads desk work hitting gym looking forward rewiring studio doesnt want work lol sherrigarrity sorry missed responding yesterday rochester mn far dark chocolate rocks wanna come bohol cold buee ate piece angel food cake laffy taffy driving la quinta tomorrow sleep im oddly wired aaaaaaaaaah cold outside sunny running low batteries shell gas station lunch break tired ready sleep having trouble sleeping burnt fingers hot cup tea - ouch hhh times like want things stay right comes wrecks mileycyrus problem 443 lets counting works123456 57 58 132 133 134 zs way school today im way sick wikipedia gone forever goverment fualt lets hope donations bring cant dissapointment haveing absolutly notice gone sad boring boring - reminds doesnt wash hair thats gross know feeling like dancing rain like pixiebut rain stopped ohh welllol ill watch flight conchords instead got funeral government employee-friend deepbluesealove beaus online tonight bummer uand music started getting mailshots aimed pensioners - downhill wishing sneak watch star trek premiere owww hit elbow hard door cant wait 2 c carter bak skewl hate gettin sick suksblech bestflights need 2 ass gear wana away 246 bt nt sure cairo amp uk maybe bt b able 2 earlier bt wont til 85 wow epicfail search epicfail didnt entries apparently widely im depressed dont want cold april noes goat-wool socks worn tired cant sleep dropped car exhaust replaced - thats 250 spending school work boring working business law paper right cant wait till im hopefully tomorrow grrrr assignments olabini site gone got pause twilight nearly work hollaglam fav english teacher miscarriage amp u knw wht makes sad going baby tamara anxiously awaiting june 28th come soon graduation ceremony looking forward 10th end break common chidambaram george bush morning stuck registration assembley nayyy cezzadwen think pretty standard cant find canberra home flu ahhh suxz tired sleep hour goodnites serial city stupid sianllewellyn ive txt morning lfta got im sorry cant understand ur tweet common chidambaram george bush feel like change picture dont think bff audrey hepburn nooooo good im allowed cry ughhh staying late makes think stuff forehead starting feel like cut slice oh thats right cut slice forehead today annemarike oh owies happen thinking pay dayanother 3 weeks lol allstarninja choices limited blocked hulu waiting flight slumming departure lounge area nightclub making 8 bewilldered uni students arrived home poor folk like struggle uninstalled rails 232 tried fresh 222 app - dice obviously bizarre setup jcturner yeah good going 221 didnt resolve tasouls stupid watching lol shortage waiting missing baby boy omg house adriii omgosh theyre like biscuits yum xd havent lived youve eaten missy p amp miss x tooo early im running late dont feel hot leaving koh tao start journey bangkok cuckolds im set ill watch 2 huge membered guys feel like hat stand fionamccarthy sure got loads today ps broke fucking phone people home town irl connect xjerx shes ritz lol ok gig got planned work xx katyrullman need old world misses hanging awkward aplusk amazes men like actually exist hope find someday love value going school dt juzley yaaaay maybe shouldve gone mileycyrus guess counting sheep didnt work hope sleep need clean sensor slr spot removal pictures woken hammering gtlt stopped cant sleep hangover stuck traffic elliee haha yeah thought complicated ive got home school weve got holidays x think tonsillitis mileycyrus meant spending day heaven wmy mom getting foxwhisperer clean resulted soft beaing soaked wet couldnt open dry mhbigcatch 8oz golem finally got wight - 3oz nickcarter time warcraft yes simple game group fans let know u figure want prize yopatrizzle sure tell u truth long ive seen ask sumos daddy paulskratch custody lol wish eddie izzard tour damn stupid expensive tickets cake death cant sleep im stressing jpc lt3 think im insomniac cant sleep birthday 5 days oh yay coughcoughcough thats right kalpenn confusing hour life long slow day ahead sigh islandnene83 didnt consult plans maybe changedand thanks dang im lazy ive begun short stories weeks finished focus lostmeself uh february haha imy mizzchievouz sorry air holy shindigs thats hot thinking hes going reinstall wow simply refuses update 310 irritating times itll forever okie dokie tweoples long day city 10 boooooooooooo good night lovelies lt3 hoping fall asleep watching knowing definitely wasnt national treasure think email domain blocked akismet blipfm undergoing maintenance yayfuckbuddies haha wont anytime plan sick plans window rodrigo grey morning feeling ill sorry o mind trying write maybe sleep classits working cufa getting lots dentist time moment stressfull sore nice easy rest day coke zero mobile site broken iphone quotbruce springsteen embarks world tourquot apparently oz unworldly planet today got2do shopping 4easter lt3 malachi xx owww im sore 2day grumpy abu dhabi boring photograph kelmarshall tell mortgage quotes sat going skint 30 years hoping posty delivers pink tickets rustyrockets sense blog coming bad leave like 10 mins xxx house big mess crammed bedroom rooms liking work morning argh opened crisps upside hate feeling ill blazing row boy tantrums round missed train standing platform feeling guilty dont hot water enibeni lol im sorry love ya stupid dating coach makes feel self-conscious hair joenoia wass lovely anit love worst dream usual nightmare worst probably gonna come true pfff want bed feel horrible today want easter break psklov cant sleep dunno biking hard yall dougiemcfly morning im upset rabbit ran away night postman woke early reply ilu x drs early man internet slow atm looking gray sky sun stolen painful shoulder morning 452 im 2 tired 2 think peace m 5564583833755523 811 loud - miss a-hole answers iphone questions help upgrade 30 heart abused hurtful lies truths hate sappy kind things hate fucking bored work landed funny foot morning jumping stairs twisted sore taxi way pizza bad traffic headache worst xombiexs course arent remaking haley bit hope migraine cant sleep boo reason strong urge draw illustrations novel covers prodigy ace night managed hours sleep night feeling today cool day guys realised time actually final having horrible headache day nose bleedingawful feeling found use windows 7 browse twittercom firewall software automatically turns pc hangs work bump long weekend definitely curses yoghurt exploded bag way work smells like toffee heart abused hurtful lies truths hate sappy kind things hate gold syf k ias awake school today im lonely company 22 female california genting gohtong jaya com vishalud yeah got choice 5am study 5 reach class time paper hows eco treating sloth13 isliye nahi kiya baad methinking ki ab tu movie dekh raha hoga gloomy weatheragain sigh gonna find files argh sad march break mileycyrus awww u seriously cutest dog miley sorry hope u sleep xoxo qr veolia fail translink buses trains dont align early train late bus hour later crackcouture wow sounds fun nah going melbourne couple days unfortunately tonsilitis birthday jeffkang greeeeat ate hard work away ellendeg ellen messages didnt notice im sad try hard communicate wif u observe amp report premiering chinese theater driving slowly saw reporters amp red carpet stars tried smsjunctioncom got odbc driver errors ch0en huh like didnt know plans today im scared know moving fear teh boke fml heard eminems new single official fell heard eminems new single official fell bit weather coupla days -- workouts low energy nice day chibi stuck home waiting parcel officialrandl wheres update missed ellisonrox awwww tomorrow 4 watch guys persecute far away holidays bloody insist waking school times finger hurts cant sleep vicoden amp alcohol combo fell tired want sleep im work need bathroom missing roo totally ready stupid sicknessarghhh icedcoffee end read error persists cant add library cant update delicatelyreal feel pain need post video im stuck nixpineda miss youuu penalty scored tynecastle got beat duncn revision oh morning itscammy likes leatherhead okay bbs lt3 know info night clubs la cost wanna rent year ill invite yall got combined ear toothache wants rip face stamps foot laratron alas pimms dont think like saw ride thorpe park tv ad makes feel sick goodness knows ride joined twitter doesnt know pfff rearanging database wishing loved heidimontag hills episodes sad ps love watching dj emir battle computer supreme ruler studio think computer winning quotflight conchordsquot suddenly disappeared spotify kids crack dawn im cold bleh starting work stuckrecord naar haddow racket mee wahey breonna saturday reason cant explain know st peter wont marleyuk think spoke soon - big black rain cloud charging town didnt end seeing bummasome ppl pain flu isnt way update twitter cellphones vindiekins aww youre leaving hoping input -- avatars rp thread mtp torn personality krist0ph3r thats damn sad hope things fine gud lunch sinktoswim hopefully enabled activesync google apps account sync contacts calendars net mail loveeee lt3 hurts hate away cant sleep anymore depressed new apps alpha 0010 complex apps version 95 long small dev teams days currently watching quotroommatesquot miss nyc needs hug office - 3 days long weekend mstyrac lol yea thought tht sowey thnx rod ones sitting aroundquot orange fav color didnt kno 2 use feeling blueand everybody says jokes bad waiting waiting waiting phone mean actually sleep nightbut hate therealswizzz guess graphic art didnt cut huh hold hawk getting job better idea want jvmediadesign pic bucket kitty ill probably post tomorrow means having find cables connections - snow guy im seeing car worklmaohe gonna kill bonniebix controlling life possible uni graduation start masters boohoo having major head ache sucks men arrrrrrrg mileycyrus - napping point need gma gonna come early yes got ripped shop wow slept badly feel like hell maybe bad yesterday ill time work work little sick 1 need sleep especially school 12 hours beeeaaach bad day need comfort drink - sipping mocha frap starbucks tricia tired day busy head hurts thinking annnd tomorrow woe realised works bunch racists gerrycoe hi gerry im dublin time college tweet4today quothave limbo party supple barquot yayfuckbuddies horny im hungryyyy need sushi wish bought camera-less e62 day 6680 went dead miss photographing little things dslr bulky arhh think ill end going point skoop cause rsi rsi guides tell use hands shortcuts ah wish luck posted marcfennell photo alenakristina oooooh love sorry cant help cant find probably wont able find know sucked heather sewage bath xp poor owen bear total drama island borning - thats cold virus - bunged eyes squintybah day need school im longer google britsystem stopped eating sleeping day im worried precious little bean finished making chocolates feet hurt gawd laptop fucked system error lil brothers laptop freshly squeezed lied showed video end ok stayed didnt watch heroes admin stuff wp stuff learned new wp stuff finally happy layout loved mari trinis songs child devastated spiegeltent wont coming edinburgh festival year im sorry ive ruined forgive think use twitter offend people unintentionally mitea missing 3 days leave easter work week long list diy jobs home heading bed work 6 hours gnite twitter worldlong day tomorrow night class till 10pm going priceline city tomorrow lost haves list miss kitty cats dentist midwife blood testswhoop de frikking missing vemsteroo unwell having phoned office going bed morning sigh lizp02x oh man sucks im hoping school happy tomorrow wont good ahhh cant bothered gwtting dressed x tired flowchart kens stompthewalrus haha lived texas past 12 years think explains lol si habla espaool completely addicted iphone like bad habit wanting sunshine lay pool trying finish mix fucken man lol tiring night work hope job got bout hills dang nabbit lol sickness making impossible 2 sleep hot cyantist youre lucky wish twxtd4jordan wish door open people need saamx thanks toolt3 abacab1975 sore comes tomorrow shutting twitter friendfeed beta doesnt appear like twitter account hmm work easy wasted hours silly mistake system slow mileycyrus find quote dont answer better sleep xoxo germany morning know mondays bad spills tuesday cant sleep wondering following keeps going guess gotta try interesting haha boycotting work facebooks fashion war faces mammoth task rest day things little time jeles argh sy pn mau jln sm kau jg sadddddddddddddish annoying place 4pm half hawkers closed want otah mm twitter appears eaten posts naughty twitter university hawaiis hamilton library hw drinking orange soda masha sad people called red carpet blinded lights moony394 omg cant believe want cry freaking fb spoiled happen watching davidtennant interesting setfilming updates wish cardiff struggling fact dance 5 days away vacation ummm wait 6am video ow ow ow tummy ache candy learn having trouble accessing replies click link right happens cant access feel yucky sick morning catdevnull nah rang progress offered rejected reckon 117-118 feeling terribly sick right ugh wake ff goes sleep guess revision wanna twilight love dont dvd oh guess surive rip baby girl sandra cantumy prayers r cantu family strong id like know sleep kremsersenf away tubingen germs yes away friends completing reports meetings morning interviewing people afternoon busy bee today blurrgghh - problem picture txbrad need coffee lol saw tweet mcintec net lol comes mibbit mibbit slow twitter sucks super adventurous 2 days luke gone home let morn loss hero im continue playing sims 2 want puppy quotblipfm undergoing maintenancequot sorry music tweets im shaking jonnyisgeek cant watch sucks amsterdamant unfortunately didnt dream shoes travoradio morning blipfm ohonefourthree word word stomach fucked sucks hey djtracyyoung arent playing gaydays year year know tracys night best night money isnt suppose depress x0mrsjoejonas im okay im missing best friend breezyskies pet course time sf ok theory knew good tools barryearnshaw pezholio achilles heel spending x dvds 20 hmv appletv died dreading diagnosis looking forward class work tomorrow day negotiating wth insurers spilling beer laptop night probably avail talking woke bkk protest maybe ho chi minn city im hella breaking probably sick ffs poorly sick corienb kutners gone new episodes urgently arent available dvd goodnight followers darn forgot tonights shoot postponed loose end nowquot amazon mp3 downloads 29p 10 cheers jodiedoubleday ladyldn hope feel better soon ill fun finally home shitty day work floorset maybe insomniac nocturnal eliteforce - told friends constantly circle globe flight uk downunder worst queue ticket phantasialand looks busy school holidays ftl silver winjas fear closed cherrytreerec oh man cant vid ot available country tryin nap cant sleep bivancamp update itunes new version b4 lost new software update killed ipod wondering sunshine went got nappy wet split going nice baby bath nappies honeymunchkin anger getting bigger minute goes got uglycomments videos today day government kills havent talk aaliyah love miss wife says thank mags sent newkidsfan awwwww ur gunna cry miss blessed w love memories dottedwithearts lol gotta work finished needs work tonight ughthree hours coming wish easier got hint booooo good morning cant believe week london marketingworld london sure im boring dont understand use cathrynscott thank - contribute discussion angels airwaves vs blink 182 doesnt want remembered ive forgotten best friends birthday awww ellie sounds sick poor thing baby miss writing article video converters test itll long time pietrofelix good luck enduring tiring journey start epic drive glasgow alton towers looks like rainy days work tired reports fun maya spayed todayim nervous thats im folding getting tweetie iphone - twitteriffic taking toooo long update need grouping amp replies tired storycorey mac going long week funeral work tomorrow 143 jac gonna great day 4 6 members team woke feel like rubbish rest chill indoors play xbox cold drink rach2718 oh sucks mike work saturday monday andrews got friday till wednesday bugger lol im accutely aware bob know wake paris grey need sun peachfuzzuk ah thats ok quotto stop da terroristsquot claims acceptable im trying fine friends twitterno luck far xbox finally given fight working senior paper ohhh hate civicsss havent update bin stuck gf week non im bk class learnin argh driving london today wrong turn kings-x - stuck extra 30 minutes logjam traffic beats cold damp feeling pulling wet pair knicks yay work todayyy working rest week lol dancing im emo want write song im illi dont like season hills oneself ends havent update bin stuck gf week im bk class learnin ellelovexx haaaaa want mac amp cheese toooooo hahahaha heyi got u left herei guess im making today oo lol ugh 40 dollar fill ups pump helenvking feel commuting packed trains hideous triner bad couldnt wait month sell miss glass house thankfully pretty moment uploaded youtube future loves iphone hates fact tjat needs charge plug train doesnt work theresev solen var inge varm waiting cisco ip phone load listen jonas brothers love band come germany cant bradhfh hello stoped talking lol irritated find patch doesnt released properly tmrw whats point letting jess22t diff camps gahh theyre rural woga woga bathurst theyre best 4 advertising tried install twitter-application phone didnt work tough boo nybabe oh balls forgot article mail yesterday got link electronic copy architectural modeling change going smooth far intuos 4 m looking tempting cant promised leave right hope wouldnt break promise flu shot ouch scheduled productive hrs sleep insomia gotten stephen left miss sooo im gonna lay count breaths fall asleepwooo lolits cuddle day todayi need cuddle 324pm dont wanna chemistry course dont wanna meet jordi thats main reason leah going zinziii dammit ya heading home didnt messy drunk point tonights gyratory system vibe bar electronic drummer illness wow nw001002 operated a330 ac power cool ticket price hyper crazy expensive cold 76 minutes going bed eric hates wont run day ivf injections let fun begin stephendon24 cant commit time play time isnt elses michellepen immensely started playing new sites didnt want mess easter - paranoid moi lets hope sore throat clears break pre-cursor illness holidays bit scratchy throat hope goes away thursday weekend fun ugh hate haviinq dis sleepiinq problemsz wanted tweet victoria silly canadian service wouldnt work home sad vacation theres security sydney airport spirits bar startrek adamcurry possible add stream option uses regular 808080 port cant stream noagenda fwproxy gfalcone601 nawww fly london australia boring addersop habbit misspelling bought got picking parentsgoodbye house understand twitter yawn morning real rough night trib agreed sun shining gotta work moony394 think denial watch turns earthquake warnings italy ignored cube creepin dude cancel trip sydney lol going work snowing im bored fingers hurt playing guitar day sevenmac set video channel podcast miro checked youre listed meeting hour explain quotwhich version oaw usequot atm heap unbundled emf tools miss room pasig place right sps carter co kentucky estblshd thier public library need director thier entire budget 54000year day age doctors shouldnt long results train late im gonna walk hall shame maefitch deleting number jess22t haha know eh im thinking vet science sydney uni cept guy wasnt night hostpital miss adelaide wish beach looks beautiful umm yeah homework im going bed earlyi wish sleep tomorrow morning tweetpeeps didnt bed 3am yesterday msn alex 2 wanted play dead space bed good morning im hospital dad spend basically day waiting room minute app fun fun fun cant sleep brother home girlfriend baby cant sleep room firefox e lanati hey crash hey crash wants polaroid camera hospital s jaw breaking happen wish iphone let thing easier tried install twitter-application phone didnt work boo dont want study want shopping instead saw girl blog thumbnails went wayyyy cp feel dirty need shower ahhh drafthouse surprise world premiere screening new star trek night torchys andygosling ouch zoom1 clearfix method friends loving fact 330 lil daughter sleep nasty scraping noises car php gives segfault pregsplit quotits alike diferentquot cried montage flashback hp5 makes cry time bed trying helplessly breathe nose coming itchy need sneeze allergies suck things sun sets way early hello tuesday hope better think wont tweet hours later mileycyrus - want sofie shes helllza cute chewbeka yeah brutal june lmao im excited plane canada lol workathlon 3 sets management accounts dhughesy thats birthday plans msdivineknight thats bed early cause u sleep u miss things slept missed joe unhappy im struggling type morningmaybe im suffering day-glo overload fridays 80s fest episode house cuddy hook apo meetings fault waiting love home getting sad wont hot cross buns week leelowe aww thanks hun picking scotland yesterday evening howd kill favourite characters dawww site load rising increased capacity going gabrielmansour multiple books time bad habit finishing books clairerichard6 em duncn wont im happy woke 530am morning didnt sleep till 645am coffee amp carrot cake slices mmm lost ideas art help bipling coming aus cobi going jealous lol misser ugh sound class 8 kill wont home 10ish wants use 8-directional dance pad pero di compatible sa tv yung game jason2008 hello im coffee morningthats winding yesterday lol good day wants play resident evil school work getting way deepbluesealove im reading article different siteseems little dull twitter tonight music exmi hope comes company work shuts thursday joblessville come trying look big picture boy hard days seriously tired need deep sleep pissy tossing turning moan moan moan flat today didnt everythin amp endured massive headache fever nausea finish essay amp work tomory day feeling ill today sinab77 think hate money nickthompson nick id love blame oven blame fact id shed load wine watching gear jlsofficial photoshoot eyyim sure look hot come brighton hellooo boyslove loads xxxxxx dentist aww man party nighti miss new jersey today meganxnightmare think girl tjlefebvre missing seen evening feeling twitter splont meeting morning today makes feel better finish tomorrow weds hate zombie mode today kids ill kept till 230am work 6am people says vicious im missin babyreally needed talk today school errands thats sad ive got lot moment doubt im going chance book time family easter hols apply international driver licence competition course nurburgring half-day goulandris email provider laurenbavin hey - didnt tell jealous morning im baggered gym work later princessshorty aww sorry hear hope gets better listening podcast debate spoke brilliantly davedynamix im sad marley amp damn clearance-dog ashleyemma lucky devil im dreaming crispy bacon sandwich volunteered think saw magic sunday salford - saw hull fc come pitch vanished usual breakie starbucks heading morning cameras weather looking shite stage georgemackie dont sell ebay tommcfly know johnsons baby use animals like cute bunnies test products cant sleep bc drank diet coke 9pmsucks bc wake 530am triop damn need learn darn woke great idea lime article forgot thinking shorts flip flops bad idea mikebreed mike understand think need change opinion good lol im waiting parcel arriving argh hurry hurry knot2serious oh btwdjrocko951 amp tried cuban buffet told u aboutso excitedits closed mondays sad story gingha docs morning work freecycling getting stayed home bit lonely - dont friends actually use twitter oh artemisiii oh laundry powder maybe im allergic jeans usually fitted makes worse need inspiration hit kitchen tonight accidentally listened new sugababes album playing girls aloud hits sequentially purge memory going walk dogs shower bed sad yankees lost game monday boooo exmi hey doll sorry hear bout ur doggie hope comes home soon help u look werent far away upset couldnt find quotchurch flying spaghetti monsterquot twitter follow wont enjoy pretty films feels like comming somethinglets hope cold sleeping damnit t-minus 4 hours counting kids school rochellesheree missed wednesday day thursday missed train york wifi blackberry battery going die soon - good start day theoryofmind woppygook omniaaaa said crackberrryyy time depart flip phone hermes packetdienst sucks fun night- paying going fry egg squirrels today hiding nmcgivney yeah ploughed night happening ali1702 omg- daughter come home night huge worry mind poor bought car impending fatherhood affecting judgement plans 330ci rav-4 aust gov rolls 43 bln 100mb bband way rest worlds bband speeds bnish dan grabbed yardhouse earlier didnt pirate disappointed work early team meeting forgot lunch im worried cutting hours start 1000am day morning starbucks mrjoe sorry hear bike aliceverheij ms xp im afriad laptop 3yrs old think bit messed going rpm vespa needs oil aint going fast remains un broken year mark speight died year goes fast exactly cities burn worries quotas cities burns likely final outingquot - new album review dont like 9-5 malarky - seeing friends havent seen months stupid work aw balls new shirt got aerie today doesnt fit wear medium small saulwilliams budget yr ireland today want tax text messages pray poets finished second research paper week tuesdaykind kill test friday jpiasentin unfortunately pack probably scotland week im having panic attack cant sleep distracting tv internet hope goes away soon susanstn opps unable dm moment maybe twitter bugs maintenance project going drain legal issues dealt fatal blow wheres heat grazia subscriptions hes probably delivered door missing n ol frend amp thinking bout rite brahhh quit smoking cigs dont want look old plus cant breath haha omy jus woke wishing woke sumwer ny lol school suxxx wish tourny ainzdj mate time gettin gonna able hang late bit comin support fo sho mathie makes hard work small businesses isnt great im sick coughing having sore throat got 7 mistakenly shouldve 6 got brainbone daily question wrong - phillyd wishing best lt3 rockchic65 normally pumpkin patch bit skint minute headtotail thank feel sad hope nice life til end msjheart lol yeah im good gotta unplug use hustle 79 bucks new cant sleep need cuddle robertzalme yes theory getting solutions coming going school minutes head-ache tt im looking forward meeting angry teacher wayy early awake zzz attack hayfever noooo need hugs neevd know sites play games ill past second footpath frogger playing killzone 2 demo iloveac slut talk talk rinn waa waaa waaaaaaaa lol love courtney mrsfr yes unfortunately date clashed important long standing family party got having coffee frost car windows suspected hope tired today comp screwed jessicafilan charliecondou 4skinmusic like crazytwism knowthey block orkut dubai oman orkut accessbut skype banned ru gulf hates waiting game hates uncertainties throat hurts think cold im kind sad bullshit found owi totally ate pavement morn stephens green luas stopso soreand freaking tv camera thereof times fall jamming postponed boohoohoozx damn flu bug baby went home morning net towers deadline wakey wakey im bored dog annoying weights 20 pounds doesnt want come knees miss family guyyy tired borrrrrred vacation sooooooo hot sitting waiting sitting home watching jeremy kyle bored germany stuck work super stressed wish kateblogs im author subscriber early -- bored trantula song stuck head past hour wwwstalkdailycomgeorg feels like cramp disconcerting skynicmac shame sites pr dropped mcbesty monday usually working day maxbarners hope goes supposed work university construction sight close makes contant noise crucifire damit idea todays comic wrote credit zen sushi lunch todaylooks like raining outside ashley tisdale love dye hair didnt announce reading lineup ronjeffries id love hire tons fun time dont budget tho hiring german girl night brisbane micameli friend supposed having hasnt arranged lan jetblackonyxs missmell blasty-blast time home gnah inner tube exploded gotta taxi work late good morning - going run morning dentist drilling cubedweller gah - freeview - brought colbert report id consider switching im clinic booring 18 days left london time jerrrm today meeting day gilaaaa hungry dreaming yumyums gym yesteday new gym need new induction good news booked wednesday woot ughhhhh didnt coming house ilu bb gfalcone601 nawww london cornwalls boring website kingkiwi want rain nice today 306 letters sent better start writing llordllama oh obadiah names start e generally good valdezign hmm beta nambu pingfm friendfeed disabled boo ohhh ive lost voice arizonaaaa - japannaly hhhahaha cant thursday bitch jk hahaha booo ee suck daniella dont bring sam happy fabianv kind docs write docs wishes didnt om homework right ok heres deal live small town ive seen anythin famous n thought luck duskyazure u got 2 lie - ve bn way 2 long mrs woke 6am morning amp dragd slumberlnd time im trying plan tripslow budget thoughdont think working ianhanlon scobz goal celeb respond tweets sleep sleep speaks waiting tom mums birthday im glad likes pressies im looking forward party time later week sad im going cornwall dajbelshaw sounds like day gym car arrived maybe ill thursdaydamn paperwork ratsofatsorat left sips mocha reusable coffee mug week chunky omg whats windows vista today tried installing windows 7 laptop died reinstall mean goes anymore x dear twitter 4 bug bites leg r itchyyyy haha got outta shower uhh night thomassonora problem poken error tracitoguchi nah feeling come mushyv ahhhhh hoff programme sounded classs fuckin missed hopes theres repeat innit confused life grunt121 good luck big meeting hope rumour mill wrong jxx white guy manager shouts walk wanna feast missing 17 thursday worst hello world dont like physics going dentist mean tooth spa right valeriekhoo boyfriend means world doesnt muchless understand natazzz hurt sad finished marking cant celebrate tho got communicate marks amp feedback online students rest night gone sick hate simon felice longer playing felice brothers im sure feel ears size 00 hurt watching chaos theory wonderful movie love going holidays friend tomorrow exited twitter looks like nobel peace prize simply popularity contest oww poor darling body missing tracy girl sandra cantu found inside suitcase wwwtinyurlcomdfhvzg tracy ugh mum wake early 845 geesh need sleep princessnadysthere noth awww work time play haylieofficial night post email loves id long walk dont energy chair chrismevans argh driving london today wrong turn kings-x - stuck extra 30 minutes logjam traffic mattg00d dont like having internet dont tweet jodielane jodie awake hungry need coz im leaving coz wont talk llaacceeyy haha im good cook looks pretty foul right love having voguettes twitter yay nice meet x needs dentist perfect start holidayshm milk cup tea mother fuckers changing rotas telling cool work add boyfriend arghhhhhh cant profile picture im sorry guys dont know lolzitsmel paranormal pretty good tonight glinner dont think thats right username mr brooks grey day london come sun forgiven hate windows movie maker sony vegas come cant download anymore brother banned downloading cant stop laughing burger king commericalim easily amused davidkudrev pity facebook chat exceeded msns amazingly level unreliability pity ill remove irrelevant hubby tight scedule easter vaca stressing 8 visits denmark 6 days rickrodgers kidding man rim doesnt sync client linux opensync package sucks charge lolz oh agents booked wrong days x1000000 going josh course broke right thing feel bad confused wish new glasses werent expensive yummy pizza dinner mouth burnt literally spitting blood im little bit bored warrnambool animal docos handle wordpress bitch-ass bitch thered new silence remix casasteve vw forums nightmare enthusiasts forums results politics bitching awake sensible time alot coursework bohoo schofe sounds like great shame im work wyldceltic1 read im glad youre better emperoremil yup im work im midshift na e burjz ugh didnt mean sign got gone babys heading perth uh d dentists hurt today holy crap feel like teeth fall let giant cookie going ride hate legs feels sick needs foood cant find camera night good lindsays house pretty ruined eek omkarkurode won coz created quotavenuesquot yeah mistake choosing tango zone youtube sound ubuntu find phone hospital foot x-ray wait doctor confirm hate hospitals ahh sorry yall able twitter phone work brit amazeingahhh im damn tired today actually need nap im home theres time woke tiresome times heromancer come orlando sooon couldnt sadly wishes restaurant city pet society ported iphoneitouch twittering past 22 days obviously 140am taking small break ochem omg bed making sick cant sleep way hospital praying bowl bran flakes ave shower revision phillcoleman low 35 night sarahlsharp oops feel like im breaking hearts shystieuk wish luck gotta london ging great olmand street appointment scared xxxx devdsp hrm posts sound like im holding etnobofin google translator hospital foot x-ray wait doctor confirm hate hospitals thi m4 v ci u b know shouldnt feel upset losing follower probably porn star trying sell arghfirefox removed bookmarks folder - sharepoint folder including links idea whyhow delustre wanna watch dollhouse havent seen eps lt3 eliza dushku lol kourtneykardash need beach bod saw dan neighbours walking chapel streetrandom feeling like going fire work any1 got job going jansmells maybe stop lazy goosed sorry procrastinating gone macbatchelor ah wont rehearsal tonight awaiting imminent arrival clairefallen nah snow april sucks colbsi flickrs letting view - says private misswyn bet remember easter kid excited youll great day xambix wow welcome home eh thats shit especially coming holiday fucking people blueeyedbomber excellent missed saturday night tiahn good coz dont therebad coz dont paid going sunny today right forecasters hopes fb ollien33 carousella - cant doctors appointment 9 11 sucks bit sick working 2 articles today 2 days nice little office dont wanna doesnt want college want cuddle babyyy hmm shoulder making bad noises arm forth know dont fear return physio required happyahma - welcome sorry hear ants rhyswynne thats pest grr spam odannygirl7 oh yesses quotroad rashquot hip lovely ay rock whyvee welcome home sounds like hell journey got offer camping fraser island weekend jump offer 2nd thought forecast rain latexfetish sadly thats feed wordpress feed usually blacomfeed blacomfeedrss2 dont exist kristenkreuk fiuhh nice info im fans indonesia waiting movie country thanx dont want leave college cant smoking tried easy weve moved dwsr tayswift - 3am btw congrats winning album year deserve cant shed tear white horse hedgewytch oh thats horrible innocent smoothies love start putting rubbish cant sleep theres fight outside inconsiderate wanna sleep frightened cos spider time hope flat repels unfortunately havent got man save having casual unprotected tweets twats ill probably mom dissapointed going sidee dee cold insomnia headache virtuallin actually like taub reason thought bromance kutner cute kutner sigh watched smallville 8x18 nite ep couldve decisions fail impress time watched movie huge epiphinal line exactly needed need cant find jazred87 told caved id end abusing like facebook dont real friends upload pic personal web site hacked finally cold hope suceed bugger good today error check things currently wishing treacle sponge custard louise night watching order phoenix reports italy 179 death 34 missing 1500 injured italy earthquake rai know sucks finding burned tail light stores closed plus open work gday evil highschool right rain ruined malaysian gp - fun money ajiee thnx ajeng skip class im totally unprepared way chicago finally connecting london home 5 measely days maxime68 darn cant open work computer supposed fun work thanks janelle76 want phone fbms twitter keongzai assign eff hospital soon kinda sucks im allowed eat x doesnt like uk postal prices gone costs 20p mail black velvet usarotw amp 10p uk 4 days york - nice place photos coming soon feeling sick im work davenavarro6767 wondering youd youve quiet days miss chatty dave alystoe hope okay work thinking graveyard shift sux day work holiday argh got fuck loads snickered like minutes thinking awesomest dont know use thing stupid picture wont upload madre grinding gonna long week thomasgudgeon yes shame plastic generation think tweetdeck failing hurts mckaylajb hey lol btw u know upload picture tried shows xo working home sooo super duper cold misterskull awwwwww shame youre miles miles away spent half hour making playlist tonight going long night nattnatt81 doggie dazzler im trying work bit today want coule pop ovr hi later oh damnfried screwing lunch getting ready leave calii donquott want home wish bring kids maths examen 1 o clock ryanseacrest tie bar missed wednesday nickdawson hope knee feels better quickly having night wondering lovely wife doesnt check respond tweets course document important tables isnt published internet love joke punch line jonathin sorry left corel install cd room went coffee kids got milk coke instead yoghurt overload orangeflowers scary clutter unclean pain keeps awake lately shld start subsiding wk good morning worlds - got snow throat killing missing gordon fighting hungries willieday26 cant sleep 345 work 830 dont know problem artemisiii aw sorry hear dont know id jeans winter miss kabalin hates stuffy nose preventing sleep remedies went bed 8pm wide awake 4 dont work 830 going long day rustyrockets tnk need smile today write everyoneee x itchy eyesgrass cutoh-oh damn filling fell half tooth gone daftasabat needed lie lol havent slept 6 hours days killing watched greys anatomy cried writing miss meg hope lost sigh going look curtains yesterday bad day found bernie mac died year u shud online dunno find outoutout dunnoive emailed website aampr sent tweet repliestheyve probably got bored fan-remixers bugging wishing sleep probably isnt going happen tonight riry pain nomming hand sprayed cat nip mist joke craaaazy silverlines aaaah jadi tiba2 pingin butter sugar toast huhuu thats'"
      ]
     },
     "execution_count": 113,
     "metadata": {},
     "output_type": "execute_result"
    }
   ],
   "source": [
    "x"
   ]
  },
  {
   "cell_type": "markdown",
   "metadata": {},
   "source": [
    "x, is the text data that we want for our wc. we will run it."
   ]
  },
  {
   "cell_type": "code",
   "execution_count": 114,
   "metadata": {},
   "outputs": [
    {
     "data": {
      "image/png": "[encoded data removed]",
      "text/plain": [
       "<Figure size 432x288 with 1 Axes>"
      ]
     },
     "metadata": {},
     "output_type": "display_data"
    }
   ],
   "source": [
    "wc = WordCloud(width = 800, height =400).generate(x)\n",
    "plt.imshow(wc)\n",
    "plt.axis('off')\n",
    "plt.show()"
   ]
  },
  {
   "cell_type": "markdown",
   "metadata": {},
   "source": [
    "### Spellling correction using textblob"
   ]
  },
  {
   "cell_type": "code",
   "execution_count": 115,
   "metadata": {},
   "outputs": [
    {
     "name": "stdout",
     "output_type": "stream",
     "text": [
      "Requirement already up-to-date: textblob in c:\\users\\enny_\\anaconda3\\lib\\site-packages (0.15.3)\n",
      "Requirement already satisfied, skipping upgrade: nltk>=3.1 in c:\\users\\enny_\\anaconda3\\lib\\site-packages (from textblob) (3.3)\n",
      "Requirement already satisfied, skipping upgrade: six in c:\\users\\enny_\\anaconda3\\lib\\site-packages (from nltk>=3.1->textblob) (1.11.0)\n"
     ]
    }
   ],
   "source": [
    "!pip install -U textblob"
   ]
  },
  {
   "cell_type": "code",
   "execution_count": 116,
   "metadata": {},
   "outputs": [
    {
     "name": "stdout",
     "output_type": "stream",
     "text": [
      "[nltk_data] Downloading package brown to\n",
      "[nltk_data]     C:\\Users\\enny_\\AppData\\Roaming\\nltk_data...\n",
      "[nltk_data]   Unzipping corpora\\brown.zip.\n",
      "[nltk_data] Downloading package punkt to\n",
      "[nltk_data]     C:\\Users\\enny_\\AppData\\Roaming\\nltk_data...\n",
      "[nltk_data]   Unzipping tokenizers\\punkt.zip.\n",
      "[nltk_data] Downloading package wordnet to\n",
      "[nltk_data]     C:\\Users\\enny_\\AppData\\Roaming\\nltk_data...\n",
      "[nltk_data]   Unzipping corpora\\wordnet.zip.\n",
      "[nltk_data] Downloading package averaged_perceptron_tagger to\n",
      "[nltk_data]     C:\\Users\\enny_\\AppData\\Roaming\\nltk_data...\n",
      "[nltk_data]   Unzipping taggers\\averaged_perceptron_tagger.zip.\n",
      "[nltk_data] Downloading package conll2000 to\n",
      "[nltk_data]     C:\\Users\\enny_\\AppData\\Roaming\\nltk_data...\n",
      "[nltk_data]   Unzipping corpora\\conll2000.zip.\n",
      "[nltk_data] Downloading package movie_reviews to\n",
      "[nltk_data]     C:\\Users\\enny_\\AppData\\Roaming\\nltk_data...\n",
      "[nltk_data]   Unzipping corpora\\movie_reviews.zip.\n",
      "Finished.\n"
     ]
    }
   ],
   "source": [
    "!python -m textblob.download_corpora"
   ]
  },
  {
   "cell_type": "code",
   "execution_count": 117,
   "metadata": {},
   "outputs": [],
   "source": [
    "from textblob import TextBlob"
   ]
  },
  {
   "cell_type": "code",
   "execution_count": 122,
   "metadata": {},
   "outputs": [],
   "source": [
    "x = 'tanks forr scribing to this chanle carri'"
   ]
  },
  {
   "cell_type": "code",
   "execution_count": 123,
   "metadata": {},
   "outputs": [],
   "source": [
    "x = TextBlob(x).correct()"
   ]
  },
  {
   "cell_type": "code",
   "execution_count": 124,
   "metadata": {},
   "outputs": [
    {
     "data": {
      "text/plain": [
       "TextBlob(\"tanks for ascribing to this change carry\")"
      ]
     },
     "execution_count": 124,
     "metadata": {},
     "output_type": "execute_result"
    }
   ],
   "source": [
    "x"
   ]
  },
  {
   "cell_type": "markdown",
   "metadata": {},
   "source": [
    "### Tokenization"
   ]
  },
  {
   "cell_type": "code",
   "execution_count": 125,
   "metadata": {},
   "outputs": [],
   "source": [
    "x = 'thanks for subcribing to my channel. please like it'"
   ]
  },
  {
   "cell_type": "code",
   "execution_count": 126,
   "metadata": {},
   "outputs": [
    {
     "data": {
      "text/plain": [
       "WordList(['thanks', 'for', 'subcribing', 'to', 'my', 'channel', 'please', 'like', 'it'])"
      ]
     },
     "execution_count": 126,
     "metadata": {},
     "output_type": "execute_result"
    }
   ],
   "source": [
    "TextBlob(x).words"
   ]
  },
  {
   "cell_type": "code",
   "execution_count": 127,
   "metadata": {},
   "outputs": [
    {
     "name": "stdout",
     "output_type": "stream",
     "text": [
      "thanks\n",
      "for\n",
      "subcribing\n",
      "to\n",
      "my\n",
      "channel\n",
      ".\n",
      "please\n",
      "like\n",
      "it\n"
     ]
    }
   ],
   "source": [
    "doc = nlp(x)\n",
    "for token in doc:\n",
    "    print(token)"
   ]
  },
  {
   "cell_type": "markdown",
   "metadata": {},
   "source": [
    "### Lemmatization"
   ]
  },
  {
   "cell_type": "code",
   "execution_count": 128,
   "metadata": {},
   "outputs": [],
   "source": [
    "x= 'runs, run, running, ran'"
   ]
  },
  {
   "cell_type": "code",
   "execution_count": 129,
   "metadata": {},
   "outputs": [],
   "source": [
    "from textblob import Word"
   ]
  },
  {
   "cell_type": "code",
   "execution_count": 130,
   "metadata": {},
   "outputs": [
    {
     "name": "stdout",
     "output_type": "stream",
     "text": [
      "runs,\n",
      "run,\n",
      "running,\n",
      "ran\n"
     ]
    }
   ],
   "source": [
    "for token in x.split():\n",
    "    print(Word(token).lemmatize())"
   ]
  },
  {
   "cell_type": "code",
   "execution_count": 131,
   "metadata": {},
   "outputs": [
    {
     "name": "stdout",
     "output_type": "stream",
     "text": [
      "run\n",
      ",\n",
      "run\n",
      ",\n",
      "running\n",
      ",\n",
      "run\n"
     ]
    }
   ],
   "source": [
    "#with spacy\n",
    "doc = nlp(x)\n",
    "for token in doc:\n",
    "    print(token.lemma_)"
   ]
  },
  {
   "cell_type": "markdown",
   "metadata": {},
   "source": [
    "### Detect Entities using NER of SpaCy"
   ]
  },
  {
   "cell_type": "code",
   "execution_count": 132,
   "metadata": {},
   "outputs": [],
   "source": [
    "x = 'CNN breaking news: Donald Trump, the president of the USA is looking forward to sign the trade agreement with China'"
   ]
  },
  {
   "cell_type": "code",
   "execution_count": 134,
   "metadata": {},
   "outputs": [
    {
     "name": "stdout",
     "output_type": "stream",
     "text": [
      "CNN - ORG - Companies, agencies, institutions, etc.\n",
      "Donald Trump - PERSON - People, including fictional\n",
      "USA - GPE - Countries, cities, states\n",
      "China - GPE - Countries, cities, states\n"
     ]
    }
   ],
   "source": [
    "doc = nlp(x)\n",
    "for ent in doc.ents:\n",
    "    print(ent.text + ' - '+ ent.label_ + ' - '+ str(spacy.explain(ent.label_)))"
   ]
  },
  {
   "cell_type": "code",
   "execution_count": 135,
   "metadata": {},
   "outputs": [],
   "source": [
    "from spacy import displacy"
   ]
  },
  {
   "cell_type": "code",
   "execution_count": 136,
   "metadata": {},
   "outputs": [
    {
     "data": {
      "text/html": [
       "<span class=\"tex2jax_ignore\"><div class=\"entities\" style=\"line-height: 2.5; direction: ltr\">\n",
       "<mark class=\"entity\" style=\"background: #7aecec; padding: 0.45em 0.6em; margin: 0 0.25em; line-height: 1; border-radius: 0.35em;\">\n",
       "    CNN\n",
       "    <span style=\"font-size: 0.8em; font-weight: bold; line-height: 1; border-radius: 0.35em; text-transform: uppercase; vertical-align: middle; margin-left: 0.5rem\">ORG</span>\n",
       "</mark>\n",
       " breaking news: \n",
       "<mark class=\"entity\" style=\"background: #aa9cfc; padding: 0.45em 0.6em; margin: 0 0.25em; line-height: 1; border-radius: 0.35em;\">\n",
       "    Donald Trump\n",
       "    <span style=\"font-size: 0.8em; font-weight: bold; line-height: 1; border-radius: 0.35em; text-transform: uppercase; vertical-align: middle; margin-left: 0.5rem\">PERSON</span>\n",
       "</mark>\n",
       ", the president of the \n",
       "<mark class=\"entity\" style=\"background: #feca74; padding: 0.45em 0.6em; margin: 0 0.25em; line-height: 1; border-radius: 0.35em;\">\n",
       "    USA\n",
       "    <span style=\"font-size: 0.8em; font-weight: bold; line-height: 1; border-radius: 0.35em; text-transform: uppercase; vertical-align: middle; margin-left: 0.5rem\">GPE</span>\n",
       "</mark>\n",
       " is looking forward to sign the trade agreement with \n",
       "<mark class=\"entity\" style=\"background: #feca74; padding: 0.45em 0.6em; margin: 0 0.25em; line-height: 1; border-radius: 0.35em;\">\n",
       "    China\n",
       "    <span style=\"font-size: 0.8em; font-weight: bold; line-height: 1; border-radius: 0.35em; text-transform: uppercase; vertical-align: middle; margin-left: 0.5rem\">GPE</span>\n",
       "</mark>\n",
       "</div></span>"
      ],
      "text/plain": [
       "<IPython.core.display.HTML object>"
      ]
     },
     "metadata": {},
     "output_type": "display_data"
    }
   ],
   "source": [
    "displacy.render(doc, style = 'ent')"
   ]
  },
  {
   "cell_type": "markdown",
   "metadata": {},
   "source": [
    "### Detecting Nouns"
   ]
  },
  {
   "cell_type": "code",
   "execution_count": 137,
   "metadata": {},
   "outputs": [
    {
     "data": {
      "text/plain": [
       "'CNN breaking news: Donald Trump, the president of the USA is looking forward to sign the trade agreement with China'"
      ]
     },
     "execution_count": 137,
     "metadata": {},
     "output_type": "execute_result"
    }
   ],
   "source": [
    "x"
   ]
  },
  {
   "cell_type": "code",
   "execution_count": 139,
   "metadata": {},
   "outputs": [
    {
     "name": "stdout",
     "output_type": "stream",
     "text": [
      "CNN breaking news\n",
      "Donald Trump\n",
      "the president\n",
      "the USA\n",
      "the trade agreement\n",
      "China\n"
     ]
    }
   ],
   "source": [
    "for noun in doc.noun_chunks:\n",
    "    print(noun)"
   ]
  },
  {
   "cell_type": "markdown",
   "metadata": {},
   "source": [
    "### Translation and Language Detection"
   ]
  },
  {
   "cell_type": "markdown",
   "metadata": {},
   "source": [
    "language code: https://www.loc.gov/standards/iso639-2/php/code_list.php"
   ]
  },
  {
   "cell_type": "code",
   "execution_count": 142,
   "metadata": {},
   "outputs": [
    {
     "data": {
      "text/plain": [
       "'CNN breaking news: Donald Trump, the president of the USA is looking forward to sign the trade agreement with China'"
      ]
     },
     "execution_count": 142,
     "metadata": {},
     "output_type": "execute_result"
    }
   ],
   "source": [
    "x"
   ]
  },
  {
   "cell_type": "code",
   "execution_count": 140,
   "metadata": {},
   "outputs": [],
   "source": [
    "tb = TextBlob(x)"
   ]
  },
  {
   "cell_type": "code",
   "execution_count": 141,
   "metadata": {},
   "outputs": [
    {
     "data": {
      "text/plain": [
       "'en'"
      ]
     },
     "execution_count": 141,
     "metadata": {},
     "output_type": "execute_result"
    }
   ],
   "source": [
    "tb.detect_language()"
   ]
  },
  {
   "cell_type": "code",
   "execution_count": 143,
   "metadata": {},
   "outputs": [
    {
     "data": {
      "text/plain": [
       "TextBlob(\"美国有线电视新闻网重大新闻：美国总统唐纳德·特朗普期待与中国签署贸易协定\")"
      ]
     },
     "execution_count": 143,
     "metadata": {},
     "output_type": "execute_result"
    }
   ],
   "source": [
    "#translate english en to another language e.g chines language\n",
    "tb.translate(to='zh')"
   ]
  },
  {
   "cell_type": "code",
   "execution_count": 144,
   "metadata": {},
   "outputs": [
    {
     "data": {
      "text/plain": [
       "TextBlob(\"Dernières nouvelles sur CNN: Donald Trump, le président des États-Unis, a hâte de signer l'accord commercial avec la Chine\")"
      ]
     },
     "execution_count": 144,
     "metadata": {},
     "output_type": "execute_result"
    }
   ],
   "source": [
    "#translate from english to french\n",
    "tb.translate(to='fr')"
   ]
  },
  {
   "cell_type": "code",
   "execution_count": 145,
   "metadata": {},
   "outputs": [],
   "source": [
    "#translate from english to arabic"
   ]
  },
  {
   "cell_type": "code",
   "execution_count": 146,
   "metadata": {},
   "outputs": [
    {
     "data": {
      "text/plain": [
       "TextBlob(\"الأخبار العاجلة لشبكة CNN: يتطلع دونالد ترامب ، رئيس الولايات المتحدة ، إلى توقيع اتفاقية التجارة مع الصين\")"
      ]
     },
     "execution_count": 146,
     "metadata": {},
     "output_type": "execute_result"
    }
   ],
   "source": [
    "tb.translate(to='ar')"
   ]
  },
  {
   "cell_type": "code",
   "execution_count": 147,
   "metadata": {},
   "outputs": [
    {
     "data": {
      "text/plain": [
       "TextBlob(\"सीएनएन ब्रेकिंग न्यूज़: अमरीका के राष्ट्रपति डोनाल्ड ट्रम्प चीन के साथ व्यापार समझौते पर हस्ताक्षर करने के लिए उत्सुक हैं\")"
      ]
     },
     "execution_count": 147,
     "metadata": {},
     "output_type": "execute_result"
    }
   ],
   "source": [
    "#translate from english to hindi\n",
    "tb.translate(to='hi')"
   ]
  },
  {
   "cell_type": "markdown",
   "metadata": {},
   "source": [
    "### Use inbuilt sentiment classifier"
   ]
  },
  {
   "cell_type": "code",
   "execution_count": 148,
   "metadata": {},
   "outputs": [],
   "source": [
    "from textblob.sentiments import NaiveBayesAnalyzer"
   ]
  },
  {
   "cell_type": "code",
   "execution_count": 149,
   "metadata": {},
   "outputs": [],
   "source": [
    "x = 'We all stand together to fight Covid pandemic. We will win together'"
   ]
  },
  {
   "cell_type": "code",
   "execution_count": 150,
   "metadata": {},
   "outputs": [],
   "source": [
    "tb = TextBlob(x, analyzer = NaiveBayesAnalyzer())"
   ]
  },
  {
   "cell_type": "code",
   "execution_count": 151,
   "metadata": {},
   "outputs": [
    {
     "data": {
      "text/plain": [
       "Sentiment(classification='pos', p_pos=0.698176480823015, p_neg=0.3018235191769852)"
      ]
     },
     "execution_count": 151,
     "metadata": {},
     "output_type": "execute_result"
    }
   ],
   "source": [
    "tb.sentiment"
   ]
  },
  {
   "cell_type": "code",
   "execution_count": 152,
   "metadata": {},
   "outputs": [],
   "source": [
    "x_neg = 'We are all being challeneged by the virus and suffering is of greater proposition'"
   ]
  },
  {
   "cell_type": "code",
   "execution_count": 153,
   "metadata": {},
   "outputs": [],
   "source": [
    "tb = TextBlob(x, analyzer = NaiveBayesAnalyzer())"
   ]
  },
  {
   "cell_type": "code",
   "execution_count": 154,
   "metadata": {},
   "outputs": [
    {
     "data": {
      "text/plain": [
       "Sentiment(classification='pos', p_pos=0.698176480823015, p_neg=0.3018235191769852)"
      ]
     },
     "execution_count": 154,
     "metadata": {},
     "output_type": "execute_result"
    }
   ],
   "source": [
    "tb.sentiment"
   ]
  },
  {
   "cell_type": "markdown",
   "metadata": {},
   "source": [
    "### Advanced Text Processing"
   ]
  },
  {
   "cell_type": "markdown",
   "metadata": {},
   "source": [
    "### N-Grams, are a combination of multiple words used together"
   ]
  },
  {
   "cell_type": "code",
   "execution_count": 155,
   "metadata": {},
   "outputs": [],
   "source": [
    "x = 'thanks for subcribing'"
   ]
  },
  {
   "cell_type": "code",
   "execution_count": 156,
   "metadata": {},
   "outputs": [],
   "source": [
    "tb = TextBlob(x)"
   ]
  },
  {
   "cell_type": "code",
   "execution_count": 157,
   "metadata": {},
   "outputs": [
    {
     "data": {
      "text/plain": [
       "[WordList(['thanks', 'for']), WordList(['for', 'subcribing'])]"
      ]
     },
     "execution_count": 157,
     "metadata": {},
     "output_type": "execute_result"
    }
   ],
   "source": [
    "tb.ngrams(2)"
   ]
  },
  {
   "cell_type": "code",
   "execution_count": 158,
   "metadata": {},
   "outputs": [
    {
     "data": {
      "text/plain": [
       "[WordList(['thanks']), WordList(['for']), WordList(['subcribing'])]"
      ]
     },
     "execution_count": 158,
     "metadata": {},
     "output_type": "execute_result"
    }
   ],
   "source": [
    "#in uni-gram\n",
    "tb.ngrams(1)"
   ]
  },
  {
   "cell_type": "code",
   "execution_count": 159,
   "metadata": {},
   "outputs": [
    {
     "data": {
      "text/plain": [
       "[WordList(['thanks', 'for', 'subcribing'])]"
      ]
     },
     "execution_count": 159,
     "metadata": {},
     "output_type": "execute_result"
    }
   ],
   "source": [
    "#tri-gram\n",
    "tb.ngrams(3)"
   ]
  },
  {
   "cell_type": "markdown",
   "metadata": {},
   "source": [
    "### Bag of Words(BoW)"
   ]
  },
  {
   "cell_type": "code",
   "execution_count": 170,
   "metadata": {},
   "outputs": [],
   "source": [
    "x = ['this is first sentence this is', 'this is second', 'this is last']"
   ]
  },
  {
   "cell_type": "code",
   "execution_count": 171,
   "metadata": {},
   "outputs": [],
   "source": [
    "from sklearn.feature_extraction.text import CountVectorizer"
   ]
  },
  {
   "cell_type": "code",
   "execution_count": 172,
   "metadata": {},
   "outputs": [],
   "source": [
    "cv = CountVectorizer(ngram_range=(1, 1))\n",
    "text_counts = cv.fit_transform(x)"
   ]
  },
  {
   "cell_type": "code",
   "execution_count": 173,
   "metadata": {},
   "outputs": [
    {
     "data": {
      "text/plain": [
       "<3x6 sparse matrix of type '<class 'numpy.int64'>'\n",
       "\twith 10 stored elements in Compressed Sparse Row format>"
      ]
     },
     "execution_count": 173,
     "metadata": {},
     "output_type": "execute_result"
    }
   ],
   "source": [
    "text_counts"
   ]
  },
  {
   "cell_type": "markdown",
   "metadata": {},
   "source": [
    "looks at uniques words and counts them"
   ]
  },
  {
   "cell_type": "code",
   "execution_count": 174,
   "metadata": {},
   "outputs": [
    {
     "data": {
      "text/plain": [
       "array([[1, 2, 0, 0, 1, 2],\n",
       "       [0, 1, 0, 1, 0, 1],\n",
       "       [0, 1, 1, 0, 0, 1]], dtype=int64)"
      ]
     },
     "execution_count": 174,
     "metadata": {},
     "output_type": "execute_result"
    }
   ],
   "source": [
    "text_counts.toarray()"
   ]
  },
  {
   "cell_type": "code",
   "execution_count": 175,
   "metadata": {},
   "outputs": [
    {
     "data": {
      "text/plain": [
       "['first', 'is', 'last', 'second', 'sentence', 'this']"
      ]
     },
     "execution_count": 175,
     "metadata": {},
     "output_type": "execute_result"
    }
   ],
   "source": [
    "cv.get_feature_names()"
   ]
  },
  {
   "cell_type": "code",
   "execution_count": 186,
   "metadata": {},
   "outputs": [],
   "source": [
    "bow = pd.DataFrame(text_counts.toarray(), columns = cv.get_feature_names())"
   ]
  },
  {
   "cell_type": "code",
   "execution_count": 187,
   "metadata": {},
   "outputs": [
    {
     "data": {
      "text/html": [
       "<div>\n",
       "<style scoped>\n",
       "    .dataframe tbody tr th:only-of-type {\n",
       "        vertical-align: middle;\n",
       "    }\n",
       "\n",
       "    .dataframe tbody tr th {\n",
       "        vertical-align: top;\n",
       "    }\n",
       "\n",
       "    .dataframe thead th {\n",
       "        text-align: right;\n",
       "    }\n",
       "</style>\n",
       "<table border=\"1\" class=\"dataframe\">\n",
       "  <thead>\n",
       "    <tr style=\"text-align: right;\">\n",
       "      <th></th>\n",
       "      <th>first</th>\n",
       "      <th>is</th>\n",
       "      <th>last</th>\n",
       "      <th>second</th>\n",
       "      <th>sentence</th>\n",
       "      <th>this</th>\n",
       "    </tr>\n",
       "  </thead>\n",
       "  <tbody>\n",
       "    <tr>\n",
       "      <th>0</th>\n",
       "      <td>1</td>\n",
       "      <td>2</td>\n",
       "      <td>0</td>\n",
       "      <td>0</td>\n",
       "      <td>1</td>\n",
       "      <td>2</td>\n",
       "    </tr>\n",
       "    <tr>\n",
       "      <th>1</th>\n",
       "      <td>0</td>\n",
       "      <td>1</td>\n",
       "      <td>0</td>\n",
       "      <td>1</td>\n",
       "      <td>0</td>\n",
       "      <td>1</td>\n",
       "    </tr>\n",
       "    <tr>\n",
       "      <th>2</th>\n",
       "      <td>0</td>\n",
       "      <td>1</td>\n",
       "      <td>1</td>\n",
       "      <td>0</td>\n",
       "      <td>0</td>\n",
       "      <td>1</td>\n",
       "    </tr>\n",
       "  </tbody>\n",
       "</table>\n",
       "</div>"
      ],
      "text/plain": [
       "   first  is  last  second  sentence  this\n",
       "0      1   2     0       0         1     2\n",
       "1      0   1     0       1         0     1\n",
       "2      0   1     1       0         0     1"
      ]
     },
     "execution_count": 187,
     "metadata": {},
     "output_type": "execute_result"
    }
   ],
   "source": [
    "bow"
   ]
  },
  {
   "cell_type": "code",
   "execution_count": 188,
   "metadata": {},
   "outputs": [
    {
     "data": {
      "text/plain": [
       "['this is first sentence this is', 'this is second', 'this is last']"
      ]
     },
     "execution_count": 188,
     "metadata": {},
     "output_type": "execute_result"
    }
   ],
   "source": [
    "x"
   ]
  },
  {
   "cell_type": "markdown",
   "metadata": {},
   "source": [
    "### Term Frequency- is simply the ratio of the word present in a sentence, to the length of the sentence."
   ]
  },
  {
   "cell_type": "code",
   "execution_count": 189,
   "metadata": {},
   "outputs": [
    {
     "data": {
      "text/plain": [
       "['this is first sentence this is', 'this is second', 'this is last']"
      ]
     },
     "execution_count": 189,
     "metadata": {},
     "output_type": "execute_result"
    }
   ],
   "source": [
    "x"
   ]
  },
  {
   "cell_type": "code",
   "execution_count": 190,
   "metadata": {},
   "outputs": [
    {
     "data": {
      "text/html": [
       "<div>\n",
       "<style scoped>\n",
       "    .dataframe tbody tr th:only-of-type {\n",
       "        vertical-align: middle;\n",
       "    }\n",
       "\n",
       "    .dataframe tbody tr th {\n",
       "        vertical-align: top;\n",
       "    }\n",
       "\n",
       "    .dataframe thead th {\n",
       "        text-align: right;\n",
       "    }\n",
       "</style>\n",
       "<table border=\"1\" class=\"dataframe\">\n",
       "  <thead>\n",
       "    <tr style=\"text-align: right;\">\n",
       "      <th></th>\n",
       "      <th>first</th>\n",
       "      <th>is</th>\n",
       "      <th>last</th>\n",
       "      <th>second</th>\n",
       "      <th>sentence</th>\n",
       "      <th>this</th>\n",
       "    </tr>\n",
       "  </thead>\n",
       "  <tbody>\n",
       "    <tr>\n",
       "      <th>0</th>\n",
       "      <td>1</td>\n",
       "      <td>2</td>\n",
       "      <td>0</td>\n",
       "      <td>0</td>\n",
       "      <td>1</td>\n",
       "      <td>2</td>\n",
       "    </tr>\n",
       "    <tr>\n",
       "      <th>1</th>\n",
       "      <td>0</td>\n",
       "      <td>1</td>\n",
       "      <td>0</td>\n",
       "      <td>1</td>\n",
       "      <td>0</td>\n",
       "      <td>1</td>\n",
       "    </tr>\n",
       "    <tr>\n",
       "      <th>2</th>\n",
       "      <td>0</td>\n",
       "      <td>1</td>\n",
       "      <td>1</td>\n",
       "      <td>0</td>\n",
       "      <td>0</td>\n",
       "      <td>1</td>\n",
       "    </tr>\n",
       "  </tbody>\n",
       "</table>\n",
       "</div>"
      ],
      "text/plain": [
       "   first  is  last  second  sentence  this\n",
       "0      1   2     0       0         1     2\n",
       "1      0   1     0       1         0     1\n",
       "2      0   1     1       0         0     1"
      ]
     },
     "execution_count": 190,
     "metadata": {},
     "output_type": "execute_result"
    }
   ],
   "source": [
    "bow"
   ]
  },
  {
   "cell_type": "code",
   "execution_count": 191,
   "metadata": {},
   "outputs": [
    {
     "data": {
      "text/plain": [
       "(3, 6)"
      ]
     },
     "execution_count": 191,
     "metadata": {},
     "output_type": "execute_result"
    }
   ],
   "source": [
    "bow.shape"
   ]
  },
  {
   "cell_type": "markdown",
   "metadata": {},
   "source": [
    "this means, there are three rows and 6 columns"
   ]
  },
  {
   "cell_type": "code",
   "execution_count": 192,
   "metadata": {},
   "outputs": [],
   "source": [
    "tf = bow.copy()"
   ]
  },
  {
   "cell_type": "code",
   "execution_count": 193,
   "metadata": {},
   "outputs": [
    {
     "name": "stdout",
     "output_type": "stream",
     "text": [
      "first       1\n",
      "is          2\n",
      "last        0\n",
      "second      0\n",
      "sentence    1\n",
      "this        2\n",
      "Name: 0, dtype: int64\n",
      "first       0\n",
      "is          1\n",
      "last        0\n",
      "second      1\n",
      "sentence    0\n",
      "this        1\n",
      "Name: 1, dtype: int64\n",
      "first       0\n",
      "is          1\n",
      "last        1\n",
      "second      0\n",
      "sentence    0\n",
      "this        1\n",
      "Name: 2, dtype: int64\n"
     ]
    }
   ],
   "source": [
    "for row in bow.iterrows():\n",
    "    print(row[1])"
   ]
  },
  {
   "cell_type": "code",
   "execution_count": 196,
   "metadata": {},
   "outputs": [],
   "source": [
    "for index, row in enumerate(tf.iterrows()):\n",
    "    for col in row[1].index:\n",
    "        tf.loc[index, col]= tf.loc[index, col]/sum(row[1].values)"
   ]
  },
  {
   "cell_type": "code",
   "execution_count": 197,
   "metadata": {},
   "outputs": [
    {
     "data": {
      "text/html": [
       "<div>\n",
       "<style scoped>\n",
       "    .dataframe tbody tr th:only-of-type {\n",
       "        vertical-align: middle;\n",
       "    }\n",
       "\n",
       "    .dataframe tbody tr th {\n",
       "        vertical-align: top;\n",
       "    }\n",
       "\n",
       "    .dataframe thead th {\n",
       "        text-align: right;\n",
       "    }\n",
       "</style>\n",
       "<table border=\"1\" class=\"dataframe\">\n",
       "  <thead>\n",
       "    <tr style=\"text-align: right;\">\n",
       "      <th></th>\n",
       "      <th>first</th>\n",
       "      <th>is</th>\n",
       "      <th>last</th>\n",
       "      <th>second</th>\n",
       "      <th>sentence</th>\n",
       "      <th>this</th>\n",
       "    </tr>\n",
       "  </thead>\n",
       "  <tbody>\n",
       "    <tr>\n",
       "      <th>0</th>\n",
       "      <td>0.166667</td>\n",
       "      <td>0.333333</td>\n",
       "      <td>0.000000</td>\n",
       "      <td>0.000000</td>\n",
       "      <td>0.166667</td>\n",
       "      <td>0.333333</td>\n",
       "    </tr>\n",
       "    <tr>\n",
       "      <th>1</th>\n",
       "      <td>0.000000</td>\n",
       "      <td>0.333333</td>\n",
       "      <td>0.000000</td>\n",
       "      <td>0.333333</td>\n",
       "      <td>0.000000</td>\n",
       "      <td>0.333333</td>\n",
       "    </tr>\n",
       "    <tr>\n",
       "      <th>2</th>\n",
       "      <td>0.000000</td>\n",
       "      <td>0.333333</td>\n",
       "      <td>0.333333</td>\n",
       "      <td>0.000000</td>\n",
       "      <td>0.000000</td>\n",
       "      <td>0.333333</td>\n",
       "    </tr>\n",
       "  </tbody>\n",
       "</table>\n",
       "</div>"
      ],
      "text/plain": [
       "      first        is      last    second  sentence      this\n",
       "0  0.166667  0.333333  0.000000  0.000000  0.166667  0.333333\n",
       "1  0.000000  0.333333  0.000000  0.333333  0.000000  0.333333\n",
       "2  0.000000  0.333333  0.333333  0.000000  0.000000  0.333333"
      ]
     },
     "execution_count": 197,
     "metadata": {},
     "output_type": "execute_result"
    }
   ],
   "source": [
    "tf"
   ]
  },
  {
   "cell_type": "markdown",
   "metadata": {},
   "source": [
    "### Inverse document frequency(idf)"
   ]
  },
  {
   "cell_type": "markdown",
   "metadata": {},
   "source": [
    "idf = log((1 + N)/(n+1))+ 1 used in sklearn when smooth_idf=True\n",
    "where, N is the total number of rows and n is the number of rows in which the word was present."
   ]
  },
  {
   "cell_type": "code",
   "execution_count": 1,
   "metadata": {},
   "outputs": [],
   "source": [
    "import numpy as np"
   ]
  },
  {
   "cell_type": "code",
   "execution_count": 3,
   "metadata": {},
   "outputs": [],
   "source": [
    "# x_df = pd.DataFrame(x, columns=['words'])"
   ]
  },
  {
   "cell_type": "code",
   "execution_count": 4,
   "metadata": {},
   "outputs": [],
   "source": [
    "# x_df"
   ]
  },
  {
   "cell_type": "code",
   "execution_count": 6,
   "metadata": {},
   "outputs": [],
   "source": [
    "# bow"
   ]
  },
  {
   "cell_type": "code",
   "execution_count": 7,
   "metadata": {},
   "outputs": [],
   "source": [
    "# N = bow. shape[0]\n",
    "# N"
   ]
  },
  {
   "cell_type": "code",
   "execution_count": 8,
   "metadata": {},
   "outputs": [],
   "source": [
    "# bb = bow.astype('bool')\n",
    "# bb"
   ]
  },
  {
   "cell_type": "code",
   "execution_count": 9,
   "metadata": {},
   "outputs": [],
   "source": [
    "# bb['is'].sum()"
   ]
  },
  {
   "cell_type": "code",
   "execution_count": 10,
   "metadata": {},
   "outputs": [],
   "source": [
    "# cols = bb.columns\n",
    "# cols"
   ]
  },
  {
   "cell_type": "code",
   "execution_count": 11,
   "metadata": {},
   "outputs": [],
   "source": [
    "# nz = []\n",
    "# for col in cols:\n",
    "#    nz.append(bb[col].sum())"
   ]
  },
  {
   "cell_type": "code",
   "execution_count": 12,
   "metadata": {},
   "outputs": [],
   "source": [
    "# nz"
   ]
  },
  {
   "cell_type": "code",
   "execution_count": 13,
   "metadata": {},
   "outputs": [],
   "source": [
    "# idf = []\n",
    "# for index, col in enumerate(cols):\n",
    "#    nz.append(np.log((N + 1)/(nz[index] + 1))+ 1)"
   ]
  },
  {
   "cell_type": "code",
   "execution_count": 14,
   "metadata": {},
   "outputs": [],
   "source": [
    "# idf"
   ]
  },
  {
   "cell_type": "code",
   "execution_count": 15,
   "metadata": {},
   "outputs": [],
   "source": [
    "# bow"
   ]
  },
  {
   "cell_type": "markdown",
   "metadata": {},
   "source": [
    "### Term Frequency Inverse Document Frequency(TFIDF)"
   ]
  },
  {
   "cell_type": "code",
   "execution_count": 16,
   "metadata": {},
   "outputs": [],
   "source": [
    "#from sklearn.feature_extraction.text import TfidfVectorizer"
   ]
  },
  {
   "cell_type": "code",
   "execution_count": 19,
   "metadata": {},
   "outputs": [],
   "source": [
    "# tfidf = TfidfVectorizer()\n",
    "# x_tfidf = tfidf.fit_transform(x_df['words'])"
   ]
  },
  {
   "cell_type": "code",
   "execution_count": 20,
   "metadata": {},
   "outputs": [],
   "source": [
    "# x_tfidf.toarray()"
   ]
  },
  {
   "cell_type": "code",
   "execution_count": 21,
   "metadata": {},
   "outputs": [],
   "source": [
    "# tfidf.idf_"
   ]
  },
  {
   "cell_type": "markdown",
   "metadata": {},
   "source": [
    "### Word Embeddings"
   ]
  },
  {
   "cell_type": "markdown",
   "metadata": {},
   "source": [
    "### SpaCy Word2Vec"
   ]
  },
  {
   "cell_type": "code",
   "execution_count": 22,
   "metadata": {},
   "outputs": [
    {
     "name": "stdout",
     "output_type": "stream",
     "text": [
      "Collecting en_core_web_lg==2.2.5\n",
      "  Downloading https://github.com/explosion/spacy-models/releases/download/en_core_web_lg-2.2.5/en_core_web_lg-2.2.5.tar.gz (827.9 MB)\n"
     ]
    },
    {
     "name": "stderr",
     "output_type": "stream",
     "text": [
      "ERROR: Exception:\n",
      "Traceback (most recent call last):\n",
      "  File \"C:\\Users\\enny_\\Anaconda3\\lib\\site-packages\\pip\\_vendor\\urllib3\\response.py\", line 425, in _error_catcher\n",
      "    yield\n",
      "  File \"C:\\Users\\enny_\\Anaconda3\\lib\\site-packages\\pip\\_vendor\\urllib3\\response.py\", line 507, in read\n",
      "    data = self._fp.read(amt) if not fp_closed else b\"\"\n",
      "  File \"C:\\Users\\enny_\\Anaconda3\\lib\\http\\client.py\", line 449, in read\n",
      "    n = self.readinto(b)\n",
      "  File \"C:\\Users\\enny_\\Anaconda3\\lib\\http\\client.py\", line 493, in readinto\n",
      "    n = self.fp.readinto(b)\n",
      "  File \"C:\\Users\\enny_\\Anaconda3\\lib\\socket.py\", line 586, in readinto\n",
      "    return self._sock.recv_into(b)\n",
      "  File \"C:\\Users\\enny_\\Anaconda3\\lib\\ssl.py\", line 1009, in recv_into\n",
      "    return self.read(nbytes, buffer)\n",
      "  File \"C:\\Users\\enny_\\Anaconda3\\lib\\ssl.py\", line 871, in read\n",
      "    return self._sslobj.read(len, buffer)\n",
      "  File \"C:\\Users\\enny_\\Anaconda3\\lib\\ssl.py\", line 631, in read\n",
      "    v = self._sslobj.read(len, buffer)\n",
      "socket.timeout: The read operation timed out\n",
      "\n",
      "During handling of the above exception, another exception occurred:\n",
      "\n",
      "Traceback (most recent call last):\n",
      "  File \"C:\\Users\\enny_\\Anaconda3\\lib\\site-packages\\pip\\_internal\\cli\\base_command.py\", line 188, in _main\n",
      "    status = self.run(options, args)\n",
      "  File \"C:\\Users\\enny_\\Anaconda3\\lib\\site-packages\\pip\\_internal\\cli\\req_command.py\", line 185, in wrapper\n",
      "    return func(self, options, args)\n",
      "  File \"C:\\Users\\enny_\\Anaconda3\\lib\\site-packages\\pip\\_internal\\commands\\install.py\", line 333, in run\n",
      "    reqs, check_supported_wheels=not options.target_dir\n",
      "  File \"C:\\Users\\enny_\\Anaconda3\\lib\\site-packages\\pip\\_internal\\resolution\\legacy\\resolver.py\", line 179, in resolve\n",
      "    discovered_reqs.extend(self._resolve_one(requirement_set, req))\n",
      "  File \"C:\\Users\\enny_\\Anaconda3\\lib\\site-packages\\pip\\_internal\\resolution\\legacy\\resolver.py\", line 362, in _resolve_one\n",
      "    abstract_dist = self._get_abstract_dist_for(req_to_install)\n",
      "  File \"C:\\Users\\enny_\\Anaconda3\\lib\\site-packages\\pip\\_internal\\resolution\\legacy\\resolver.py\", line 314, in _get_abstract_dist_for\n",
      "    abstract_dist = self.preparer.prepare_linked_requirement(req)\n",
      "  File \"C:\\Users\\enny_\\Anaconda3\\lib\\site-packages\\pip\\_internal\\operations\\prepare.py\", line 469, in prepare_linked_requirement\n",
      "    hashes=hashes,\n",
      "  File \"C:\\Users\\enny_\\Anaconda3\\lib\\site-packages\\pip\\_internal\\operations\\prepare.py\", line 259, in unpack_url\n",
      "    hashes=hashes,\n",
      "  File \"C:\\Users\\enny_\\Anaconda3\\lib\\site-packages\\pip\\_internal\\operations\\prepare.py\", line 130, in get_http_url\n",
      "    link, downloader, temp_dir.path, hashes\n",
      "  File \"C:\\Users\\enny_\\Anaconda3\\lib\\site-packages\\pip\\_internal\\operations\\prepare.py\", line 281, in _download_http_url\n",
      "    for chunk in download.chunks:\n",
      "  File \"C:\\Users\\enny_\\Anaconda3\\lib\\site-packages\\pip\\_internal\\cli\\progress_bars.py\", line 166, in iter\n",
      "    for x in it:\n",
      "  File \"C:\\Users\\enny_\\Anaconda3\\lib\\site-packages\\pip\\_internal\\network\\utils.py\", line 39, in response_chunks\n",
      "    decode_content=False,\n",
      "  File \"C:\\Users\\enny_\\Anaconda3\\lib\\site-packages\\pip\\_vendor\\urllib3\\response.py\", line 564, in stream\n",
      "    data = self.read(amt=amt, decode_content=decode_content)\n",
      "  File \"C:\\Users\\enny_\\Anaconda3\\lib\\site-packages\\pip\\_vendor\\urllib3\\response.py\", line 529, in read\n",
      "    raise IncompleteRead(self._fp_bytes_read, self.length_remaining)\n",
      "  File \"C:\\Users\\enny_\\Anaconda3\\lib\\contextlib.py\", line 99, in __exit__\n",
      "    self.gen.throw(type, value, traceback)\n",
      "  File \"C:\\Users\\enny_\\Anaconda3\\lib\\site-packages\\pip\\_vendor\\urllib3\\response.py\", line 430, in _error_catcher\n",
      "    raise ReadTimeoutError(self._pool, None, \"Read timed out.\")\n",
      "pip._vendor.urllib3.exceptions.ReadTimeoutError: HTTPSConnectionPool(host='github-production-release-asset-2e65be.s3.amazonaws.com', port=443): Read timed out.\n"
     ]
    }
   ],
   "source": [
    "!python -m spacy download en_core_web_lg"
   ]
  },
  {
   "cell_type": "code",
   "execution_count": 24,
   "metadata": {},
   "outputs": [],
   "source": [
    "# nlp = spacy.load('en_core_web_lg')"
   ]
  },
  {
   "cell_type": "code",
   "execution_count": 25,
   "metadata": {},
   "outputs": [],
   "source": [
    "# doc = nlp('thank you! welcome. dog cat lion dfasaa')"
   ]
  },
  {
   "cell_type": "code",
   "execution_count": 26,
   "metadata": {},
   "outputs": [],
   "source": [
    "# for token in doc:\n",
    "# print(token.text, token.has_vector)"
   ]
  },
  {
   "cell_type": "markdown",
   "metadata": {},
   "source": [
    "### ML Models for Text Classification"
   ]
  },
  {
   "cell_type": "code",
   "execution_count": null,
   "metadata": {},
   "outputs": [],
   "source": []
  }
 ],
 "metadata": {
  "kernelspec": {
   "display_name": "Python 3 (ipykernel)",
   "language": "python",
   "name": "python3"
  },
  "language_info": {
   "codemirror_mode": {
    "name": "ipython",
    "version": 3
   },
   "file_extension": ".py",
   "mimetype": "text/x-python",
   "name": "python",
   "nbconvert_exporter": "python",
   "pygments_lexer": "ipython3",
   "version": "3.9.7"
  }
 },
 "nbformat": 4,
 "nbformat_minor": 2
}
